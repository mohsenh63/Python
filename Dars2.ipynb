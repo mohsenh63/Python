{
 "cells": [
  {
   "cell_type": "code",
   "execution_count": 13,
   "metadata": {},
   "outputs": [],
   "source": [
    "def tavan_se(adad):\n",
    "    \"\"\"Mohasabeye tavan sevvom adade vorodi\"\"\"\n",
    "    t = adad * adad * adad\n",
    "    return t"
   ]
  },
  {
   "cell_type": "code",
   "execution_count": 18,
   "metadata": {},
   "outputs": [
    {
     "name": "stdout",
     "output_type": "stream",
     "text": [
      ">5\n"
     ]
    },
    {
     "data": {
      "text/plain": [
       "125"
      ]
     },
     "execution_count": 18,
     "metadata": {},
     "output_type": "execute_result"
    }
   ],
   "source": [
    "tavan_se(int(input('>')))"
   ]
  },
  {
   "cell_type": "code",
   "execution_count": null,
   "metadata": {},
   "outputs": [],
   "source": []
  },
  {
   "cell_type": "code",
   "execution_count": 15,
   "metadata": {},
   "outputs": [
    {
     "ename": "NameError",
     "evalue": "name 't' is not defined",
     "output_type": "error",
     "traceback": [
      "\u001b[1;31m---------------------------------------------------------------------------\u001b[0m",
      "\u001b[1;31mNameError\u001b[0m                                 Traceback (most recent call last)",
      "\u001b[1;32m<ipython-input-15-34fc7a11cb38>\u001b[0m in \u001b[0;36m<module>\u001b[1;34m\u001b[0m\n\u001b[1;32m----> 1\u001b[1;33m \u001b[0mt\u001b[0m\u001b[1;33m\u001b[0m\u001b[0m\n\u001b[0m",
      "\u001b[1;31mNameError\u001b[0m: name 't' is not defined"
     ]
    }
   ],
   "source": [
    "t"
   ]
  },
  {
   "cell_type": "code",
   "execution_count": 6,
   "metadata": {},
   "outputs": [
    {
     "name": "stdout",
     "output_type": "stream",
     "text": [
      "343\n"
     ]
    }
   ],
   "source": [
    "a = tavan_se(7)\n",
    "print(a)"
   ]
  },
  {
   "cell_type": "code",
   "execution_count": 8,
   "metadata": {},
   "outputs": [
    {
     "data": {
      "text/plain": [
       "1.728"
      ]
     },
     "execution_count": 8,
     "metadata": {},
     "output_type": "execute_result"
    }
   ],
   "source": [
    "tavan_se(1.2)"
   ]
  },
  {
   "cell_type": "code",
   "execution_count": 10,
   "metadata": {},
   "outputs": [
    {
     "ename": "TypeError",
     "evalue": "can't multiply sequence by non-int of type 'str'",
     "output_type": "error",
     "traceback": [
      "\u001b[1;31m---------------------------------------------------------------------------\u001b[0m",
      "\u001b[1;31mTypeError\u001b[0m                                 Traceback (most recent call last)",
      "\u001b[1;32m<ipython-input-10-259ea0615595>\u001b[0m in \u001b[0;36m<module>\u001b[1;34m\u001b[0m\n\u001b[1;32m----> 1\u001b[1;33m \u001b[0mtavan_se\u001b[0m\u001b[1;33m(\u001b[0m\u001b[1;34m'salam'\u001b[0m\u001b[1;33m)\u001b[0m\u001b[1;33m\u001b[0m\u001b[0m\n\u001b[0m",
      "\u001b[1;32m<ipython-input-1-ec8c17eb9359>\u001b[0m in \u001b[0;36mtavan_se\u001b[1;34m(adad)\u001b[0m\n\u001b[0;32m      1\u001b[0m \u001b[1;32mdef\u001b[0m \u001b[0mtavan_se\u001b[0m\u001b[1;33m(\u001b[0m\u001b[0madad\u001b[0m\u001b[1;33m)\u001b[0m\u001b[1;33m:\u001b[0m\u001b[1;33m\u001b[0m\u001b[0m\n\u001b[0;32m      2\u001b[0m     \u001b[1;34m\"\"\"Mohasabeye tavan sevvom adade vorodi\"\"\"\u001b[0m\u001b[1;33m\u001b[0m\u001b[0m\n\u001b[1;32m----> 3\u001b[1;33m     \u001b[1;32mreturn\u001b[0m \u001b[0madad\u001b[0m \u001b[1;33m*\u001b[0m \u001b[0madad\u001b[0m \u001b[1;33m*\u001b[0m \u001b[0madad\u001b[0m\u001b[1;33m\u001b[0m\u001b[0m\n\u001b[0m",
      "\u001b[1;31mTypeError\u001b[0m: can't multiply sequence by non-int of type 'str'"
     ]
    }
   ],
   "source": [
    "tavan_se('salam')"
   ]
  },
  {
   "cell_type": "code",
   "execution_count": 17,
   "metadata": {},
   "outputs": [],
   "source": [
    "tavan_se?"
   ]
  },
  {
   "cell_type": "code",
   "execution_count": 19,
   "metadata": {},
   "outputs": [],
   "source": [
    "tavan_se??"
   ]
  },
  {
   "cell_type": "code",
   "execution_count": 21,
   "metadata": {},
   "outputs": [],
   "source": [
    "def do_bar_chap(jomle):\n",
    "    \"\"\"do bar chap reshteye vorodi\"\"\"\n",
    "    print(jomle)\n",
    "    print(jomle)"
   ]
  },
  {
   "cell_type": "code",
   "execution_count": 22,
   "metadata": {},
   "outputs": [
    {
     "name": "stdout",
     "output_type": "stream",
     "text": [
      "AchiMachiLaTarachi ...\n",
      "AchiMachiLaTarachi ...\n"
     ]
    }
   ],
   "source": [
    "do_bar_chap('AchiMachiLaTarachi ...')"
   ]
  },
  {
   "cell_type": "code",
   "execution_count": 26,
   "metadata": {},
   "outputs": [
    {
     "name": "stdout",
     "output_type": "stream",
     "text": [
      "AchiMachiLaTarachi ...\n",
      "AchiMachiLaTarachi ...\n",
      "None\n"
     ]
    }
   ],
   "source": [
    "b = do_bar_chap('AchiMachiLaTarachi ...')\n",
    "print(b)"
   ]
  },
  {
   "cell_type": "markdown",
   "metadata": {},
   "source": [
    "وقتی تابع مقدار برگردان\n",
    "\n",
    "return\n",
    "\n",
    "نداشته باشد چیزی را در متغیر نمی‌ریزد. همانند مثال بالا"
   ]
  },
  {
   "cell_type": "code",
   "execution_count": null,
   "metadata": {},
   "outputs": [],
   "source": []
  },
  {
   "cell_type": "code",
   "execution_count": 48,
   "metadata": {},
   "outputs": [
    {
     "name": "stdout",
     "output_type": "stream",
     "text": [
      "Baz sho konjed!\n",
      "Baz sho konjed!\n",
      "Baz sho konjed!\n",
      "Baz sho konjed!\n"
     ]
    }
   ],
   "source": [
    "def n_bar_chap(jomle, n):\n",
    "    \"\"\"be tedat vorodi n, n bar chap reshteye vorodi\"\"\"\n",
    "    for i in range(n):\n",
    "        print(jomle)\n",
    "        \n",
    "n_bar_chap('Baz sho konjed!', 4)"
   ]
  },
  {
   "cell_type": "code",
   "execution_count": 34,
   "metadata": {},
   "outputs": [
    {
     "name": "stdout",
     "output_type": "stream",
     "text": [
      "Varzesh kon!\n",
      "Varzesh kon!\n",
      "Varzesh kon!\n",
      "Varzesh kon!\n",
      "Varzesh kon!\n",
      "\n"
     ]
    }
   ],
   "source": [
    "def n_bar_chap2(jomle, n):\n",
    "    \"\"\"be tedat vorodi n, n bar chap reshteye vorodi\"\"\"\n",
    "    print((jomle + '\\n') * n)\n",
    "        \n",
    "n_bar_chap2('Varzesh kon!', 5)"
   ]
  },
  {
   "cell_type": "code",
   "execution_count": 46,
   "metadata": {},
   "outputs": [],
   "source": [
    "def ettesal_dotayee(bakhsh1, bakhsh2):\n",
    "    ettesal = bakhsh1 + ' ' + bakhsh2\n",
    "    return ettesal"
   ]
  },
  {
   "cell_type": "code",
   "execution_count": 47,
   "metadata": {},
   "outputs": [
    {
     "name": "stdout",
     "output_type": "stream",
     "text": [
      "Iraj Afshar\n"
     ]
    }
   ],
   "source": [
    "print(ettesal_dotayee('Iraj', 'Afshar'))"
   ]
  },
  {
   "cell_type": "code",
   "execution_count": 49,
   "metadata": {},
   "outputs": [
    {
     "ename": "NameError",
     "evalue": "name 'ettesal' is not defined",
     "output_type": "error",
     "traceback": [
      "\u001b[1;31m---------------------------------------------------------------------------\u001b[0m",
      "\u001b[1;31mNameError\u001b[0m                                 Traceback (most recent call last)",
      "\u001b[1;32m<ipython-input-49-1dba63f5de86>\u001b[0m in \u001b[0;36m<module>\u001b[1;34m\u001b[0m\n\u001b[1;32m----> 1\u001b[1;33m \u001b[0mprint\u001b[0m\u001b[1;33m(\u001b[0m\u001b[0mettesal\u001b[0m\u001b[1;33m)\u001b[0m\u001b[1;33m\u001b[0m\u001b[0m\n\u001b[0m",
      "\u001b[1;31mNameError\u001b[0m: name 'ettesal' is not defined"
     ]
    }
   ],
   "source": [
    "print(ettesal)"
   ]
  },
  {
   "cell_type": "code",
   "execution_count": 50,
   "metadata": {},
   "outputs": [],
   "source": [
    "def masaht_mostatil(tool, arz):\n",
    "    masahat = tool * arz\n",
    "    return masahat"
   ]
  },
  {
   "cell_type": "code",
   "execution_count": 52,
   "metadata": {},
   "outputs": [
    {
     "name": "stdout",
     "output_type": "stream",
     "text": [
      "masahat barabar ba  20\n"
     ]
    }
   ],
   "source": [
    "m = masaht_mostatil(5, 4)\n",
    "print('masahat barabar ba ', m)"
   ]
  },
  {
   "cell_type": "code",
   "execution_count": 53,
   "metadata": {},
   "outputs": [],
   "source": [
    "def masaht_mohit_mostatil(tool, arz):\n",
    "    masahat = tool * arz\n",
    "    mohit = (tool + arz ) * 2\n",
    "    return masahat, mohit"
   ]
  },
  {
   "cell_type": "code",
   "execution_count": 57,
   "metadata": {},
   "outputs": [
    {
     "name": "stdout",
     "output_type": "stream",
     "text": [
      "20\n",
      "18\n"
     ]
    }
   ],
   "source": [
    "t = 5\n",
    "a = 4\n",
    "ma, mo = masaht_mohit_mostatil(t, a)\n",
    "print(ma)\n",
    "print(mo)"
   ]
  },
  {
   "cell_type": "code",
   "execution_count": 60,
   "metadata": {},
   "outputs": [
    {
     "data": {
      "text/plain": [
       "(2, 3.14, 6.28)"
      ]
     },
     "execution_count": 60,
     "metadata": {},
     "output_type": "execute_result"
    }
   ],
   "source": [
    "def masaht_mohit_dayere(s):\n",
    "    qo = s * 2\n",
    "    ma = 3.14 * s ** 2\n",
    "    mo = 3.14 * 2 * s\n",
    "    return qo, ma, mo\n",
    "sh = 1\n",
    "masaht_mohit_dayere(sh)"
   ]
  },
  {
   "cell_type": "code",
   "execution_count": 62,
   "metadata": {},
   "outputs": [
    {
     "data": {
      "text/plain": [
       "(2, 3.141592653589793, 6.283185307179586)"
      ]
     },
     "execution_count": 62,
     "metadata": {},
     "output_type": "execute_result"
    }
   ],
   "source": [
    "def masaht_mohit_dayere(s):\n",
    "    qo = s * 2\n",
    "    ma = math.pi * s ** 2\n",
    "    mo = math.pi * 2 * s\n",
    "    return qo, ma, mo\n",
    "import math\n",
    "sh = 1\n",
    "masaht_mohit_dayere(sh)"
   ]
  },
  {
   "cell_type": "code",
   "execution_count": 65,
   "metadata": {},
   "outputs": [],
   "source": [
    "def masaht_mohit_dayere2(s):\n",
    "    if s > 0:\n",
    "        qo = s * 2\n",
    "        ma = math.pi * s ** 2\n",
    "        mo = math.pi * 2 * s\n",
    "        return qo, ma, mo\n",
    "import math\n",
    "sh = -1\n",
    "masaht_mohit_dayere2(sh)"
   ]
  },
  {
   "cell_type": "code",
   "execution_count": 67,
   "metadata": {},
   "outputs": [
    {
     "name": "stdout",
     "output_type": "stream",
     "text": [
      "Aqa Khanom! yek paye majra milangad!\n"
     ]
    }
   ],
   "source": [
    "def masaht_mohit_dayere2(s):\n",
    "    if s >= 0:\n",
    "        qo = s * 2\n",
    "        ma = math.pi * s ** 2\n",
    "        mo = math.pi * 2 * s\n",
    "        return qo, ma, mo\n",
    "    else:\n",
    "        print('Aqa Khanom! yek paye majra milangad!')\n",
    "        return None\n",
    "import math\n",
    "sh = -1\n",
    "masaht_mohit_dayere2(sh)"
   ]
  },
  {
   "cell_type": "code",
   "execution_count": 73,
   "metadata": {},
   "outputs": [
    {
     "name": "stdout",
     "output_type": "stream",
     "text": [
      "Aqa Khanom! yek paye majra milangad!\n"
     ]
    }
   ],
   "source": [
    "def masaht_mohit_dayere2(s):\n",
    "    if s < 0:\n",
    "        print('Aqa Khanom! yek paye majra milangad!')\n",
    "    else:    \n",
    "        qo = s * 2\n",
    "        ma = math.pi * s ** 2\n",
    "        mo = math.pi * 2 * s\n",
    "        return qo, ma, mo\n",
    "  \n",
    "        \n",
    "import math\n",
    "sh = -1\n",
    "masaht_mohit_dayere2(sh)"
   ]
  },
  {
   "cell_type": "code",
   "execution_count": 74,
   "metadata": {},
   "outputs": [],
   "source": [
    "def masaht_mohit_dayere3(s):\n",
    "    if s < 0:\n",
    "        print('Aqa Khanom! yek paye majra milangad!')\n",
    "        return None\n",
    "    qo = s * 2\n",
    "    ma = math.pi * s ** 2\n",
    "    mo = math.pi * 2 * s\n",
    "    return qo, ma, mo\n",
    "    \n",
    "        \n"
   ]
  },
  {
   "cell_type": "code",
   "execution_count": 76,
   "metadata": {},
   "outputs": [
    {
     "name": "stdout",
     "output_type": "stream",
     "text": [
      "Aqa Khanom! yek paye majra milangad!\n"
     ]
    }
   ],
   "source": [
    "import math\n",
    "sh = -1\n",
    "masaht_mohit_dayere3(sh)"
   ]
  },
  {
   "cell_type": "code",
   "execution_count": 82,
   "metadata": {},
   "outputs": [
    {
     "name": "stdout",
     "output_type": "stream",
     "text": [
      " shoae :  -4  be tartib qotr, masahat, mohit:  Aqa Khanom! yek paye majra milangad!\n",
      "None\n",
      " shoae :  -2  be tartib qotr, masahat, mohit:  Aqa Khanom! yek paye majra milangad!\n",
      "None\n",
      " shoae :  0  be tartib qotr, masahat, mohit:  (0, 0.0, 0.0)\n",
      " shoae :  2  be tartib qotr, masahat, mohit:  (4, 12.566370614359172, 12.566370614359172)\n",
      " shoae :  4  be tartib qotr, masahat, mohit:  (8, 50.26548245743669, 25.132741228718345)\n",
      " shoae :  6  be tartib qotr, masahat, mohit:  (12, 113.09733552923255, 37.69911184307752)\n",
      " shoae :  8  be tartib qotr, masahat, mohit:  (16, 201.06192982974676, 50.26548245743669)\n",
      " shoae :  10  be tartib qotr, masahat, mohit:  (20, 314.1592653589793, 62.83185307179586)\n"
     ]
    }
   ],
   "source": [
    "import math\n",
    "for i in range(-4, 11, 2):\n",
    "    print(' shoae : ', i, ' be tartib qotr, masahat, mohit: ', end =' ')\n",
    "    print(masaht_mohit_dayere3(i))\n"
   ]
  },
  {
   "cell_type": "code",
   "execution_count": 84,
   "metadata": {},
   "outputs": [],
   "source": [
    "def masaht_mohit_dayere4(s):\n",
    "    if s < 0:\n",
    "         return 'Aqa Khanom! yek paye majra milangad!'\n",
    "    qo = s * 2\n",
    "    ma = math.pi * s ** 2\n",
    "    mo = math.pi * 2 * s\n",
    "    return qo, ma, mo"
   ]
  },
  {
   "cell_type": "code",
   "execution_count": 85,
   "metadata": {},
   "outputs": [
    {
     "name": "stdout",
     "output_type": "stream",
     "text": [
      " shoae :  -4  be tartib qotr, masahat, mohit:  Aqa Khanom! yek paye majra milangad!\n",
      " shoae :  -2  be tartib qotr, masahat, mohit:  Aqa Khanom! yek paye majra milangad!\n",
      " shoae :  0  be tartib qotr, masahat, mohit:  (0, 0.0, 0.0)\n",
      " shoae :  2  be tartib qotr, masahat, mohit:  (4, 12.566370614359172, 12.566370614359172)\n",
      " shoae :  4  be tartib qotr, masahat, mohit:  (8, 50.26548245743669, 25.132741228718345)\n",
      " shoae :  6  be tartib qotr, masahat, mohit:  (12, 113.09733552923255, 37.69911184307752)\n",
      " shoae :  8  be tartib qotr, masahat, mohit:  (16, 201.06192982974676, 50.26548245743669)\n",
      " shoae :  10  be tartib qotr, masahat, mohit:  (20, 314.1592653589793, 62.83185307179586)\n"
     ]
    }
   ],
   "source": [
    "import math\n",
    "for i in range(-4, 11, 2):\n",
    "    print(' shoae : ', i, ' be tartib qotr, masahat, mohit: ', end =' ')\n",
    "    print(masaht_mohit_dayere4(i))\n"
   ]
  },
  {
   "cell_type": "markdown",
   "metadata": {},
   "source": [
    "تمرین- تا دو رقم اعشار نشان می‌دهد"
   ]
  },
  {
   "cell_type": "code",
   "execution_count": 91,
   "metadata": {},
   "outputs": [
    {
     "data": {
      "text/plain": [
       "45.34"
      ]
     },
     "execution_count": 91,
     "metadata": {},
     "output_type": "execute_result"
    }
   ],
   "source": [
    "def qadr_motlaq(x):\n",
    "    \"\"\"mohasebeye qadr motlaq\"\"\"\n",
    "    if x > 0:\n",
    "        return x\n",
    "    else:\n",
    "        return -x\n",
    "qadr_motlaq(-45.34)"
   ]
  },
  {
   "cell_type": "code",
   "execution_count": null,
   "metadata": {},
   "outputs": [],
   "source": []
  }
 ],
 "metadata": {
  "kernelspec": {
   "display_name": "Python 3",
   "language": "python",
   "name": "python3"
  },
  "language_info": {
   "codemirror_mode": {
    "name": "ipython",
    "version": 3
   },
   "file_extension": ".py",
   "mimetype": "text/x-python",
   "name": "python",
   "nbconvert_exporter": "python",
   "pygments_lexer": "ipython3",
   "version": "3.6.2"
  }
 },
 "nbformat": 4,
 "nbformat_minor": 4
}
