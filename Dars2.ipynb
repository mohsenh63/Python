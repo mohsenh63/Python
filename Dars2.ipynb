{
 "cells": [
  {
   "cell_type": "code",
   "execution_count": 13,
   "metadata": {},
   "outputs": [],
   "source": [
    "def tavan_se(adad):\n",
    "    \"\"\"Mohasabeye tavan sevvom adade vorodi\"\"\"\n",
    "    t = adad * adad * adad\n",
    "    return t"
   ]
  },
  {
   "cell_type": "code",
   "execution_count": null,
   "metadata": {},
   "outputs": [],
   "source": []
  },
  {
   "cell_type": "code",
   "execution_count": 18,
   "metadata": {},
   "outputs": [
    {
     "name": "stdout",
     "output_type": "stream",
     "text": [
      ">5\n"
     ]
    },
    {
     "data": {
      "text/plain": [
       "125"
      ]
     },
     "execution_count": 18,
     "metadata": {},
     "output_type": "execute_result"
    }
   ],
   "source": [
    "tavan_se(int(input('>')))"
   ]
  },
  {
   "cell_type": "code",
   "execution_count": null,
   "metadata": {},
   "outputs": [],
   "source": []
  },
  {
   "cell_type": "code",
   "execution_count": 15,
   "metadata": {},
   "outputs": [
    {
     "ename": "NameError",
     "evalue": "name 't' is not defined",
     "output_type": "error",
     "traceback": [
      "\u001b[1;31m---------------------------------------------------------------------------\u001b[0m",
      "\u001b[1;31mNameError\u001b[0m                                 Traceback (most recent call last)",
      "\u001b[1;32m<ipython-input-15-34fc7a11cb38>\u001b[0m in \u001b[0;36m<module>\u001b[1;34m\u001b[0m\n\u001b[1;32m----> 1\u001b[1;33m \u001b[0mt\u001b[0m\u001b[1;33m\u001b[0m\u001b[0m\n\u001b[0m",
      "\u001b[1;31mNameError\u001b[0m: name 't' is not defined"
     ]
    }
   ],
   "source": [
    "t"
   ]
  },
  {
   "cell_type": "code",
   "execution_count": 6,
   "metadata": {},
   "outputs": [
    {
     "name": "stdout",
     "output_type": "stream",
     "text": [
      "343\n"
     ]
    }
   ],
   "source": [
    "a = tavan_se(7)\n",
    "print(a)"
   ]
  },
  {
   "cell_type": "code",
   "execution_count": 8,
   "metadata": {},
   "outputs": [
    {
     "data": {
      "text/plain": [
       "1.728"
      ]
     },
     "execution_count": 8,
     "metadata": {},
     "output_type": "execute_result"
    }
   ],
   "source": [
    "tavan_se(1.2)"
   ]
  },
  {
   "cell_type": "code",
   "execution_count": 10,
   "metadata": {},
   "outputs": [
    {
     "ename": "TypeError",
     "evalue": "can't multiply sequence by non-int of type 'str'",
     "output_type": "error",
     "traceback": [
      "\u001b[1;31m---------------------------------------------------------------------------\u001b[0m",
      "\u001b[1;31mTypeError\u001b[0m                                 Traceback (most recent call last)",
      "\u001b[1;32m<ipython-input-10-259ea0615595>\u001b[0m in \u001b[0;36m<module>\u001b[1;34m\u001b[0m\n\u001b[1;32m----> 1\u001b[1;33m \u001b[0mtavan_se\u001b[0m\u001b[1;33m(\u001b[0m\u001b[1;34m'salam'\u001b[0m\u001b[1;33m)\u001b[0m\u001b[1;33m\u001b[0m\u001b[0m\n\u001b[0m",
      "\u001b[1;32m<ipython-input-1-ec8c17eb9359>\u001b[0m in \u001b[0;36mtavan_se\u001b[1;34m(adad)\u001b[0m\n\u001b[0;32m      1\u001b[0m \u001b[1;32mdef\u001b[0m \u001b[0mtavan_se\u001b[0m\u001b[1;33m(\u001b[0m\u001b[0madad\u001b[0m\u001b[1;33m)\u001b[0m\u001b[1;33m:\u001b[0m\u001b[1;33m\u001b[0m\u001b[0m\n\u001b[0;32m      2\u001b[0m     \u001b[1;34m\"\"\"Mohasabeye tavan sevvom adade vorodi\"\"\"\u001b[0m\u001b[1;33m\u001b[0m\u001b[0m\n\u001b[1;32m----> 3\u001b[1;33m     \u001b[1;32mreturn\u001b[0m \u001b[0madad\u001b[0m \u001b[1;33m*\u001b[0m \u001b[0madad\u001b[0m \u001b[1;33m*\u001b[0m \u001b[0madad\u001b[0m\u001b[1;33m\u001b[0m\u001b[0m\n\u001b[0m",
      "\u001b[1;31mTypeError\u001b[0m: can't multiply sequence by non-int of type 'str'"
     ]
    }
   ],
   "source": [
    "tavan_se('salam')"
   ]
  },
  {
   "cell_type": "code",
   "execution_count": 17,
   "metadata": {},
   "outputs": [],
   "source": [
    "tavan_se?"
   ]
  },
  {
   "cell_type": "code",
   "execution_count": 19,
   "metadata": {},
   "outputs": [],
   "source": [
    "tavan_se??"
   ]
  },
  {
   "cell_type": "code",
   "execution_count": 21,
   "metadata": {},
   "outputs": [],
   "source": [
    "def do_bar_chap(jomle):\n",
    "    \"\"\"do bar chap reshteye vorodi\"\"\"\n",
    "    print(jomle)\n",
    "    print(jomle)"
   ]
  },
  {
   "cell_type": "code",
   "execution_count": 22,
   "metadata": {},
   "outputs": [
    {
     "name": "stdout",
     "output_type": "stream",
     "text": [
      "AchiMachiLaTarachi ...\n",
      "AchiMachiLaTarachi ...\n"
     ]
    }
   ],
   "source": [
    "do_bar_chap('AchiMachiLaTarachi ...')"
   ]
  },
  {
   "cell_type": "code",
   "execution_count": 26,
   "metadata": {},
   "outputs": [
    {
     "name": "stdout",
     "output_type": "stream",
     "text": [
      "AchiMachiLaTarachi ...\n",
      "AchiMachiLaTarachi ...\n",
      "None\n"
     ]
    }
   ],
   "source": [
    "b = do_bar_chap('AchiMachiLaTarachi ...')\n",
    "print(b)"
   ]
  },
  {
   "cell_type": "markdown",
   "metadata": {},
   "source": [
    "وقتی تابع مقدار برگردان\n",
    "\n",
    "return\n",
    "\n",
    "نداشته باشد چیزی را در متغیر نمی‌ریزد. همانند مثال بالا"
   ]
  },
  {
   "cell_type": "code",
   "execution_count": null,
   "metadata": {},
   "outputs": [],
   "source": []
  },
  {
   "cell_type": "code",
   "execution_count": 48,
   "metadata": {},
   "outputs": [
    {
     "name": "stdout",
     "output_type": "stream",
     "text": [
      "Baz sho konjed!\n",
      "Baz sho konjed!\n",
      "Baz sho konjed!\n",
      "Baz sho konjed!\n"
     ]
    }
   ],
   "source": [
    "def n_bar_chap(jomle, n):\n",
    "    \"\"\"be tedat vorodi n, n bar chap reshteye vorodi\"\"\"\n",
    "    for i in range(n):\n",
    "        print(jomle)\n",
    "        \n",
    "n_bar_chap('Baz sho konjed!', 4)"
   ]
  },
  {
   "cell_type": "code",
   "execution_count": 34,
   "metadata": {},
   "outputs": [
    {
     "name": "stdout",
     "output_type": "stream",
     "text": [
      "Varzesh kon!\n",
      "Varzesh kon!\n",
      "Varzesh kon!\n",
      "Varzesh kon!\n",
      "Varzesh kon!\n",
      "\n"
     ]
    }
   ],
   "source": [
    "def n_bar_chap2(jomle, n):\n",
    "    \"\"\"be tedat vorodi n, n bar chap reshteye vorodi\"\"\"\n",
    "    print((jomle + '\\n') * n)\n",
    "        \n",
    "n_bar_chap2('Varzesh kon!', 5)"
   ]
  },
  {
   "cell_type": "code",
   "execution_count": 46,
   "metadata": {},
   "outputs": [],
   "source": [
    "def ettesal_dotayee(bakhsh1, bakhsh2):\n",
    "    ettesal = bakhsh1 + ' ' + bakhsh2\n",
    "    return ettesal"
   ]
  },
  {
   "cell_type": "code",
   "execution_count": 47,
   "metadata": {},
   "outputs": [
    {
     "name": "stdout",
     "output_type": "stream",
     "text": [
      "Iraj Afshar\n"
     ]
    }
   ],
   "source": [
    "print(ettesal_dotayee('Iraj', 'Afshar'))"
   ]
  },
  {
   "cell_type": "code",
   "execution_count": 49,
   "metadata": {},
   "outputs": [
    {
     "ename": "NameError",
     "evalue": "name 'ettesal' is not defined",
     "output_type": "error",
     "traceback": [
      "\u001b[1;31m---------------------------------------------------------------------------\u001b[0m",
      "\u001b[1;31mNameError\u001b[0m                                 Traceback (most recent call last)",
      "\u001b[1;32m<ipython-input-49-1dba63f5de86>\u001b[0m in \u001b[0;36m<module>\u001b[1;34m\u001b[0m\n\u001b[1;32m----> 1\u001b[1;33m \u001b[0mprint\u001b[0m\u001b[1;33m(\u001b[0m\u001b[0mettesal\u001b[0m\u001b[1;33m)\u001b[0m\u001b[1;33m\u001b[0m\u001b[0m\n\u001b[0m",
      "\u001b[1;31mNameError\u001b[0m: name 'ettesal' is not defined"
     ]
    }
   ],
   "source": [
    "print(ettesal)"
   ]
  },
  {
   "cell_type": "code",
   "execution_count": 50,
   "metadata": {},
   "outputs": [],
   "source": [
    "def masaht_mostatil(tool, arz):\n",
    "    masahat = tool * arz\n",
    "    return masahat"
   ]
  },
  {
   "cell_type": "code",
   "execution_count": 52,
   "metadata": {},
   "outputs": [
    {
     "name": "stdout",
     "output_type": "stream",
     "text": [
      "masahat barabar ba  20\n"
     ]
    }
   ],
   "source": [
    "m = masaht_mostatil(5, 4)\n",
    "print('masahat barabar ba ', m)"
   ]
  },
  {
   "cell_type": "code",
   "execution_count": 53,
   "metadata": {},
   "outputs": [],
   "source": [
    "def masaht_mohit_mostatil(tool, arz):\n",
    "    masahat = tool * arz\n",
    "    mohit = (tool + arz ) * 2\n",
    "    return masahat, mohit"
   ]
  },
  {
   "cell_type": "code",
   "execution_count": 57,
   "metadata": {},
   "outputs": [
    {
     "name": "stdout",
     "output_type": "stream",
     "text": [
      "20\n",
      "18\n"
     ]
    }
   ],
   "source": [
    "t = 5\n",
    "a = 4\n",
    "ma, mo = masaht_mohit_mostatil(t, a)\n",
    "print(ma)\n",
    "print(mo)"
   ]
  },
  {
   "cell_type": "code",
   "execution_count": 60,
   "metadata": {},
   "outputs": [
    {
     "data": {
      "text/plain": [
       "(2, 3.14, 6.28)"
      ]
     },
     "execution_count": 60,
     "metadata": {},
     "output_type": "execute_result"
    }
   ],
   "source": [
    "def masaht_mohit_dayere(s):\n",
    "    qo = s * 2\n",
    "    ma = 3.14 * s ** 2\n",
    "    mo = 3.14 * 2 * s\n",
    "    return qo, ma, mo\n",
    "sh = 1\n",
    "masaht_mohit_dayere(sh)"
   ]
  },
  {
   "cell_type": "code",
   "execution_count": 62,
   "metadata": {},
   "outputs": [
    {
     "data": {
      "text/plain": [
       "(2, 3.141592653589793, 6.283185307179586)"
      ]
     },
     "execution_count": 62,
     "metadata": {},
     "output_type": "execute_result"
    }
   ],
   "source": [
    "def masaht_mohit_dayere(s):\n",
    "    qo = s * 2\n",
    "    ma = math.pi * s ** 2\n",
    "    mo = math.pi * 2 * s\n",
    "    return qo, ma, mo\n",
    "import math\n",
    "sh = 1\n",
    "masaht_mohit_dayere(sh)"
   ]
  },
  {
   "cell_type": "code",
   "execution_count": 65,
   "metadata": {},
   "outputs": [],
   "source": [
    "def masaht_mohit_dayere2(s):\n",
    "    if s > 0:\n",
    "        qo = s * 2\n",
    "        ma = math.pi * s ** 2\n",
    "        mo = math.pi * 2 * s\n",
    "        return qo, ma, mo\n",
    "import math\n",
    "sh = -1\n",
    "masaht_mohit_dayere2(sh)"
   ]
  },
  {
   "cell_type": "code",
   "execution_count": 67,
   "metadata": {},
   "outputs": [
    {
     "name": "stdout",
     "output_type": "stream",
     "text": [
      "Aqa Khanom! yek paye majra milangad!\n"
     ]
    }
   ],
   "source": [
    "def masaht_mohit_dayere2(s):\n",
    "    if s >= 0:\n",
    "        qo = s * 2\n",
    "        ma = math.pi * s ** 2\n",
    "        mo = math.pi * 2 * s\n",
    "        return qo, ma, mo\n",
    "    else:\n",
    "        print('Aqa Khanom! yek paye majra milangad!')\n",
    "        return None\n",
    "import math\n",
    "sh = -1\n",
    "masaht_mohit_dayere2(sh)"
   ]
  },
  {
   "cell_type": "code",
   "execution_count": 73,
   "metadata": {},
   "outputs": [
    {
     "name": "stdout",
     "output_type": "stream",
     "text": [
      "Aqa Khanom! yek paye majra milangad!\n"
     ]
    }
   ],
   "source": [
    "def masaht_mohit_dayere2(s):\n",
    "    if s < 0:\n",
    "        print('Aqa Khanom! yek paye majra milangad!')\n",
    "    else:    \n",
    "        qo = s * 2\n",
    "        ma = math.pi * s ** 2\n",
    "        mo = math.pi * 2 * s\n",
    "        return qo, ma, mo\n",
    "  \n",
    "        \n",
    "import math\n",
    "sh = -1\n",
    "masaht_mohit_dayere2(sh)"
   ]
  },
  {
   "cell_type": "code",
   "execution_count": 74,
   "metadata": {},
   "outputs": [],
   "source": [
    "def masaht_mohit_dayere3(s):\n",
    "    if s < 0:\n",
    "        print('Aqa Khanom! yek paye majra milangad!')\n",
    "        return None\n",
    "    qo = s * 2\n",
    "    ma = math.pi * s ** 2\n",
    "    mo = math.pi * 2 * s\n",
    "    return qo, ma, mo\n",
    "    \n",
    "        \n"
   ]
  },
  {
   "cell_type": "code",
   "execution_count": 76,
   "metadata": {},
   "outputs": [
    {
     "name": "stdout",
     "output_type": "stream",
     "text": [
      "Aqa Khanom! yek paye majra milangad!\n"
     ]
    }
   ],
   "source": [
    "import math\n",
    "sh = -1\n",
    "masaht_mohit_dayere3(sh)"
   ]
  },
  {
   "cell_type": "code",
   "execution_count": 82,
   "metadata": {},
   "outputs": [
    {
     "name": "stdout",
     "output_type": "stream",
     "text": [
      " shoae :  -4  be tartib qotr, masahat, mohit:  Aqa Khanom! yek paye majra milangad!\n",
      "None\n",
      " shoae :  -2  be tartib qotr, masahat, mohit:  Aqa Khanom! yek paye majra milangad!\n",
      "None\n",
      " shoae :  0  be tartib qotr, masahat, mohit:  (0, 0.0, 0.0)\n",
      " shoae :  2  be tartib qotr, masahat, mohit:  (4, 12.566370614359172, 12.566370614359172)\n",
      " shoae :  4  be tartib qotr, masahat, mohit:  (8, 50.26548245743669, 25.132741228718345)\n",
      " shoae :  6  be tartib qotr, masahat, mohit:  (12, 113.09733552923255, 37.69911184307752)\n",
      " shoae :  8  be tartib qotr, masahat, mohit:  (16, 201.06192982974676, 50.26548245743669)\n",
      " shoae :  10  be tartib qotr, masahat, mohit:  (20, 314.1592653589793, 62.83185307179586)\n"
     ]
    }
   ],
   "source": [
    "import math\n",
    "for i in range(-4, 11, 2):\n",
    "    print(' shoae : ', i, ' be tartib qotr, masahat, mohit: ', end =' ')\n",
    "    print(masaht_mohit_dayere3(i))\n"
   ]
  },
  {
   "cell_type": "code",
   "execution_count": 84,
   "metadata": {},
   "outputs": [],
   "source": [
    "def masaht_mohit_dayere4(s):\n",
    "    if s < 0:\n",
    "         return 'Aqa Khanom! yek paye majra milangad!'\n",
    "    qo = s * 2\n",
    "    ma = math.pi * s ** 2\n",
    "    mo = math.pi * 2 * s\n",
    "    return qo, ma, mo"
   ]
  },
  {
   "cell_type": "code",
   "execution_count": 85,
   "metadata": {},
   "outputs": [
    {
     "name": "stdout",
     "output_type": "stream",
     "text": [
      " shoae :  -4  be tartib qotr, masahat, mohit:  Aqa Khanom! yek paye majra milangad!\n",
      " shoae :  -2  be tartib qotr, masahat, mohit:  Aqa Khanom! yek paye majra milangad!\n",
      " shoae :  0  be tartib qotr, masahat, mohit:  (0, 0.0, 0.0)\n",
      " shoae :  2  be tartib qotr, masahat, mohit:  (4, 12.566370614359172, 12.566370614359172)\n",
      " shoae :  4  be tartib qotr, masahat, mohit:  (8, 50.26548245743669, 25.132741228718345)\n",
      " shoae :  6  be tartib qotr, masahat, mohit:  (12, 113.09733552923255, 37.69911184307752)\n",
      " shoae :  8  be tartib qotr, masahat, mohit:  (16, 201.06192982974676, 50.26548245743669)\n",
      " shoae :  10  be tartib qotr, masahat, mohit:  (20, 314.1592653589793, 62.83185307179586)\n"
     ]
    }
   ],
   "source": [
    "import math\n",
    "for i in range(-4, 11, 2):\n",
    "    print(' shoae : ', i, ' be tartib qotr, masahat, mohit: ', end =' ')\n",
    "    print(masaht_mohit_dayere4(i))\n"
   ]
  },
  {
   "cell_type": "markdown",
   "metadata": {},
   "source": [
    "تمرین- تا دو رقم اعشار نشان می‌دهد"
   ]
  },
  {
   "cell_type": "code",
   "execution_count": 91,
   "metadata": {},
   "outputs": [
    {
     "data": {
      "text/plain": [
       "45.34"
      ]
     },
     "execution_count": 91,
     "metadata": {},
     "output_type": "execute_result"
    }
   ],
   "source": [
    "def qadr_motlaq(x):\n",
    "    \"\"\"mohasebeye qadr motlaq\"\"\"\n",
    "    if x > 0:\n",
    "        return x\n",
    "    else:\n",
    "        return -x\n",
    "qadr_motlaq(-45.34)"
   ]
  },
  {
   "cell_type": "code",
   "execution_count": 5,
   "metadata": {},
   "outputs": [],
   "source": [
    "def fasele(x1, y1, x2, y2):\n",
    "    dx = x2 - x1\n",
    "    dy = y2 - y1\n",
    "    f_morabae = dx ** 2 + dy ** 2\n",
    "    f = math.sqrt(f_morabae)\n",
    "    return f"
   ]
  },
  {
   "cell_type": "code",
   "execution_count": 6,
   "metadata": {},
   "outputs": [
    {
     "data": {
      "text/plain": [
       "1.4142135623730951"
      ]
     },
     "execution_count": 6,
     "metadata": {},
     "output_type": "execute_result"
    }
   ],
   "source": [
    "import math\n",
    "fasele(0, 0, 1, 1)"
   ]
  },
  {
   "cell_type": "code",
   "execution_count": 16,
   "metadata": {},
   "outputs": [
    {
     "name": "stdout",
     "output_type": "stream",
     "text": [
      "[100, 1, -2]\n",
      "['Nasim', 'Reza', 'Mahshad', 'Elham', 'Azin']\n"
     ]
    }
   ],
   "source": [
    "a = [100, 1, -2]\n",
    "print(a)\n",
    "a = ['Nasim', 'Reza', 'Mahshad', 'Elham', 'Azin']\n",
    "\n",
    "print(a)"
   ]
  },
  {
   "cell_type": "code",
   "execution_count": 11,
   "metadata": {
    "scrolled": true
   },
   "outputs": [
    {
     "ename": "TypeError",
     "evalue": "unsupported operand type(s) for -: 'list' and 'list'",
     "output_type": "error",
     "traceback": [
      "\u001b[1;31m---------------------------------------------------------------------------\u001b[0m",
      "\u001b[1;31mTypeError\u001b[0m                                 Traceback (most recent call last)",
      "\u001b[1;32m<ipython-input-11-37d72e51bed6>\u001b[0m in \u001b[0;36m<module>\u001b[1;34m\u001b[0m\n\u001b[0;32m      3\u001b[0m \u001b[1;33m\u001b[0m\u001b[0m\n\u001b[0;32m      4\u001b[0m \u001b[1;33m\u001b[0m\u001b[0m\n\u001b[1;32m----> 5\u001b[1;33m \u001b[0mprint\u001b[0m\u001b[1;33m(\u001b[0m\u001b[0mx\u001b[0m \u001b[1;33m-\u001b[0m \u001b[0my\u001b[0m\u001b[1;33m)\u001b[0m\u001b[1;33m\u001b[0m\u001b[0m\n\u001b[0m",
      "\u001b[1;31mTypeError\u001b[0m: unsupported operand type(s) for -: 'list' and 'list'"
     ]
    }
   ],
   "source": [
    "x = [1 , 2, 3, 4, 12]\n",
    "y = [1 , 5, 6, 7, 1]\n",
    "\n",
    "\n",
    "print(x - y)"
   ]
  },
  {
   "cell_type": "code",
   "execution_count": 30,
   "metadata": {},
   "outputs": [
    {
     "name": "stdout",
     "output_type": "stream",
     "text": [
      "[0, 0, 0, 0, 0]\n",
      "1  ,  1\n",
      "2  ,  5\n",
      "3  ,  6\n",
      "4  ,  7\n",
      "12  ,  1\n"
     ]
    }
   ],
   "source": [
    "x = [1 , 2, 3, 4, 12]\n",
    "y = [1 , 5, 6, 7, 1]\n",
    "t = len(x)\n",
    "# z = [0, 0, 0, 0, 0]\n",
    "z  = [0] * t\n",
    "print(z)\n",
    "for i in range(t):\n",
    "    print(x[i], ' , ',y[i])"
   ]
  },
  {
   "cell_type": "code",
   "execution_count": 33,
   "metadata": {},
   "outputs": [
    {
     "name": "stdout",
     "output_type": "stream",
     "text": [
      "[0, 0, 0, 0, 0]\n",
      "0\n",
      "-3\n",
      "-3\n",
      "2\n",
      "11\n"
     ]
    }
   ],
   "source": [
    "x = [1 , 2, 3, 4, 12]\n",
    "y = [1 , 5, 6, 2, 1]\n",
    "t = len(x)\n",
    "# z = [0, 0, 0, 0, 0]\n",
    "z  = [0] * t\n",
    "print(z)\n",
    "for i in range(t):\n",
    "    print(x[i] - y[i])"
   ]
  },
  {
   "cell_type": "code",
   "execution_count": 38,
   "metadata": {},
   "outputs": [
    {
     "name": "stdout",
     "output_type": "stream",
     "text": [
      "[0, -3, -3, 2, 11]\n"
     ]
    }
   ],
   "source": [
    "x = [1 , 2, 3, 4, 12]\n",
    "y = [1 , 5, 6, 2, 1]\n",
    "t = len(x)\n",
    "z  = [0] * t\n",
    "for i in range(t):\n",
    "    z[i]  = x[i] - y[i]\n",
    "print(z)"
   ]
  },
  {
   "cell_type": "code",
   "execution_count": 49,
   "metadata": {},
   "outputs": [
    {
     "name": "stdout",
     "output_type": "stream",
     "text": [
      "i:  0\n",
      "z[ 0 ]=  1\n",
      "i:  1\n",
      "z[ 1 ]=  9\n",
      "i:  2\n",
      "z[ 2 ]=  1\n",
      "i:  3\n",
      "z[ 3 ]=  4\n",
      "i:  4\n",
      "z[ 4 ]=  121\n"
     ]
    }
   ],
   "source": [
    "x = [2 , 2, 3, 4, 12]\n",
    "y = [1 , 5, 4, 2, 1]\n",
    "t = len(x)\n",
    "# z = [0, 0, 0, 0, 0]\n",
    "z  = [0] * t\n",
    "for i in range(t):\n",
    "#     print(z[i])\n",
    "    z[i]  = (x[i] - y[i]) ** 2\n",
    "    print('i: ', i)\n",
    "    print('z[', i, ']= ', z[i])\n",
    "# print(z)"
   ]
  },
  {
   "cell_type": "code",
   "execution_count": 51,
   "metadata": {},
   "outputs": [
    {
     "name": "stdout",
     "output_type": "stream",
     "text": [
      "[1, 9, 1, 4, 121]\n"
     ]
    }
   ],
   "source": [
    "x = [2 , 2, 3, 4, 12]\n",
    "y = [1 , 5, 4, 2, 1]\n",
    "t = len(x)\n",
    "# z = [0, 0, 0, 0, 0]\n",
    "z  = [0] * t\n",
    "for i in range(t):\n",
    "    z[i]  = (x[i] - y[i]) ** 2\n",
    "\n",
    "print(z)"
   ]
  },
  {
   "cell_type": "code",
   "execution_count": 53,
   "metadata": {},
   "outputs": [
    {
     "name": "stdout",
     "output_type": "stream",
     "text": [
      "[1, 9, 1, 4, 121]\n",
      "136\n"
     ]
    }
   ],
   "source": [
    "x = [2 , 2, 3, 4, 12]\n",
    "y = [1 , 5, 4, 2, 1]\n",
    "t = len(x)\n",
    "# z = [0, 0, 0, 0, 0]\n",
    "z  = [0] * t\n",
    "for i in range(t):\n",
    "    z[i]  = (x[i] - y[i]) ** 2\n",
    "\n",
    "print(z)\n",
    "\n",
    "jame = 0\n",
    "for i in range(len(z)):\n",
    "    jame += z[i]\n",
    "print(jame)\n"
   ]
  },
  {
   "cell_type": "code",
   "execution_count": 56,
   "metadata": {},
   "outputs": [
    {
     "name": "stdout",
     "output_type": "stream",
     "text": [
      "136\n"
     ]
    }
   ],
   "source": [
    "x = [2 , 2, 3, 4, 12]\n",
    "y = [1 , 5, 4, 2, 1]\n",
    "t = len(x)\n",
    "# z = [0, 0, 0, 0, 0]\n",
    "z  = [0] * t\n",
    "jame = 0\n",
    "for i in range(t):\n",
    "    z[i]  = (x[i] - y[i]) ** 2\n",
    "    jame += z[i]\n",
    "print(jame)\n"
   ]
  },
  {
   "cell_type": "code",
   "execution_count": 58,
   "metadata": {},
   "outputs": [
    {
     "name": "stdout",
     "output_type": "stream",
     "text": [
      "11.661903789690601\n"
     ]
    }
   ],
   "source": [
    "x = [2 , 2, 3, 4, 12]\n",
    "y = [1 , 5, 4, 2, 1]\n",
    "t = len(x)\n",
    "\n",
    "jame = 0\n",
    "for i in range(t):    \n",
    "    jame += (x[i] - y[i]) ** 2\n",
    "print(math.sqrt(jame))\n"
   ]
  },
  {
   "cell_type": "code",
   "execution_count": 59,
   "metadata": {},
   "outputs": [],
   "source": [
    "def fasele_n(x1, x2):\n",
    "    t = len(x1)\n",
    "\n",
    "    jame = 0\n",
    "    for i in range(t):    \n",
    "        jame += (x1[i] - x2[i]) ** 2\n",
    "    f = math.sqrt(jame)\n",
    "    return f"
   ]
  },
  {
   "cell_type": "code",
   "execution_count": 61,
   "metadata": {},
   "outputs": [
    {
     "data": {
      "text/plain": [
       "10.535653752852738"
      ]
     },
     "execution_count": 61,
     "metadata": {},
     "output_type": "execute_result"
    }
   ],
   "source": [
    "import math \n",
    "z = [ 1 , 2, 3, 4]\n",
    "y = [4, 3, 2, 14]\n",
    "fasele_n(z, y)"
   ]
  },
  {
   "cell_type": "code",
   "execution_count": 63,
   "metadata": {},
   "outputs": [
    {
     "data": {
      "text/plain": [
       "10.535653752852738"
      ]
     },
     "execution_count": 63,
     "metadata": {},
     "output_type": "execute_result"
    }
   ],
   "source": [
    "fasele_n([ 1 , 2, 3, 4], [4, 3, 2, 14])"
   ]
  },
  {
   "cell_type": "code",
   "execution_count": 64,
   "metadata": {},
   "outputs": [
    {
     "ename": "TypeError",
     "evalue": "object of type 'int' has no len()",
     "output_type": "error",
     "traceback": [
      "\u001b[1;31m---------------------------------------------------------------------------\u001b[0m",
      "\u001b[1;31mTypeError\u001b[0m                                 Traceback (most recent call last)",
      "\u001b[1;32m<ipython-input-64-1922a3651374>\u001b[0m in \u001b[0;36m<module>\u001b[1;34m\u001b[0m\n\u001b[1;32m----> 1\u001b[1;33m \u001b[0mfasele_n\u001b[0m\u001b[1;33m(\u001b[0m\u001b[1;36m3\u001b[0m\u001b[1;33m,\u001b[0m \u001b[1;36m4\u001b[0m\u001b[1;33m)\u001b[0m\u001b[1;33m\u001b[0m\u001b[0m\n\u001b[0m",
      "\u001b[1;32m<ipython-input-59-fed7c0a0c701>\u001b[0m in \u001b[0;36mfasele_n\u001b[1;34m(x1, x2)\u001b[0m\n\u001b[0;32m      1\u001b[0m \u001b[1;32mdef\u001b[0m \u001b[0mfasele_n\u001b[0m\u001b[1;33m(\u001b[0m\u001b[0mx1\u001b[0m\u001b[1;33m,\u001b[0m \u001b[0mx2\u001b[0m\u001b[1;33m)\u001b[0m\u001b[1;33m:\u001b[0m\u001b[1;33m\u001b[0m\u001b[0m\n\u001b[1;32m----> 2\u001b[1;33m     \u001b[0mt\u001b[0m \u001b[1;33m=\u001b[0m \u001b[0mlen\u001b[0m\u001b[1;33m(\u001b[0m\u001b[0mx1\u001b[0m\u001b[1;33m)\u001b[0m\u001b[1;33m\u001b[0m\u001b[0m\n\u001b[0m\u001b[0;32m      3\u001b[0m \u001b[1;33m\u001b[0m\u001b[0m\n\u001b[0;32m      4\u001b[0m     \u001b[0mjame\u001b[0m \u001b[1;33m=\u001b[0m \u001b[1;36m0\u001b[0m\u001b[1;33m\u001b[0m\u001b[0m\n\u001b[0;32m      5\u001b[0m     \u001b[1;32mfor\u001b[0m \u001b[0mi\u001b[0m \u001b[1;32min\u001b[0m \u001b[0mrange\u001b[0m\u001b[1;33m(\u001b[0m\u001b[0mt\u001b[0m\u001b[1;33m)\u001b[0m\u001b[1;33m:\u001b[0m\u001b[1;33m\u001b[0m\u001b[0m\n",
      "\u001b[1;31mTypeError\u001b[0m: object of type 'int' has no len()"
     ]
    }
   ],
   "source": [
    "fasele_n(3, 4)"
   ]
  },
  {
   "cell_type": "code",
   "execution_count": 65,
   "metadata": {},
   "outputs": [
    {
     "data": {
      "text/plain": [
       "1.0"
      ]
     },
     "execution_count": 65,
     "metadata": {},
     "output_type": "execute_result"
    }
   ],
   "source": [
    "fasele_n([3], [4])"
   ]
  },
  {
   "cell_type": "code",
   "execution_count": 66,
   "metadata": {},
   "outputs": [
    {
     "data": {
      "text/plain": [
       "<function __main__.fasele_n(x1, x2)>"
      ]
     },
     "execution_count": 66,
     "metadata": {},
     "output_type": "execute_result"
    }
   ],
   "source": [
    "fasele_n"
   ]
  },
  {
   "cell_type": "code",
   "execution_count": 67,
   "metadata": {},
   "outputs": [
    {
     "ename": "NameError",
     "evalue": "name 'f' is not defined",
     "output_type": "error",
     "traceback": [
      "\u001b[1;31m---------------------------------------------------------------------------\u001b[0m",
      "\u001b[1;31mNameError\u001b[0m                                 Traceback (most recent call last)",
      "\u001b[1;32m<ipython-input-67-a9fcd54b25e7>\u001b[0m in \u001b[0;36m<module>\u001b[1;34m\u001b[0m\n\u001b[1;32m----> 1\u001b[1;33m \u001b[0mf\u001b[0m\u001b[1;33m\u001b[0m\u001b[0m\n\u001b[0m",
      "\u001b[1;31mNameError\u001b[0m: name 'f' is not defined"
     ]
    }
   ],
   "source": [
    "f"
   ]
  },
  {
   "cell_type": "markdown",
   "metadata": {},
   "source": [
    "تمرین- افزودن وارسی طول و اجرای تابع در صورتی که طول بردارها برابر باشند وگرنه خطا"
   ]
  },
  {
   "cell_type": "code",
   "execution_count": 69,
   "metadata": {},
   "outputs": [],
   "source": [
    "def masahatdayere3(c1, c2, x1, x2):\n",
    "    r = fasele(c1, c2, x1, x2)\n",
    "    return math.pi * r * r\n"
   ]
  },
  {
   "cell_type": "code",
   "execution_count": 70,
   "metadata": {},
   "outputs": [
    {
     "data": {
      "text/plain": [
       "3.141592653589793"
      ]
     },
     "execution_count": 70,
     "metadata": {},
     "output_type": "execute_result"
    }
   ],
   "source": [
    "import math\n",
    "masahatdayere3(0, 0, 1, 0)"
   ]
  },
  {
   "cell_type": "code",
   "execution_count": 4,
   "metadata": {},
   "outputs": [],
   "source": [
    "def bish_se_adad(x1, x2, x3):\n",
    "    bish = x1\n",
    "    if x2 > bish:\n",
    "        bish = x2\n",
    "    if x3 > bish:\n",
    "        bish = x3\n",
    "    return bish"
   ]
  },
  {
   "cell_type": "code",
   "execution_count": 5,
   "metadata": {},
   "outputs": [
    {
     "data": {
      "text/plain": [
       "12"
      ]
     },
     "execution_count": 5,
     "metadata": {},
     "output_type": "execute_result"
    }
   ],
   "source": [
    "bish_se_adad(12, -9, 8)"
   ]
  },
  {
   "cell_type": "code",
   "execution_count": 6,
   "metadata": {},
   "outputs": [
    {
     "ename": "NameError",
     "evalue": "name 'sabz' is not defined",
     "output_type": "error",
     "traceback": [
      "\u001b[1;31m---------------------------------------------------------------------------\u001b[0m",
      "\u001b[1;31mNameError\u001b[0m                                 Traceback (most recent call last)",
      "\u001b[1;32m<ipython-input-6-3450cb12fc37>\u001b[0m in \u001b[0;36m<module>\u001b[1;34m\u001b[0m\n\u001b[1;32m----> 1\u001b[1;33m \u001b[0mbish_se_adad\u001b[0m\u001b[1;33m(\u001b[0m\u001b[0msabz\u001b[0m\u001b[1;33m,\u001b[0m \u001b[0msepid\u001b[0m\u001b[1;33m,\u001b[0m \u001b[0msorkh\u001b[0m\u001b[1;33m)\u001b[0m\u001b[1;33m\u001b[0m\u001b[0m\n\u001b[0m",
      "\u001b[1;31mNameError\u001b[0m: name 'sabz' is not defined"
     ]
    }
   ],
   "source": [
    "bish_se_adad(sabz, sepid, sorkh)"
   ]
  },
  {
   "cell_type": "code",
   "execution_count": 9,
   "metadata": {},
   "outputs": [
    {
     "data": {
      "text/plain": [
       "'sorkh'"
      ]
     },
     "execution_count": 9,
     "metadata": {},
     "output_type": "execute_result"
    }
   ],
   "source": [
    "bish_se_adad('sabzzzzzzzzzzzzzzzzzzzzz', 'sepid', 'sorkh')"
   ]
  },
  {
   "cell_type": "code",
   "execution_count": 10,
   "metadata": {},
   "outputs": [
    {
     "ename": "TypeError",
     "evalue": "'>' not supported between instances of 'int' and 'str'",
     "output_type": "error",
     "traceback": [
      "\u001b[1;31m---------------------------------------------------------------------------\u001b[0m",
      "\u001b[1;31mTypeError\u001b[0m                                 Traceback (most recent call last)",
      "\u001b[1;32m<ipython-input-10-2af6cb2d4ea4>\u001b[0m in \u001b[0;36m<module>\u001b[1;34m\u001b[0m\n\u001b[1;32m----> 1\u001b[1;33m \u001b[0mbish_se_adad\u001b[0m\u001b[1;33m(\u001b[0m\u001b[1;34m'sabzzzzzzzzzzzzzzzzzzzzz'\u001b[0m\u001b[1;33m,\u001b[0m \u001b[1;36m2\u001b[0m\u001b[1;33m,\u001b[0m \u001b[1;34m'sorkh'\u001b[0m\u001b[1;33m)\u001b[0m\u001b[1;33m\u001b[0m\u001b[0m\n\u001b[0m",
      "\u001b[1;32m<ipython-input-4-17f6cd78628a>\u001b[0m in \u001b[0;36mbish_se_adad\u001b[1;34m(x1, x2, x3)\u001b[0m\n\u001b[0;32m      1\u001b[0m \u001b[1;32mdef\u001b[0m \u001b[0mbish_se_adad\u001b[0m\u001b[1;33m(\u001b[0m\u001b[0mx1\u001b[0m\u001b[1;33m,\u001b[0m \u001b[0mx2\u001b[0m\u001b[1;33m,\u001b[0m \u001b[0mx3\u001b[0m\u001b[1;33m)\u001b[0m\u001b[1;33m:\u001b[0m\u001b[1;33m\u001b[0m\u001b[0m\n\u001b[0;32m      2\u001b[0m     \u001b[0mbish\u001b[0m \u001b[1;33m=\u001b[0m \u001b[0mx1\u001b[0m\u001b[1;33m\u001b[0m\u001b[0m\n\u001b[1;32m----> 3\u001b[1;33m     \u001b[1;32mif\u001b[0m \u001b[0mx2\u001b[0m \u001b[1;33m>\u001b[0m \u001b[0mbish\u001b[0m\u001b[1;33m:\u001b[0m\u001b[1;33m\u001b[0m\u001b[0m\n\u001b[0m\u001b[0;32m      4\u001b[0m         \u001b[0mbish\u001b[0m \u001b[1;33m=\u001b[0m \u001b[0mx2\u001b[0m\u001b[1;33m\u001b[0m\u001b[0m\n\u001b[0;32m      5\u001b[0m     \u001b[1;32mif\u001b[0m \u001b[0mx3\u001b[0m \u001b[1;33m>\u001b[0m \u001b[0mbish\u001b[0m\u001b[1;33m:\u001b[0m\u001b[1;33m\u001b[0m\u001b[0m\n",
      "\u001b[1;31mTypeError\u001b[0m: '>' not supported between instances of 'int' and 'str'"
     ]
    }
   ],
   "source": [
    "bish_se_adad('sabzzzzzzzzzzzzzzzzzzzzz', 2, 'sorkh')"
   ]
  },
  {
   "cell_type": "code",
   "execution_count": 11,
   "metadata": {},
   "outputs": [
    {
     "data": {
      "text/plain": [
       "98"
      ]
     },
     "execution_count": 11,
     "metadata": {},
     "output_type": "execute_result"
    }
   ],
   "source": [
    "def bish_list(a):\n",
    "    t_a = len(a)\n",
    "    \n",
    "    bish = a[0]\n",
    "    for i in range(t_a):\n",
    "        if a[i] > bish:\n",
    "            bish = a[i]\n",
    "    return bish\n",
    "b = [12, 13, 1, 2, 98, -10]\n",
    "bish_list(b)    "
   ]
  },
  {
   "cell_type": "code",
   "execution_count": 12,
   "metadata": {},
   "outputs": [
    {
     "data": {
      "text/plain": [
       "14"
      ]
     },
     "execution_count": 12,
     "metadata": {},
     "output_type": "execute_result"
    }
   ],
   "source": [
    "max(10, 9, 13, -12, 14)"
   ]
  },
  {
   "cell_type": "code",
   "execution_count": 13,
   "metadata": {},
   "outputs": [
    {
     "data": {
      "text/plain": [
       "-12"
      ]
     },
     "execution_count": 13,
     "metadata": {},
     "output_type": "execute_result"
    }
   ],
   "source": [
    "min(10, 9, 13, -12, 14)"
   ]
  },
  {
   "cell_type": "code",
   "execution_count": 14,
   "metadata": {},
   "outputs": [
    {
     "data": {
      "text/plain": [
       "'fil'"
      ]
     },
     "execution_count": 14,
     "metadata": {},
     "output_type": "execute_result"
    }
   ],
   "source": [
    "min('fil', 'shir', 'moosh', 'palang')"
   ]
  },
  {
   "cell_type": "code",
   "execution_count": 15,
   "metadata": {},
   "outputs": [
    {
     "data": {
      "text/plain": [
       "'moosh'"
      ]
     },
     "execution_count": 15,
     "metadata": {},
     "output_type": "execute_result"
    }
   ],
   "source": [
    "min('phil', 'shir', 'moosh', 'palang')"
   ]
  },
  {
   "cell_type": "code",
   "execution_count": 23,
   "metadata": {},
   "outputs": [
    {
     "data": {
      "text/plain": [
       "[3, 5, 7, 9]"
      ]
     },
     "execution_count": 23,
     "metadata": {},
     "output_type": "execute_result"
    }
   ],
   "source": [
    "def jam_list(a, b):\n",
    "    t_a = len(a)\n",
    "    t_b = len(b)\n",
    "    if t_a != t_b:\n",
    "        return None\n",
    "    z = [0] * t_a\n",
    "    for i in range(t_a):\n",
    "        z[i] = a[i] + b[i]\n",
    "    return z\n",
    "\n",
    "jam_list([1,2, 3, 4], [2, 3, 4, 5])"
   ]
  },
  {
   "cell_type": "code",
   "execution_count": 28,
   "metadata": {},
   "outputs": [
    {
     "data": {
      "text/plain": [
       "35"
      ]
     },
     "execution_count": 28,
     "metadata": {},
     "output_type": "execute_result"
    }
   ],
   "source": [
    "sum([10, 12, 4, 9])"
   ]
  },
  {
   "cell_type": "code",
   "execution_count": 32,
   "metadata": {},
   "outputs": [
    {
     "data": {
      "text/plain": [
       "8.666666666666666"
      ]
     },
     "execution_count": 32,
     "metadata": {},
     "output_type": "execute_result"
    }
   ],
   "source": [
    "def miangin(*x):\n",
    "    return sum(x) / len(x)\n",
    "\n",
    "miangin(5, 10, 11)"
   ]
  },
  {
   "cell_type": "code",
   "execution_count": 35,
   "metadata": {},
   "outputs": [
    {
     "data": {
      "text/plain": [
       "'SALAM'"
      ]
     },
     "execution_count": 35,
     "metadata": {},
     "output_type": "execute_result"
    }
   ],
   "source": [
    "r  = 'salam'\n",
    "r.upper()"
   ]
  },
  {
   "cell_type": "code",
   "execution_count": 36,
   "metadata": {},
   "outputs": [
    {
     "data": {
      "text/plain": [
       "'salam'"
      ]
     },
     "execution_count": 36,
     "metadata": {},
     "output_type": "execute_result"
    }
   ],
   "source": [
    "r"
   ]
  },
  {
   "cell_type": "markdown",
   "metadata": {},
   "source": [
    "نحوهء فراخوانی روش (متد)\n",
    "Nam_Shei.Nam_ravash(vorodiha)"
   ]
  },
  {
   "cell_type": "markdown",
   "metadata": {},
   "source": [
    "کتابخانه استانده پیتون"
   ]
  },
  {
   "cell_type": "code",
   "execution_count": 47,
   "metadata": {},
   "outputs": [
    {
     "data": {
      "text/plain": [
       "-0.9999987317275395"
      ]
     },
     "execution_count": 47,
     "metadata": {},
     "output_type": "execute_result"
    }
   ],
   "source": [
    "import math\n",
    "math.cos(3.14)"
   ]
  },
  {
   "cell_type": "code",
   "execution_count": 44,
   "metadata": {},
   "outputs": [
    {
     "name": "stdout",
     "output_type": "stream",
     "text": [
      "9.265358966049026e-05\n",
      "-0.9999999957076562\n"
     ]
    }
   ],
   "source": [
    "from math import sin, cos\n",
    "x = 3.1415\n",
    "y = sin(x)\n",
    "print(y)\n",
    "\n",
    "\n",
    "y = cos(x)\n",
    "print(y)"
   ]
  },
  {
   "cell_type": "code",
   "execution_count": 45,
   "metadata": {},
   "outputs": [
    {
     "name": "stdout",
     "output_type": "stream",
     "text": [
      "9.265358966049026e-05\n",
      "-0.9999999957076562\n"
     ]
    }
   ],
   "source": [
    "from math import *\n",
    "x = 3.1415\n",
    "y = sin(x)\n",
    "print(y)\n",
    "\n",
    "\n",
    "y = cos(x)\n",
    "print(y)"
   ]
  },
  {
   "cell_type": "code",
   "execution_count": 51,
   "metadata": {},
   "outputs": [
    {
     "name": "stdout",
     "output_type": "stream",
     "text": [
      "-1.0\n"
     ]
    }
   ],
   "source": [
    "import math as mt\n",
    "import numpy as np\n",
    "\n",
    "mt.cos(mt.pi)\n",
    "print(np.cos(mt.pi))"
   ]
  },
  {
   "cell_type": "code",
   "execution_count": 60,
   "metadata": {},
   "outputs": [
    {
     "name": "stdout",
     "output_type": "stream",
     "text": [
      "2\n",
      "1\n",
      "1024.0\n",
      "20.085536923187668\n",
      "2.0\n",
      "4.0\n",
      "1.8000000000000007\n"
     ]
    }
   ],
   "source": [
    "from math import *\n",
    "print(ceil(1.6))\n",
    "print(floor(1.6))\n",
    "print(pow(2, 10))\n",
    "print(exp(3))\n",
    "print(sqrt(4))\n",
    "print(fmod(9,5))\n",
    "print(fmod(9.8, 4.0))"
   ]
  },
  {
   "cell_type": "code",
   "execution_count": 61,
   "metadata": {},
   "outputs": [],
   "source": [
    "math.fmod?"
   ]
  },
  {
   "cell_type": "code",
   "execution_count": 65,
   "metadata": {},
   "outputs": [
    {
     "name": "stdout",
     "output_type": "stream",
     "text": [
      "20.0\n"
     ]
    }
   ],
   "source": [
    "d = 10 * math.log10(100)\n",
    "print(d)"
   ]
  },
  {
   "cell_type": "code",
   "execution_count": 70,
   "metadata": {},
   "outputs": [
    {
     "data": {
      "text/plain": [
       "1.0471975511965976"
      ]
     },
     "execution_count": 70,
     "metadata": {},
     "output_type": "execute_result"
    }
   ],
   "source": [
    "import math as mt\n",
    "\n",
    "def tabdil_daraje_be_radian(daraje):\n",
    "    radian = mt.pi * daraje / 180\n",
    "    return radian\n",
    "tabdil_daraje_be_radian(60)"
   ]
  },
  {
   "cell_type": "code",
   "execution_count": 71,
   "metadata": {},
   "outputs": [
    {
     "ename": "SyntaxError",
     "evalue": "invalid syntax (<ipython-input-71-6994845579ab>, line 1)",
     "output_type": "error",
     "traceback": [
      "\u001b[1;36m  File \u001b[1;32m\"<ipython-input-71-6994845579ab>\"\u001b[1;36m, line \u001b[1;32m1\u001b[0m\n\u001b[1;33m    math.\u001b[0m\n\u001b[1;37m         ^\u001b[0m\n\u001b[1;31mSyntaxError\u001b[0m\u001b[1;31m:\u001b[0m invalid syntax\n"
     ]
    }
   ],
   "source": [
    "math."
   ]
  },
  {
   "cell_type": "code",
   "execution_count": 75,
   "metadata": {
    "scrolled": true
   },
   "outputs": [
    {
     "name": "stdout",
     "output_type": "stream",
     "text": [
      "2 5 2 3 5 2 3 6 4 5 "
     ]
    }
   ],
   "source": [
    "import random\n",
    "for tas in range(10):\n",
    "    print(random.randrange(1, 7), end=' ')"
   ]
  },
  {
   "cell_type": "code",
   "execution_count": 81,
   "metadata": {},
   "outputs": [
    {
     "name": "stdout",
     "output_type": "stream",
     "text": [
      "p(1) =  0.16677733333333333\n",
      "p(2) =  0.16673733333333332\n",
      "p(3) =  0.16679133333333335\n",
      "p(4) =  0.166906\n",
      "p(5) =  0.16638783333333335\n",
      "p(6) =  0.16640016666666665\n"
     ]
    }
   ],
   "source": [
    "import random\n",
    "\n",
    "# shoamresh faravani har vajhe tas\n",
    "faravani1 = 0\n",
    "faravani2 = 0\n",
    "faravani3 = 0\n",
    "faravani4 = 0\n",
    "faravani5 = 0\n",
    "faravani6 = 0\n",
    "\n",
    "#partab tas\n",
    "tedad_partab = 6_000_000\n",
    "for tas in range(tedad_partab):\n",
    "    vajh = random.randrange(1, 7)\n",
    "    if vajh == 1:\n",
    "        faravani1 += 1\n",
    "    elif vajh == 2:\n",
    "        faravani2 += 1\n",
    "    elif vajh == 3:\n",
    "        faravani3 += 1\n",
    "    elif vajh == 4:\n",
    "        faravani4 += 1\n",
    "    elif vajh == 5:\n",
    "        faravani5 += 1\n",
    "    else:\n",
    "        faravani6 += 1\n",
    "\n",
    "# mohasebeye nesabt tekrare har vajh\n",
    "nesbat1 = faravani1 / tedad_partab\n",
    "nesbat2 = faravani2 / tedad_partab\n",
    "nesbat3 = faravani3 / tedad_partab\n",
    "nesbat4 = faravani4 / tedad_partab\n",
    "nesbat5 = faravani5 / tedad_partab\n",
    "nesbat6 = faravani6 / tedad_partab\n",
    "\n",
    "\n",
    "print('p(1) = ', nesbat1)\n",
    "print('p(2) = ', nesbat2)\n",
    "print('p(3) = ', nesbat3)\n",
    "print('p(4) = ', nesbat4)\n",
    "print('p(5) = ', nesbat5)\n",
    "print('p(6) = ', nesbat6)"
   ]
  },
  {
   "cell_type": "code",
   "execution_count": 80,
   "metadata": {},
   "outputs": [
    {
     "data": {
      "text/plain": [
       "0.16666666666666666"
      ]
     },
     "execution_count": 80,
     "metadata": {},
     "output_type": "execute_result"
    }
   ],
   "source": [
    "1 / 6"
   ]
  },
  {
   "cell_type": "code",
   "execution_count": 1,
   "metadata": {},
   "outputs": [
    {
     "data": {
      "text/plain": [
       "0.0015926529164868282"
      ]
     },
     "execution_count": 1,
     "metadata": {},
     "output_type": "execute_result"
    }
   ],
   "source": [
    "import math as mt\n",
    "mt.sin(3.14)"
   ]
  },
  {
   "cell_type": "code",
   "execution_count": 2,
   "metadata": {},
   "outputs": [],
   "source": [
    "import random"
   ]
  },
  {
   "cell_type": "code",
   "execution_count": 3,
   "metadata": {},
   "outputs": [
    {
     "ename": "AttributeError",
     "evalue": "'int' object has no attribute 'upper'",
     "output_type": "error",
     "traceback": [
      "\u001b[1;31m---------------------------------------------------------------------------\u001b[0m",
      "\u001b[1;31mAttributeError\u001b[0m                            Traceback (most recent call last)",
      "\u001b[1;32m<ipython-input-3-dfc29c5db12e>\u001b[0m in \u001b[0;36m<module>\u001b[1;34m\u001b[0m\n\u001b[0;32m      1\u001b[0m \u001b[0mr\u001b[0m \u001b[1;33m=\u001b[0m \u001b[1;36m5\u001b[0m\u001b[1;33m\u001b[0m\u001b[0m\n\u001b[1;32m----> 2\u001b[1;33m \u001b[0mr\u001b[0m\u001b[1;33m.\u001b[0m\u001b[0mupper\u001b[0m\u001b[1;33m(\u001b[0m\u001b[1;33m)\u001b[0m\u001b[1;33m\u001b[0m\u001b[0m\n\u001b[0m",
      "\u001b[1;31mAttributeError\u001b[0m: 'int' object has no attribute 'upper'"
     ]
    }
   ],
   "source": [
    "r = 5\n",
    "r.upper()"
   ]
  },
  {
   "cell_type": "code",
   "execution_count": 5,
   "metadata": {},
   "outputs": [
    {
     "name": "stdout",
     "output_type": "stream",
     "text": [
      "1 2 2 3 6 2 4 1 6 1 "
     ]
    }
   ],
   "source": [
    "import random\n",
    "\n",
    "random.seed(32)\n",
    "\n",
    "for tas in range(10):\n",
    "    print(random.randint(1,7), end=' ')"
   ]
  },
  {
   "cell_type": "code",
   "execution_count": 6,
   "metadata": {},
   "outputs": [
    {
     "name": "stdout",
     "output_type": "stream",
     "text": [
      "2 1 5 6 1 2 2 1 1 7 "
     ]
    }
   ],
   "source": [
    "random.seed(15)\n",
    "\n",
    "for tas in range(10):\n",
    "    print(random.randint(1,7), end=' ')"
   ]
  },
  {
   "cell_type": "code",
   "execution_count": 7,
   "metadata": {},
   "outputs": [
    {
     "name": "stdout",
     "output_type": "stream",
     "text": [
      "1 2 2 3 6 2 4 1 6 1 "
     ]
    }
   ],
   "source": [
    "random.seed(32)\n",
    "\n",
    "for tas in range(10):\n",
    "    print(random.randint(1,7), end=' ')"
   ]
  },
  {
   "cell_type": "code",
   "execution_count": 9,
   "metadata": {},
   "outputs": [
    {
     "name": "stdout",
     "output_type": "stream",
     "text": [
      "9\n",
      "8\n",
      "7\n",
      "6\n",
      "5\n",
      "4\n",
      "3\n",
      "2\n",
      "1\n",
      "Atash\n"
     ]
    }
   ],
   "source": [
    "def shomaresh_makos(n):\n",
    "    while n > 0:\n",
    "        print(n)\n",
    "        n = n - 1\n",
    "    print('Atash')\n",
    "shomaresh_makossh_makos(9)"
   ]
  },
  {
   "cell_type": "code",
   "execution_count": 10,
   "metadata": {},
   "outputs": [
    {
     "name": "stdout",
     "output_type": "stream",
     "text": [
      "9\n",
      "8\n",
      "7\n",
      "6\n",
      "5\n",
      "4\n",
      "3\n",
      "2\n",
      "1\n",
      "Atash\n"
     ]
    }
   ],
   "source": [
    "def shomaresh_makos_bazgasgti(n):\n",
    "    if n <= 0 :\n",
    "        print('Atash')\n",
    "    else:\n",
    "        print(n)\n",
    "        shomaresh_makos_bazgasgti(n - 1)\n",
    "shomaresh_makos_bazgasgti(9)\n"
   ]
  },
  {
   "cell_type": "code",
   "execution_count": 13,
   "metadata": {},
   "outputs": [
    {
     "data": {
      "text/plain": [
       "24"
      ]
     },
     "execution_count": 13,
     "metadata": {},
     "output_type": "execute_result"
    }
   ],
   "source": [
    "def factorial(n):\n",
    "    if n == 0:\n",
    "        return 1\n",
    "    else:\n",
    "        bazgasht = factorial(n - 1)\n",
    "        natije = n  * bazgasht\n",
    "        return natije\n",
    "factorial(4)"
   ]
  },
  {
   "cell_type": "code",
   "execution_count": 14,
   "metadata": {},
   "outputs": [
    {
     "name": "stderr",
     "output_type": "stream",
     "text": [
      "ERROR:root:Internal Python error in the inspect module.\n",
      "Below is the traceback from this internal error.\n",
      "\n",
      "ERROR:root:Internal Python error in the inspect module.\n",
      "Below is the traceback from this internal error.\n",
      "\n",
      "\n",
      "KeyboardInterrupt\n",
      "\n"
     ]
    }
   ],
   "source": [
    "factorial(1.5)"
   ]
  },
  {
   "cell_type": "code",
   "execution_count": 23,
   "metadata": {},
   "outputs": [
    {
     "name": "stdout",
     "output_type": "stream",
     "text": [
      "Facotrial baray adad nammafi ast.\n"
     ]
    }
   ],
   "source": [
    "def factorial3(n):\n",
    "    if not isinstance(n , int):\n",
    "        print('Adad sahih nist')\n",
    "        return\n",
    "    elif n < 0:\n",
    "        print('Facotrial baray adad nammafi ast.')\n",
    "        return\n",
    "    elif n == 0:\n",
    "        return 1\n",
    "    else:\n",
    "        bazgasht = factorial3(n - 1)\n",
    "        natije = n  * bazgasht\n",
    "        return natije\n",
    "factorial3(-2)"
   ]
  },
  {
   "cell_type": "code",
   "execution_count": 24,
   "metadata": {},
   "outputs": [],
   "source": [
    "def fibonacci(n):\n",
    "    if n == 0:\n",
    "        return 1\n",
    "    elif n == 1:\n",
    "        return 1\n",
    "    else:\n",
    "        return fibonacci(n - 1) + fibonacci(n - 2)"
   ]
  },
  {
   "cell_type": "code",
   "execution_count": 25,
   "metadata": {},
   "outputs": [
    {
     "name": "stdout",
     "output_type": "stream",
     "text": [
      "fib( 0 )= 1\n",
      "fib( 1 )= 1\n",
      "fib( 2 )= 2\n",
      "fib( 3 )= 3\n",
      "fib( 4 )= 5\n",
      "fib( 5 )= 8\n",
      "fib( 6 )= 13\n",
      "fib( 7 )= 21\n",
      "fib( 8 )= 34\n",
      "fib( 9 )= 55\n",
      "fib( 10 )= 89\n"
     ]
    }
   ],
   "source": [
    "for i in range(11):\n",
    "    print('fib(', i, ')=', fibonacci(i))"
   ]
  },
  {
   "cell_type": "code",
   "execution_count": 40,
   "metadata": {},
   "outputs": [],
   "source": [
    "def fibo(n):\n",
    "    f = [0]*(n + 1)\n",
    "#     print(len(f))\n",
    "    f[0] = 1\n",
    "    f[1] = 1\n",
    "    for i in range(2, n+1):\n",
    "        f[i] = f[i - 1] + f[i - 2]\n",
    "    return f[n]\n"
   ]
  },
  {
   "cell_type": "code",
   "execution_count": 41,
   "metadata": {
    "scrolled": true
   },
   "outputs": [
    {
     "name": "stdout",
     "output_type": "stream",
     "text": [
      "fib( 1 )= 1\n",
      "fib( 2 )= 2\n",
      "fib( 3 )= 3\n",
      "fib( 4 )= 5\n",
      "fib( 5 )= 8\n",
      "fib( 6 )= 13\n",
      "fib( 7 )= 21\n",
      "fib( 8 )= 34\n",
      "fib( 9 )= 55\n",
      "fib( 10 )= 89\n"
     ]
    }
   ],
   "source": [
    "for i in range(1, 11):\n",
    "    print('fib(', i, ')=', fibo(i))"
   ]
  },
  {
   "cell_type": "code",
   "execution_count": 58,
   "metadata": {},
   "outputs": [],
   "source": [
    "def fibo3(n):\n",
    "    f_qabli = 1\n",
    "    f_2qabli = 1\n",
    "    \n",
    "    if n == 0 or n == 1:\n",
    "        return 1\n",
    "    for i in range(2, n+1):\n",
    "        f = f_qabli + f_2qabli\n",
    "        f_2qabli = f_qabli\n",
    "        f_qabli = f\n",
    "        \n",
    "    return f\n"
   ]
  },
  {
   "cell_type": "code",
   "execution_count": 59,
   "metadata": {},
   "outputs": [
    {
     "name": "stdout",
     "output_type": "stream",
     "text": [
      "fib( 0 )= 1\n",
      "fib( 1 )= 1\n",
      "fib( 2 )= 2\n",
      "fib( 3 )= 3\n",
      "fib( 4 )= 5\n",
      "fib( 5 )= 8\n",
      "fib( 6 )= 13\n",
      "fib( 7 )= 21\n",
      "fib( 8 )= 34\n",
      "fib( 9 )= 55\n",
      "fib( 10 )= 89\n"
     ]
    }
   ],
   "source": [
    "for i in range(0, 11):\n",
    "    print('fib(', i, ')=', fibo3(i))"
   ]
  },
  {
   "cell_type": "code",
   "execution_count": 62,
   "metadata": {},
   "outputs": [
    {
     "data": {
      "text/plain": [
       "16.6"
      ]
     },
     "execution_count": 62,
     "metadata": {},
     "output_type": "execute_result"
    }
   ],
   "source": [
    "nomarat = [18, 19, 16, 14, 16]\n",
    "sum(nomarat)/len(nomarat)"
   ]
  },
  {
   "cell_type": "code",
   "execution_count": 63,
   "metadata": {},
   "outputs": [
    {
     "data": {
      "text/plain": [
       "16.6"
      ]
     },
     "execution_count": 63,
     "metadata": {},
     "output_type": "execute_result"
    }
   ],
   "source": [
    "import statistics\n",
    "statistics.mean(nomarat)"
   ]
  },
  {
   "cell_type": "code",
   "execution_count": 64,
   "metadata": {},
   "outputs": [
    {
     "data": {
      "text/plain": [
       "16"
      ]
     },
     "execution_count": 64,
     "metadata": {},
     "output_type": "execute_result"
    }
   ],
   "source": [
    "statistics.median(nomarat)"
   ]
  },
  {
   "cell_type": "code",
   "execution_count": 65,
   "metadata": {},
   "outputs": [
    {
     "data": {
      "text/plain": [
       "16"
      ]
     },
     "execution_count": 65,
     "metadata": {},
     "output_type": "execute_result"
    }
   ],
   "source": [
    "statistics.mode(nomarat)"
   ]
  },
  {
   "cell_type": "code",
   "execution_count": 67,
   "metadata": {},
   "outputs": [
    {
     "data": {
      "text/plain": [
       "[14, 16, 16, 18, 19]"
      ]
     },
     "execution_count": 67,
     "metadata": {},
     "output_type": "execute_result"
    }
   ],
   "source": [
    "sorted(nomarat)"
   ]
  },
  {
   "cell_type": "code",
   "execution_count": 68,
   "metadata": {},
   "outputs": [
    {
     "data": {
      "text/plain": [
       "[18, 19, 16, 14, 16]"
      ]
     },
     "execution_count": 68,
     "metadata": {},
     "output_type": "execute_result"
    }
   ],
   "source": [
    "nomarat"
   ]
  }
 ],
 "metadata": {
  "kernelspec": {
   "display_name": "Python 3",
   "language": "python",
   "name": "python3"
  },
  "language_info": {
   "codemirror_mode": {
    "name": "ipython",
    "version": 3
   },
   "file_extension": ".py",
   "mimetype": "text/x-python",
   "name": "python",
   "nbconvert_exporter": "python",
   "pygments_lexer": "ipython3",
   "version": "3.6.2"
  }
 },
 "nbformat": 4,
 "nbformat_minor": 4
}
