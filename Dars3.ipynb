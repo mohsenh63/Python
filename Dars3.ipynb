{
 "cells": [
  {
   "cell_type": "code",
   "execution_count": 1,
   "metadata": {},
   "outputs": [
    {
     "name": "stdout",
     "output_type": "stream",
     "text": [
      "p(1) =  0.17283333333333334\n",
      "p(2) =  0.16983333333333334\n",
      "p(3) =  0.1635\n",
      "p(4) =  0.164\n",
      "p(5) =  0.16483333333333333\n",
      "p(6) =  0.165\n"
     ]
    }
   ],
   "source": [
    "import random\n",
    "\n",
    "# shoamresh faravani har vajhe tas\n",
    "faravani1 = 0\n",
    "faravani2 = 0\n",
    "faravani3 = 0\n",
    "faravani4 = 0\n",
    "faravani5 = 0\n",
    "faravani6 = 0\n",
    "\n",
    "#partab tas\n",
    "tedad_partab = 6_000\n",
    "for tas in range(tedad_partab):\n",
    "    vajh = random.randrange(1, 7)\n",
    "    if vajh == 1:\n",
    "        faravani1 += 1\n",
    "    elif vajh == 2:\n",
    "        faravani2 += 1\n",
    "    elif vajh == 3:\n",
    "        faravani3 += 1\n",
    "    elif vajh == 4:\n",
    "        faravani4 += 1\n",
    "    elif vajh == 5:\n",
    "        faravani5 += 1\n",
    "    else:\n",
    "        faravani6 += 1\n",
    "\n",
    "# mohasebeye nesabt tekrare har vajh\n",
    "nesbat1 = faravani1 / tedad_partab\n",
    "nesbat2 = faravani2 / tedad_partab\n",
    "nesbat3 = faravani3 / tedad_partab\n",
    "nesbat4 = faravani4 / tedad_partab\n",
    "nesbat5 = faravani5 / tedad_partab\n",
    "nesbat6 = faravani6 / tedad_partab\n",
    "\n",
    "\n",
    "print('p(1) = ', nesbat1)\n",
    "print('p(2) = ', nesbat2)\n",
    "print('p(3) = ', nesbat3)\n",
    "print('p(4) = ', nesbat4)\n",
    "print('p(5) = ', nesbat5)\n",
    "print('p(6) = ', nesbat6)"
   ]
  },
  {
   "cell_type": "code",
   "execution_count": 5,
   "metadata": {},
   "outputs": [
    {
     "name": "stdout",
     "output_type": "stream",
     "text": [
      "3\n",
      "1\n",
      "6\n"
     ]
    }
   ],
   "source": [
    "f = [1, 2, 3, 4, 5, 6]\n",
    "print(f[2])\n",
    "print(f[0])\n",
    "print(f[5])"
   ]
  },
  {
   "cell_type": "code",
   "execution_count": 7,
   "metadata": {
    "scrolled": true
   },
   "outputs": [
    {
     "name": "stdout",
     "output_type": "stream",
     "text": [
      "1 1001 0.16683333333333333\n",
      "2 1006 0.16766666666666666\n",
      "3 967 0.16116666666666668\n",
      "4 1024 0.17066666666666666\n",
      "5 994 0.16566666666666666\n",
      "6 1008 0.168\n"
     ]
    }
   ],
   "source": [
    "import random\n",
    "\n",
    "# shoamresh faravani har vajhe tas\n",
    "fravani = [0, 0, 0, 0, 0, 0, 0]\n",
    "# fravani = [0] * 6\n",
    "\n",
    "#partab tas\n",
    "tedad_partab = 6_000\n",
    "for tas in range(tedad_partab):\n",
    "    vajh = random.randrange(1, 7)\n",
    "    fravani[vajh - 1] += 1\n",
    "\n",
    "\n",
    "# mohasebeye nesabt tekrare har vajh\n",
    "nesbat = [0] * 6\n",
    "for i in range(len(nesbat)):\n",
    "    nesbat[i] = fravani[i] / tedad_partab\n",
    "\n",
    "for i in range(1,7):\n",
    "    print(i, fravani[i - 1], nesbat[i- 1])\n",
    "\n"
   ]
  },
  {
   "cell_type": "code",
   "execution_count": 8,
   "metadata": {},
   "outputs": [],
   "source": [
    "x = [10, 29, 39, 11]"
   ]
  },
  {
   "cell_type": "code",
   "execution_count": 18,
   "metadata": {},
   "outputs": [
    {
     "data": {
      "text/plain": [
       "'Azin'"
      ]
     },
     "execution_count": 18,
     "metadata": {},
     "output_type": "execute_result"
    }
   ],
   "source": [
    "y = [ 'Nasim', 'Reza', 'Mahshad', 'Elham', 'Azin', 'Mohsen']\n",
    "y[4]"
   ]
  },
  {
   "cell_type": "code",
   "execution_count": 12,
   "metadata": {},
   "outputs": [
    {
     "data": {
      "text/plain": [
       "5"
      ]
     },
     "execution_count": 12,
     "metadata": {},
     "output_type": "execute_result"
    }
   ],
   "source": [
    "len(y)"
   ]
  },
  {
   "cell_type": "code",
   "execution_count": 13,
   "metadata": {},
   "outputs": [],
   "source": [
    "z = ['Javad', 'Tababtai', 1324, 77]"
   ]
  },
  {
   "cell_type": "code",
   "execution_count": 15,
   "metadata": {},
   "outputs": [
    {
     "data": {
      "text/plain": [
       "77"
      ]
     },
     "execution_count": 15,
     "metadata": {},
     "output_type": "execute_result"
    }
   ],
   "source": [
    "z[3]"
   ]
  },
  {
   "cell_type": "code",
   "execution_count": 17,
   "metadata": {},
   "outputs": [
    {
     "data": {
      "text/plain": [
       "0"
      ]
     },
     "execution_count": 17,
     "metadata": {},
     "output_type": "execute_result"
    }
   ],
   "source": [
    "tohi = []\n",
    "len(tohi)"
   ]
  },
  {
   "cell_type": "code",
   "execution_count": 20,
   "metadata": {},
   "outputs": [
    {
     "data": {
      "text/plain": [
       "['Nasim', 'Reza', 'Mahshad', 'Elham', 'Azin', 'Hooshmand']"
      ]
     },
     "execution_count": 20,
     "metadata": {},
     "output_type": "execute_result"
    }
   ],
   "source": [
    "y[5] = 'Hooshmand'\n",
    "y"
   ]
  },
  {
   "cell_type": "code",
   "execution_count": 24,
   "metadata": {},
   "outputs": [
    {
     "ename": "TypeError",
     "evalue": "'str' object does not support item assignment",
     "output_type": "error",
     "traceback": [
      "\u001b[1;31m---------------------------------------------------------------------------\u001b[0m",
      "\u001b[1;31mTypeError\u001b[0m                                 Traceback (most recent call last)",
      "\u001b[1;32m<ipython-input-24-65d1be741604>\u001b[0m in \u001b[0;36m<module>\u001b[1;34m\u001b[0m\n\u001b[0;32m      1\u001b[0m \u001b[0mr\u001b[0m \u001b[1;33m=\u001b[0m \u001b[1;34m'salam'\u001b[0m\u001b[1;33m\u001b[0m\u001b[0m\n\u001b[1;32m----> 2\u001b[1;33m \u001b[0mr\u001b[0m\u001b[1;33m[\u001b[0m\u001b[1;36m1\u001b[0m\u001b[1;33m]\u001b[0m \u001b[1;33m=\u001b[0m \u001b[1;34m'b'\u001b[0m\u001b[1;33m\u001b[0m\u001b[0m\n\u001b[0m",
      "\u001b[1;31mTypeError\u001b[0m: 'str' object does not support item assignment"
     ]
    }
   ],
   "source": [
    "r = 'salam'\n",
    "r[1] = 'b'"
   ]
  },
  {
   "cell_type": "code",
   "execution_count": 28,
   "metadata": {},
   "outputs": [
    {
     "name": "stdout",
     "output_type": "stream",
     "text": [
      "6\n"
     ]
    },
    {
     "data": {
      "text/plain": [
       "-10"
      ]
     },
     "execution_count": 28,
     "metadata": {},
     "output_type": "execute_result"
    }
   ],
   "source": [
    "x = [ -10, 12, 1, 43, 15, 20]\n",
    "print(len(x))\n",
    "x[-6]"
   ]
  },
  {
   "cell_type": "code",
   "execution_count": 29,
   "metadata": {},
   "outputs": [
    {
     "data": {
      "text/plain": [
       "[12, 1, 43]"
      ]
     },
     "execution_count": 29,
     "metadata": {},
     "output_type": "execute_result"
    }
   ],
   "source": [
    "x[1:4]"
   ]
  },
  {
   "cell_type": "code",
   "execution_count": 30,
   "metadata": {},
   "outputs": [
    {
     "data": {
      "text/plain": [
       "[12, 1, 43, 15, 20]"
      ]
     },
     "execution_count": 30,
     "metadata": {},
     "output_type": "execute_result"
    }
   ],
   "source": [
    "x[1:]"
   ]
  },
  {
   "cell_type": "code",
   "execution_count": 32,
   "metadata": {},
   "outputs": [
    {
     "data": {
      "text/plain": [
       "[-10, 12, 1, 43]"
      ]
     },
     "execution_count": 32,
     "metadata": {},
     "output_type": "execute_result"
    }
   ],
   "source": [
    "x[:4]"
   ]
  },
  {
   "cell_type": "code",
   "execution_count": 34,
   "metadata": {
    "scrolled": true
   },
   "outputs": [
    {
     "data": {
      "text/plain": [
       "[-10, 12, 1, 43, 15, 20]"
      ]
     },
     "execution_count": 34,
     "metadata": {},
     "output_type": "execute_result"
    }
   ],
   "source": [
    "x[:]"
   ]
  },
  {
   "cell_type": "code",
   "execution_count": 35,
   "metadata": {},
   "outputs": [
    {
     "name": "stdout",
     "output_type": "stream",
     "text": [
      "[-10, 12, 1, 43, 15, 20]\n"
     ]
    }
   ],
   "source": [
    "print(x)"
   ]
  },
  {
   "cell_type": "code",
   "execution_count": 36,
   "metadata": {},
   "outputs": [
    {
     "name": "stdout",
     "output_type": "stream",
     "text": [
      "[10, 12, 1, 43, 15, 20]\n"
     ]
    }
   ],
   "source": [
    "x[0]= 10\n",
    "print(x)"
   ]
  },
  {
   "cell_type": "code",
   "execution_count": 37,
   "metadata": {},
   "outputs": [
    {
     "name": "stdout",
     "output_type": "stream",
     "text": [
      "[10, 'x', 'y', 43, 15, 20]\n"
     ]
    }
   ],
   "source": [
    "x[1:3] = ['x', 'y']\n",
    "print(x)"
   ]
  },
  {
   "cell_type": "code",
   "execution_count": 39,
   "metadata": {},
   "outputs": [
    {
     "name": "stdout",
     "output_type": "stream",
     "text": [
      "[10, 'x', 'z', 43, 15, 20]\n"
     ]
    }
   ],
   "source": [
    "x[1:3] = ['x']\n",
    "print(x)"
   ]
  },
  {
   "cell_type": "code",
   "execution_count": 50,
   "metadata": {},
   "outputs": [
    {
     "name": "stdout",
     "output_type": "stream",
     "text": [
      "[1, 3, 5, 7, 9, 11]\n",
      "[1, 3, 5, 7]\n",
      "[2, 4, 6, 8]\n",
      "[1, 2, 3, 4, 5, 6, 7, 8, 9, 10, 11, 12]\n"
     ]
    }
   ],
   "source": [
    "adadha = [1, 2, 3, 4, 5, 6, 7, 8, 9, 10, 11, 12]\n",
    "print(adadha[::2])\n",
    "print(adadha[:8:2])\n",
    "print(adadha[1:8:2])\n",
    "print(adadha)"
   ]
  },
  {
   "cell_type": "code",
   "execution_count": 49,
   "metadata": {
    "scrolled": true
   },
   "outputs": [
    {
     "ename": "ValueError",
     "evalue": "attempt to assign sequence of size 7 to extended slice of size 6",
     "output_type": "error",
     "traceback": [
      "\u001b[1;31m---------------------------------------------------------------------------\u001b[0m",
      "\u001b[1;31mValueError\u001b[0m                                Traceback (most recent call last)",
      "\u001b[1;32m<ipython-input-49-49394144f7f4>\u001b[0m in \u001b[0;36m<module>\u001b[1;34m\u001b[0m\n\u001b[1;32m----> 1\u001b[1;33m \u001b[0madadha\u001b[0m\u001b[1;33m[\u001b[0m\u001b[1;33m:\u001b[0m\u001b[1;33m:\u001b[0m\u001b[1;36m2\u001b[0m\u001b[1;33m]\u001b[0m\u001b[1;33m=\u001b[0m \u001b[1;33m[\u001b[0m\u001b[1;34m'yek'\u001b[0m\u001b[1;33m,\u001b[0m \u001b[1;34m'se'\u001b[0m\u001b[1;33m,\u001b[0m \u001b[1;34m'panj'\u001b[0m\u001b[1;33m,\u001b[0m \u001b[1;34m'haft'\u001b[0m\u001b[1;33m,\u001b[0m \u001b[1;34m'noh'\u001b[0m\u001b[1;33m,\u001b[0m \u001b[1;34m'yazdah'\u001b[0m\u001b[1;33m,\u001b[0m \u001b[1;34m'sizdah'\u001b[0m\u001b[1;33m]\u001b[0m\u001b[1;33m\u001b[0m\u001b[0m\n\u001b[0m\u001b[0;32m      2\u001b[0m \u001b[0madadha\u001b[0m\u001b[1;33m\u001b[0m\u001b[0m\n",
      "\u001b[1;31mValueError\u001b[0m: attempt to assign sequence of size 7 to extended slice of size 6"
     ]
    }
   ],
   "source": [
    "adadha[::2]= ['yek', 'se', 'panj', 'haft', 'noh', 'yazdah', 'sizdah']\n",
    "adadha"
   ]
  },
  {
   "cell_type": "code",
   "execution_count": 51,
   "metadata": {},
   "outputs": [
    {
     "data": {
      "text/plain": [
       "[10, 11]"
      ]
     },
     "execution_count": 51,
     "metadata": {},
     "output_type": "execute_result"
    }
   ],
   "source": [
    "adadha = [1, 2, 3, 4, 5, 6, 7, 8, 9, 10, 11, 12]\n",
    "adadha[-3:-1]"
   ]
  },
  {
   "cell_type": "code",
   "execution_count": 54,
   "metadata": {},
   "outputs": [
    {
     "data": {
      "text/plain": [
       "[12, 11]"
      ]
     },
     "execution_count": 54,
     "metadata": {},
     "output_type": "execute_result"
    }
   ],
   "source": [
    "adadha[-1:-3:-1]"
   ]
  },
  {
   "cell_type": "code",
   "execution_count": 55,
   "metadata": {},
   "outputs": [
    {
     "data": {
      "text/plain": [
       "[12, 11, 10, 9, 8, 7, 6, 5, 4, 3, 2, 1]"
      ]
     },
     "execution_count": 55,
     "metadata": {},
     "output_type": "execute_result"
    }
   ],
   "source": [
    "adadha[::-1]"
   ]
  },
  {
   "cell_type": "code",
   "execution_count": 56,
   "metadata": {},
   "outputs": [
    {
     "data": {
      "text/plain": [
       "[12, 10, 8, 6, 4, 2]"
      ]
     },
     "execution_count": 56,
     "metadata": {},
     "output_type": "execute_result"
    }
   ],
   "source": [
    "adadha[::-2]"
   ]
  },
  {
   "cell_type": "code",
   "execution_count": 58,
   "metadata": {},
   "outputs": [
    {
     "data": {
      "text/plain": [
       "True"
      ]
     },
     "execution_count": 58,
     "metadata": {},
     "output_type": "execute_result"
    }
   ],
   "source": [
    "panirha = ['liqvan', 'mozzerlla', 'cheddar', 'gouda']\n",
    "'liqvan' in panirha"
   ]
  },
  {
   "cell_type": "code",
   "execution_count": 59,
   "metadata": {},
   "outputs": [
    {
     "data": {
      "text/plain": [
       "False"
      ]
     },
     "execution_count": 59,
     "metadata": {},
     "output_type": "execute_result"
    }
   ],
   "source": [
    "'siamazgi' in panirha"
   ]
  },
  {
   "cell_type": "code",
   "execution_count": 60,
   "metadata": {},
   "outputs": [
    {
     "name": "stdout",
     "output_type": "stream",
     "text": [
      "liqvan\n",
      "mozzerlla\n",
      "cheddar\n",
      "gouda\n"
     ]
    }
   ],
   "source": [
    "for panir in panirha:\n",
    "    print(panir)"
   ]
  },
  {
   "cell_type": "code",
   "execution_count": 64,
   "metadata": {},
   "outputs": [
    {
     "name": "stdout",
     "output_type": "stream",
     "text": [
      "liqvan\n",
      "mozzerlla\n",
      "cheddar\n",
      "gouda\n"
     ]
    }
   ],
   "source": [
    "for i in range(len(panirha)):\n",
    "    print(panirha[i])"
   ]
  },
  {
   "cell_type": "code",
   "execution_count": 65,
   "metadata": {
    "scrolled": true
   },
   "outputs": [
    {
     "data": {
      "text/plain": [
       "[2, 4, 6, 8, 10, 12, 14, 16, 18, 20, 22, 24]"
      ]
     },
     "execution_count": 65,
     "metadata": {},
     "output_type": "execute_result"
    }
   ],
   "source": [
    "for i in range(len(adadha)):\n",
    "    adadha[i] *=2\n",
    "adadha"
   ]
  },
  {
   "cell_type": "code",
   "execution_count": 67,
   "metadata": {},
   "outputs": [],
   "source": [
    "for i in []:\n",
    "    print('Spimezget')\n",
    "    \n"
   ]
  },
  {
   "cell_type": "code",
   "execution_count": 69,
   "metadata": {},
   "outputs": [
    {
     "data": {
      "text/plain": [
       "32"
      ]
     },
     "execution_count": 69,
     "metadata": {},
     "output_type": "execute_result"
    }
   ],
   "source": [
    "adadha\n",
    "adadha[0] + adadha[3] + adadha[10]"
   ]
  },
  {
   "cell_type": "code",
   "execution_count": 73,
   "metadata": {},
   "outputs": [
    {
     "name": "stdout",
     "output_type": "stream",
     "text": [
      "[]\n",
      "[1]\n",
      "[1, 3]\n",
      "[1, 3, 5]\n",
      "[1, 3, 5, 7]\n",
      "[1, 3, 5, 7, 9]\n",
      "[1, 3, 5, 7, 9, 11]\n",
      "[1, 3, 5, 7, 9, 11, 13]\n",
      "[1, 3, 5, 7, 9, 11, 13, 15]\n"
     ]
    }
   ],
   "source": [
    "a_feh = []\n",
    "print(a_feh)\n",
    "for adad in range(1, 16, 2):\n",
    "    a_feh += [adad]\n",
    "    print(a_feh)\n",
    "\n",
    "# a_feh"
   ]
  },
  {
   "cell_type": "code",
   "execution_count": 80,
   "metadata": {},
   "outputs": [
    {
     "name": "stdout",
     "output_type": "stream",
     "text": [
      "[1, 2, 3, 7, 4, 5, 6]\n"
     ]
    }
   ],
   "source": [
    "a = [1, 2, 3, 7]\n",
    "b = [4, 5, 6]\n",
    "c = a + b\n",
    "print(c)"
   ]
  },
  {
   "cell_type": "code",
   "execution_count": 82,
   "metadata": {},
   "outputs": [
    {
     "name": "stdout",
     "output_type": "stream",
     "text": [
      "['liqvan', 'mozzerlla', 'cheddar', 'gouda', 'siamezgi', 'siamezgi', 'siamezgi', 'siamezgi']\n"
     ]
    }
   ],
   "source": [
    "panirha = panirha + ['siamezgi']\n",
    "print(panirha)"
   ]
  },
  {
   "cell_type": "code",
   "execution_count": 84,
   "metadata": {},
   "outputs": [
    {
     "data": {
      "text/plain": [
       "[0, 0, 0, 0, 0, 0, 0]"
      ]
     },
     "execution_count": 84,
     "metadata": {},
     "output_type": "execute_result"
    }
   ],
   "source": [
    "[0] * 7\n"
   ]
  },
  {
   "cell_type": "code",
   "execution_count": 85,
   "metadata": {},
   "outputs": [
    {
     "data": {
      "text/plain": [
       "[1, 2, 3, 1, 2, 3, 1, 2, 3, 1, 2, 3]"
      ]
     },
     "execution_count": 85,
     "metadata": {},
     "output_type": "execute_result"
    }
   ],
   "source": [
    "[1, 2, 3] * 4"
   ]
  },
  {
   "cell_type": "code",
   "execution_count": 87,
   "metadata": {},
   "outputs": [
    {
     "name": "stdout",
     "output_type": "stream",
     "text": [
      "['a', 'b', 'c', 'd']\n"
     ]
    }
   ],
   "source": [
    "t = ['a', 'b', 'c']\n",
    "t.append('d')\n",
    "print(t)"
   ]
  },
  {
   "cell_type": "code",
   "execution_count": 89,
   "metadata": {},
   "outputs": [
    {
     "name": "stdout",
     "output_type": "stream",
     "text": [
      "[]\n"
     ]
    },
    {
     "ename": "TypeError",
     "evalue": "'int' object is not iterable",
     "output_type": "error",
     "traceback": [
      "\u001b[1;31m---------------------------------------------------------------------------\u001b[0m",
      "\u001b[1;31mTypeError\u001b[0m                                 Traceback (most recent call last)",
      "\u001b[1;32m<ipython-input-89-aeb5ddac25e7>\u001b[0m in \u001b[0;36m<module>\u001b[1;34m\u001b[0m\n\u001b[0;32m      2\u001b[0m \u001b[0mprint\u001b[0m\u001b[1;33m(\u001b[0m\u001b[0ma_feh\u001b[0m\u001b[1;33m)\u001b[0m\u001b[1;33m\u001b[0m\u001b[0m\n\u001b[0;32m      3\u001b[0m \u001b[1;32mfor\u001b[0m \u001b[0madad\u001b[0m \u001b[1;32min\u001b[0m \u001b[0mrange\u001b[0m\u001b[1;33m(\u001b[0m\u001b[1;36m1\u001b[0m\u001b[1;33m,\u001b[0m \u001b[1;36m16\u001b[0m\u001b[1;33m,\u001b[0m \u001b[1;36m2\u001b[0m\u001b[1;33m)\u001b[0m\u001b[1;33m:\u001b[0m\u001b[1;33m\u001b[0m\u001b[0m\n\u001b[1;32m----> 4\u001b[1;33m     \u001b[0ma_feh\u001b[0m \u001b[1;33m+=\u001b[0m \u001b[0madad\u001b[0m\u001b[1;33m\u001b[0m\u001b[0m\n\u001b[0m\u001b[0;32m      5\u001b[0m     \u001b[0mprint\u001b[0m\u001b[1;33m(\u001b[0m\u001b[0ma_feh\u001b[0m\u001b[1;33m)\u001b[0m\u001b[1;33m\u001b[0m\u001b[0m\n\u001b[0;32m      6\u001b[0m \u001b[1;33m\u001b[0m\u001b[0m\n",
      "\u001b[1;31mTypeError\u001b[0m: 'int' object is not iterable"
     ]
    }
   ],
   "source": [
    "\n",
    "a_feh = []\n",
    "print(a_feh)\n",
    "for adad in range(1, 16, 2):\n",
    "    a_feh += adad\n",
    "    print(a_feh)\n",
    "\n",
    "# a_feh"
   ]
  },
  {
   "cell_type": "code",
   "execution_count": 91,
   "metadata": {},
   "outputs": [
    {
     "name": "stdout",
     "output_type": "stream",
     "text": [
      "[]\n",
      "[1]\n",
      "[1, 3]\n",
      "[1, 3, 5]\n",
      "[1, 3, 5, 7]\n",
      "[1, 3, 5, 7, 9]\n",
      "[1, 3, 5, 7, 9, 11]\n",
      "[1, 3, 5, 7, 9, 11, 13]\n",
      "[1, 3, 5, 7, 9, 11, 13, 15]\n"
     ]
    }
   ],
   "source": [
    "a_feh = []\n",
    "print(a_feh)\n",
    "for adad in range(1, 16, 2):\n",
    "    a_feh.append(adad)\n",
    "    print(a_feh)\n",
    "\n",
    "# a_feh"
   ]
  },
  {
   "cell_type": "code",
   "execution_count": 90,
   "metadata": {},
   "outputs": [
    {
     "name": "stdout",
     "output_type": "stream",
     "text": [
      "[]\n",
      "[[1]]\n",
      "[[1], [3]]\n",
      "[[1], [3], [5]]\n",
      "[[1], [3], [5], [7]]\n",
      "[[1], [3], [5], [7], [9]]\n",
      "[[1], [3], [5], [7], [9], [11]]\n",
      "[[1], [3], [5], [7], [9], [11], [13]]\n",
      "[[1], [3], [5], [7], [9], [11], [13], [15]]\n"
     ]
    }
   ],
   "source": [
    "a_feh = []\n",
    "print(a_feh)\n",
    "for adad in range(1, 16, 2):\n",
    "    a_feh.append([adad])\n",
    "    print(a_feh)\n",
    "\n",
    "# a_feh"
   ]
  },
  {
   "cell_type": "code",
   "execution_count": 94,
   "metadata": {},
   "outputs": [
    {
     "data": {
      "text/plain": [
       "[1, 2, 3, 4, 5]"
      ]
     },
     "execution_count": 94,
     "metadata": {},
     "output_type": "execute_result"
    }
   ],
   "source": [
    "a_feh2 = []\n",
    "for mqdar in range(1, 6):\n",
    "    a_feh2 += [mqdar]\n",
    "a_feh2"
   ]
  },
  {
   "cell_type": "code",
   "execution_count": 101,
   "metadata": {},
   "outputs": [
    {
     "data": {
      "text/plain": [
       "[1, 2, 3, 4, 5]"
      ]
     },
     "execution_count": 101,
     "metadata": {},
     "output_type": "execute_result"
    }
   ],
   "source": [
    "a_feh3 = [ i for i in range(1, 6)]\n",
    "a_feh3"
   ]
  },
  {
   "cell_type": "code",
   "execution_count": 98,
   "metadata": {},
   "outputs": [
    {
     "data": {
      "text/plain": [
       "[2, 4, 6, 8, 10]"
      ]
     },
     "execution_count": 98,
     "metadata": {},
     "output_type": "execute_result"
    }
   ],
   "source": [
    "a_feh3 = [ 2* mqdar for mqdar in range(1, 6)]\n",
    "a_feh3"
   ]
  },
  {
   "cell_type": "code",
   "execution_count": 102,
   "metadata": {},
   "outputs": [
    {
     "data": {
      "text/plain": [
       "[1, 4, 9, 16, 25]"
      ]
     },
     "execution_count": 102,
     "metadata": {},
     "output_type": "execute_result"
    }
   ],
   "source": [
    "a_feh3 = [ mqdar ** 2 for mqdar in range(1, 6)]\n",
    "a_feh3"
   ]
  },
  {
   "cell_type": "code",
   "execution_count": 107,
   "metadata": {},
   "outputs": [
    {
     "data": {
      "text/plain": [
       "[3, 6, 9]"
      ]
     },
     "execution_count": 107,
     "metadata": {},
     "output_type": "execute_result"
    }
   ],
   "source": [
    "a_feh4 = [  mqdar for mqdar in range(1, 11) if mqdar % 3 == 0]\n",
    "a_feh4"
   ]
  },
  {
   "cell_type": "code",
   "execution_count": 111,
   "metadata": {},
   "outputs": [
    {
     "name": "stdout",
     "output_type": "stream",
     "text": [
      "['LIQVAN', 'MOZZERLLA', 'CHEDDAR', 'GOUDA', 'SIAMEZGI', 'SIAMEZGI', 'SIAMEZGI', 'SIAMEZGI']\n"
     ]
    }
   ],
   "source": [
    "panirha2 = [mqdar.upper() for mqdar in panirha]\n",
    "print(panirha2)"
   ]
  },
  {
   "cell_type": "code",
   "execution_count": 124,
   "metadata": {},
   "outputs": [
    {
     "name": "stdout",
     "output_type": "stream",
     "text": [
      "['abjad', 'd', 'e', 'f', 'g', 'h']\n"
     ]
    }
   ],
   "source": [
    "t = ['d', 'e', 'f', 'g', 'h']\n",
    "t.insert(0, 'abjad')\n",
    "print(t)"
   ]
  },
  {
   "cell_type": "code",
   "execution_count": 126,
   "metadata": {},
   "outputs": [
    {
     "name": "stdout",
     "output_type": "stream",
     "text": [
      "[1, 2, 3, 5, 6, 7, 8, 9, 10]\n",
      "[1, 2, 'baqrzade', 3, 5, 6, 7, 8, 9, 10]\n"
     ]
    }
   ],
   "source": [
    "a = [1, 2, 3, 5, 6, 7, 8, 9, 10]\n",
    "print(a)\n",
    "a.insert(2,'baqrzade')\n",
    "print(a)\n"
   ]
  },
  {
   "cell_type": "code",
   "execution_count": 130,
   "metadata": {},
   "outputs": [
    {
     "name": "stdout",
     "output_type": "stream",
     "text": [
      "['a', 'b', 'c', 'd', 'e']\n"
     ]
    }
   ],
   "source": [
    "f1 = ['a', 'b', 'c']\n",
    "f2 = ['d', 'e']\n",
    "f1.extend(f2)\n",
    "print(f1)"
   ]
  },
  {
   "cell_type": "code",
   "execution_count": 131,
   "metadata": {},
   "outputs": [
    {
     "name": "stdout",
     "output_type": "stream",
     "text": [
      "['a', 'c', 'd', 'e', 'g']\n"
     ]
    }
   ],
   "source": [
    "f3 = ['e', 'g', 'a', 'c', 'd']\n",
    "f3.sort()\n",
    "print(f3)"
   ]
  },
  {
   "cell_type": "code",
   "execution_count": 134,
   "metadata": {
    "scrolled": true
   },
   "outputs": [
    {
     "name": "stdout",
     "output_type": "stream",
     "text": [
      "['a', 'c', 'd', 'e', 'g', 'h']\n",
      "['e', 'g', 'a', 'c', 'd', 'h']\n"
     ]
    }
   ],
   "source": [
    "f4 = ['e', 'g', 'a', 'c', 'd', 'h']\n",
    "print(sorted(f4))\n",
    "print(f4)"
   ]
  },
  {
   "cell_type": "code",
   "execution_count": 137,
   "metadata": {},
   "outputs": [
    {
     "data": {
      "text/plain": [
       "[]"
      ]
     },
     "execution_count": 137,
     "metadata": {},
     "output_type": "execute_result"
    }
   ],
   "source": [
    "adadha.clear()\n",
    "adadha"
   ]
  },
  {
   "cell_type": "code",
   "execution_count": 144,
   "metadata": {},
   "outputs": [],
   "source": [
    "a = 5\n",
    "b = 7"
   ]
  },
  {
   "cell_type": "code",
   "execution_count": 146,
   "metadata": {},
   "outputs": [
    {
     "name": "stdout",
     "output_type": "stream",
     "text": [
      "1639737536\n",
      "1639737568\n"
     ]
    }
   ],
   "source": [
    "print(id(a))\n",
    "print(id(b))"
   ]
  },
  {
   "cell_type": "code",
   "execution_count": 147,
   "metadata": {},
   "outputs": [],
   "source": [
    "c = [1, 2 , 3]"
   ]
  },
  {
   "cell_type": "code",
   "execution_count": 155,
   "metadata": {},
   "outputs": [
    {
     "name": "stdout",
     "output_type": "stream",
     "text": [
      "124305816\n",
      "124305816\n",
      "124415912\n"
     ]
    }
   ],
   "source": [
    "c = [1, 2 , 3]\n",
    "print(id(c))\n",
    "c.clear()\n",
    "print(id(c))\n",
    "del c[:]\n",
    "c = [2, 3]\n",
    "print(id(c))"
   ]
  },
  {
   "cell_type": "code",
   "execution_count": 160,
   "metadata": {},
   "outputs": [
    {
     "name": "stdout",
     "output_type": "stream",
     "text": [
      "[1, 2, 3, 4, 5, 6, 7, 8, 9]\n",
      "[1, 2, 6, 7, 8, 9]\n"
     ]
    }
   ],
   "source": [
    "adadha = [i for i in range(1, 10)]\n",
    "print(adadha)\n",
    "del adadha[2:5]\n",
    "print(adadha)"
   ]
  },
  {
   "cell_type": "code",
   "execution_count": 163,
   "metadata": {},
   "outputs": [
    {
     "data": {
      "text/plain": [
       "['a', 'c', 'e']"
      ]
     },
     "execution_count": 163,
     "metadata": {},
     "output_type": "execute_result"
    }
   ],
   "source": [
    "f5 = ['a', 'd', 'c', 'e']\n",
    "f5.remove('d')\n",
    "f5"
   ]
  },
  {
   "cell_type": "code",
   "execution_count": 164,
   "metadata": {},
   "outputs": [
    {
     "data": {
      "text/plain": [
       "[1, 2, 3, 5, 6, 7, 8, 9]"
      ]
     },
     "execution_count": 164,
     "metadata": {},
     "output_type": "execute_result"
    }
   ],
   "source": [
    "adadha = [i for i in range(1, 10)]\n",
    "adadha.remove(4)\n",
    "adadha\n"
   ]
  },
  {
   "cell_type": "code",
   "execution_count": 174,
   "metadata": {},
   "outputs": [
    {
     "name": "stdout",
     "output_type": "stream",
     "text": [
      "[9, 8, 7, 6, 5, 3, 2, 1]\n"
     ]
    }
   ],
   "source": [
    "adadha.reverse()\n",
    "print(adadha)\n"
   ]
  },
  {
   "cell_type": "code",
   "execution_count": 181,
   "metadata": {},
   "outputs": [
    {
     "data": {
      "text/plain": [
       "False"
      ]
     },
     "execution_count": 181,
     "metadata": {},
     "output_type": "execute_result"
    }
   ],
   "source": [
    "a = [1, 3, 3]\n",
    "b = [1, 2, 300]\n",
    "c = [1, 2, 3, 4]\n",
    "a == b"
   ]
  },
  {
   "cell_type": "code",
   "execution_count": 184,
   "metadata": {},
   "outputs": [
    {
     "data": {
      "text/plain": [
       "True"
      ]
     },
     "execution_count": 184,
     "metadata": {},
     "output_type": "execute_result"
    }
   ],
   "source": [
    "a > b"
   ]
  },
  {
   "cell_type": "code",
   "execution_count": 185,
   "metadata": {},
   "outputs": [
    {
     "data": {
      "text/plain": [
       "1"
      ]
     },
     "execution_count": 185,
     "metadata": {},
     "output_type": "execute_result"
    }
   ],
   "source": [
    "adadha = [123, 45, 32, 76, 45, 82, 33, 45, 90, 136]\n",
    "adadha.index(45)"
   ]
  },
  {
   "cell_type": "code",
   "execution_count": 188,
   "metadata": {},
   "outputs": [
    {
     "data": {
      "text/plain": [
       "7"
      ]
     },
     "execution_count": 188,
     "metadata": {},
     "output_type": "execute_result"
    }
   ],
   "source": [
    "adadha = [123, 45, 32, 76, 45, 82, 33, 45, 90, 136]\n",
    "adadha.index(45 , 5 , len(adadha))"
   ]
  },
  {
   "cell_type": "code",
   "execution_count": 189,
   "metadata": {},
   "outputs": [
    {
     "data": {
      "text/plain": [
       "True"
      ]
     },
     "execution_count": 189,
     "metadata": {},
     "output_type": "execute_result"
    }
   ],
   "source": [
    "45 in adadha"
   ]
  },
  {
   "cell_type": "code",
   "execution_count": 195,
   "metadata": {},
   "outputs": [],
   "source": [
    "adadha = [123, 45, 32, 76, 45, 82, 33, 45, 90, 136]\n",
    "kelid = 32\n",
    "\n",
    "def jostejo(feh, kelid):\n",
    "    for i in range(len(feh)):\n",
    "        if kelid == feh[i]:\n",
    "            return i\n",
    "        \n",
    "jostejo(adadha, 137)\n"
   ]
  },
  {
   "cell_type": "code",
   "execution_count": 3,
   "metadata": {},
   "outputs": [
    {
     "data": {
      "text/plain": [
       "1"
      ]
     },
     "execution_count": 3,
     "metadata": {},
     "output_type": "execute_result"
    }
   ],
   "source": [
    "adadha = [123, 45, 32, 76, 45, 82, 33, 45, 90, 136]\n",
    "kelid = 32\n",
    "\n",
    "def jostejo2(feh, kelid):\n",
    "    andis = -1\n",
    "    for i in range(len(feh)):\n",
    "        if kelid == feh[i]:\n",
    "            andis =  i\n",
    "            break\n",
    "   \n",
    "\n",
    "    if andis == -1:\n",
    "        print('mojod nist')\n",
    "    return andis\n",
    "        \n",
    "jostejo2(adadha, 45)\n"
   ]
  },
  {
   "cell_type": "code",
   "execution_count": null,
   "metadata": {},
   "outputs": [],
   "source": [
    "adadha = [123, 45, 32, 76, 45, 82, 33, 45, 90, 136]\n",
    "kelid = 32\n",
    "\n",
    "def jostejo2(feh, kelid):\n",
    "    andis = -1\n",
    "    for i in range(len(feh)):\n",
    "        if kelid == feh[i]:\n",
    "            andis =  i\n",
    "            break\n",
    "   \n",
    "\n",
    "    if andis == -1:\n",
    "        print('mojod nist')\n",
    "    return andis\n",
    "        \n",
    "jostejo2(adadha, 45)\n"
   ]
  },
  {
   "cell_type": "code",
   "execution_count": 9,
   "metadata": {},
   "outputs": [
    {
     "name": "stdout",
     "output_type": "stream",
     "text": [
      "7\n",
      "1\n"
     ]
    }
   ],
   "source": [
    "adadha = [123, 45, 32, 76, 45, 82, 33, 45, 90, 136]\n",
    "kelid = 32\n",
    "\n",
    "def jostejo3(feh, kelid, aqaz=0):\n",
    "    andis = -1\n",
    "    for i in range(aqaz, len(feh)):\n",
    "        if kelid == feh[i]:\n",
    "            andis =  i\n",
    "            break\n",
    "   \n",
    "\n",
    "    if andis == -1:\n",
    "        print('mojod nist')\n",
    "    return andis\n",
    "        \n",
    "print(jostejo3(adadha, 45, 5))\n",
    "print(jostejo3(adadha, 45))"
   ]
  },
  {
   "cell_type": "code",
   "execution_count": 16,
   "metadata": {},
   "outputs": [
    {
     "data": {
      "text/plain": [
       "136"
      ]
     },
     "execution_count": 16,
     "metadata": {},
     "output_type": "execute_result"
    }
   ],
   "source": [
    "def bish(feh):\n",
    "    b = -2e7\n",
    "    for i in range(len(feh)):\n",
    "        if feh[i] > b:\n",
    "            b = feh[i]\n",
    "    return b\n",
    "bish(adadha)\n",
    "        "
   ]
  },
  {
   "cell_type": "code",
   "execution_count": 17,
   "metadata": {},
   "outputs": [
    {
     "data": {
      "text/plain": [
       "(9, 136)"
      ]
     },
     "execution_count": 17,
     "metadata": {},
     "output_type": "execute_result"
    }
   ],
   "source": [
    "def bish2(feh):\n",
    "    b = -2e7\n",
    "    b_i = -1\n",
    "    for i in range(len(feh)):\n",
    "        if feh[i] > b:\n",
    "            b = feh[i]\n",
    "            b_i = i\n",
    "    return b_i, b\n",
    "bish2(adadha)\n",
    "        "
   ]
  },
  {
   "cell_type": "code",
   "execution_count": 18,
   "metadata": {},
   "outputs": [
    {
     "data": {
      "text/plain": [
       "(9, 136, 2, 32)"
      ]
     },
     "execution_count": 18,
     "metadata": {},
     "output_type": "execute_result"
    }
   ],
   "source": [
    "def bish_kam(feh):\n",
    "    b = -2e7\n",
    "    k = 2e7\n",
    "    b_i = -1\n",
    "    k_i = -1\n",
    "    for i in range(len(feh)):\n",
    "        if feh[i] > b:\n",
    "            b = feh[i]\n",
    "            b_i = i\n",
    "        if feh[i] < k:\n",
    "            k = feh[i]\n",
    "            k_i = i\n",
    "            \n",
    "    return b_i, b, k_i, k\n",
    "bish_kam(adadha)\n",
    "        "
   ]
  },
  {
   "cell_type": "code",
   "execution_count": 20,
   "metadata": {
    "scrolled": true
   },
   "outputs": [
    {
     "data": {
      "text/plain": [
       "[123, 32, 76, 45, 82, 33, 45, 90, 136]"
      ]
     },
     "execution_count": 20,
     "metadata": {},
     "output_type": "execute_result"
    }
   ],
   "source": [
    "adadha = [123, 45, 32, 76, 45, 82, 33, 45, 90, 136]\n",
    "adadha.pop(1)\n",
    "adadha"
   ]
  },
  {
   "cell_type": "code",
   "execution_count": 36,
   "metadata": {},
   "outputs": [],
   "source": [
    "def hazf_bish(feh):\n",
    "    b = feh[0]\n",
    "    b_i = 0\n",
    "    for i in range(1, len(feh)):\n",
    "        if b < feh[i]:\n",
    "            b = feh[i]\n",
    "            b_i = i\n",
    "    \n",
    "    return b_i #% feh\n"
   ]
  },
  {
   "cell_type": "code",
   "execution_count": 37,
   "metadata": {},
   "outputs": [
    {
     "name": "stdout",
     "output_type": "stream",
     "text": [
      "[123, 45, 32, 76, 45, 33, 45, 90, 136]\n",
      "[123, 45, 32, 76, 45, 33, 45, 90]\n",
      "[45, 32, 76, 45, 33, 45, 90]\n",
      "[45, 32, 76, 45, 33, 45]\n",
      "[45, 32, 45, 33, 45]\n",
      "[32, 45, 33, 45]\n",
      "[32, 33, 45]\n",
      "[32, 33]\n",
      "[32]\n",
      "[]\n"
     ]
    }
   ],
   "source": [
    "adadha = [123, 45, 32, 76, 45, 182, 33, 45, 90, 136]\n",
    "hazf_bish(adadha)\n",
    "for i in range(len(adadha)):\n",
    "    b_i = hazf_bish(adadha)\n",
    "    adadha.pop(b_i)\n",
    "    print(adadha)\n"
   ]
  },
  {
   "cell_type": "code",
   "execution_count": 38,
   "metadata": {},
   "outputs": [
    {
     "data": {
      "text/plain": [
       "[182, 136, 123, 90, 76, 45, 45, 45, 33, 32]"
      ]
     },
     "execution_count": 38,
     "metadata": {},
     "output_type": "execute_result"
    }
   ],
   "source": [
    "def sort_badvi(feh):\n",
    "    feh_morattab = []\n",
    "    while len(feh) > 0:\n",
    "        feh_morattab.append(feh.pop(hazf_bish(feh)))\n",
    "    return feh_morattab\n",
    "adadha = [123, 45, 32, 76, 45, 182, 33, 45, 90, 136]\n",
    "sort_badvi(adadha)"
   ]
  },
  {
   "cell_type": "code",
   "execution_count": 41,
   "metadata": {},
   "outputs": [
    {
     "data": {
      "image/png": "[encoded data removed]",
      "text/plain": [
       "<Figure size 432x288 with 1 Axes>"
      ]
     },
     "metadata": {
      "needs_background": "light"
     },
     "output_type": "display_data"
    }
   ],
   "source": [
    "import matplotlib.pyplot as plt\n",
    "\n",
    "x = [1, 2, 3, 4, 5, 6, 7, 8, 9, 10]\n",
    "y = [5, 3, 2, 4, 8, 7, 4, 8, 10, 9]\n",
    "\n",
    "plt.plot(x, y)\n",
    "plt.xlabel('Zaman (s)')\n",
    "plt.ylabel('Dama (C)')\n",
    "\n",
    "plt.show()"
   ]
  },
  {
   "cell_type": "code",
   "execution_count": 42,
   "metadata": {},
   "outputs": [
    {
     "data": {
      "image/png": "[encoded data removed]",
      "text/plain": [
       "<Figure size 432x288 with 1 Axes>"
      ]
     },
     "metadata": {
      "needs_background": "light"
     },
     "output_type": "display_data"
    }
   ],
   "source": [
    "import matplotlib.pyplot as plt\n",
    "import numpy as np\n",
    "\n",
    "x = [0, 1, 2, 3, 4, 5, 6, 7, 8, 9, 10]\n",
    "y = np.sin(x)\n",
    "\n",
    "plt.plot(x, y)\n",
    "plt.xlabel('x')\n",
    "plt.ylabel('sin(x)')\n",
    "plt.show()"
   ]
  },
  {
   "cell_type": "code",
   "execution_count": 46,
   "metadata": {},
   "outputs": [
    {
     "data": {
      "image/png": "[encoded data removed]",
      "text/plain": [
       "<Figure size 432x288 with 1 Axes>"
      ]
     },
     "metadata": {
      "needs_background": "light"
     },
     "output_type": "display_data"
    }
   ],
   "source": [
    "import matplotlib.pyplot as plt\n",
    "import numpy as np\n",
    "\n",
    "x = np.arange(0, 2 * np.pi, 0.1)\n",
    "y = np.sin(x)\n",
    "\n",
    "plt.plot(x, y)\n",
    "plt.xlabel('x')\n",
    "plt.ylabel('sin(x)')\n",
    "plt.show()"
   ]
  },
  {
   "cell_type": "code",
   "execution_count": 45,
   "metadata": {},
   "outputs": [
    {
     "data": {
      "text/plain": [
       "array([0. , 0.1, 0.2, 0.3, 0.4, 0.5, 0.6, 0.7, 0.8, 0.9, 1. , 1.1, 1.2,\n",
       "       1.3, 1.4, 1.5, 1.6, 1.7, 1.8, 1.9, 2. , 2.1, 2.2, 2.3, 2.4, 2.5,\n",
       "       2.6, 2.7, 2.8, 2.9, 3. , 3.1, 3.2, 3.3, 3.4, 3.5, 3.6, 3.7, 3.8,\n",
       "       3.9, 4. , 4.1, 4.2, 4.3, 4.4, 4.5, 4.6, 4.7, 4.8, 4.9, 5. , 5.1,\n",
       "       5.2, 5.3, 5.4, 5.5, 5.6, 5.7, 5.8, 5.9, 6. , 6.1, 6.2])"
      ]
     },
     "execution_count": 45,
     "metadata": {},
     "output_type": "execute_result"
    }
   ],
   "source": [
    "x = np.arange(0, 2 * np.pi, 0.1)\n",
    "x"
   ]
  },
  {
   "cell_type": "code",
   "execution_count": 50,
   "metadata": {},
   "outputs": [
    {
     "data": {
      "image/png": "[encoded data removed]",
      "text/plain": [
       "<Figure size 432x288 with 1 Axes>"
      ]
     },
     "metadata": {
      "needs_background": "light"
     },
     "output_type": "display_data"
    },
    {
     "data": {
      "image/png": "[encoded data removed]",
      "text/plain": [
       "<Figure size 432x288 with 1 Axes>"
      ]
     },
     "metadata": {
      "needs_background": "light"
     },
     "output_type": "display_data"
    }
   ],
   "source": [
    "import matplotlib.pyplot as plt\n",
    "import numpy as np\n",
    "\n",
    "x = np.arange(0, 2 * np.pi, 0.1)\n",
    "y = np.sin(x)\n",
    "z = np.cos(x)\n",
    "plt.subplot(2,1,1)\n",
    "plt.plot(x, y)\n",
    "plt.xlabel('x')\n",
    "plt.ylabel('sin(x)')\n",
    "plt.grid()\n",
    "plt.title('sin')\n",
    "plt.show()\n",
    "\n",
    "plt.subplot(2,1,2)\n",
    "plt.plot(x, z, 'r')\n",
    "plt.xlabel('x')\n",
    "plt.ylabel('cos(x)')\n",
    "plt.title('cos')\n",
    "plt.grid()\n",
    "plt.show()"
   ]
  },
  {
   "cell_type": "code",
   "execution_count": 1,
   "metadata": {},
   "outputs": [
    {
     "name": "stdout",
     "output_type": "stream",
     "text": [
      "Vajh      Farvani       Nesbat\n",
      "   1       999586       0.1666\n",
      "   2       999384       0.1666\n",
      "   3      1000180       0.1667\n",
      "   4      1000078       0.1667\n",
      "   5       999820       0.1666\n",
      "   6      1000952       0.1668\n"
     ]
    }
   ],
   "source": [
    "import random\n",
    "\n",
    "# Shomaresh farvani har vajhe tas\n",
    "faravani = [0] * 6\n",
    "\n",
    "#partab milioni tas\n",
    "tedad_partab = 6_000_000\n",
    "for tas in range(tedad_partab):\n",
    "    vajh = random.randrange(1, 7)    \n",
    "    # afzayesh tedad farvani vajhs motanzer baramade partab   \n",
    "    faravani[vajh-1] += 1\n",
    "\n",
    "# Mohasebeye nesbat tekrare har vajh\n",
    "nesbat = [f / tedad_partab for f in faravani]\n",
    "\n",
    "# Chap natayej\n",
    "print(f'Vajh{\"Farvani\":>13}{\"Nesbat\":>13}')\n",
    "for i in range(1,7):\n",
    "    print(f'{i:>4}{faravani[i-1]:>13}{nesbat[i-1]:>13.4f}')\n"
   ]
  },
  {
   "cell_type": "code",
   "execution_count": 2,
   "metadata": {},
   "outputs": [
    {
     "name": "stderr",
     "output_type": "stream",
     "text": [
      "c:\\users\\mh\\appdata\\local\\programs\\python\\python36-32\\lib\\site-packages\\ipykernel_launcher.py:3: UserWarning: In Matplotlib 3.3 individual lines on a stem plot will be added as a LineCollection instead of individual lines. This significantly improves the performance of a stem plot. To remove this warning and switch to the new behaviour, set the \"use_line_collection\" keyword argument to True.\n",
      "  This is separate from the ipykernel package so we can avoid doing imports until\n"
     ]
    },
    {
     "data": {
      "image/png": "[encoded data removed]",
      "text/plain": [
       "<Figure size 432x288 with 1 Axes>"
      ]
     },
     "metadata": {
      "needs_background": "light"
     },
     "output_type": "display_data"
    }
   ],
   "source": [
    "import matplotlib.pyplot as plt\n",
    "tas = [1,2,3,4,5,6]\n",
    "plt.stem(tas , nesbat )\n",
    "plt.xlabel( ' Vajh tas ' )\n",
    "plt.ylabel( ' ehtemal barAmadan vajh ' )\n",
    "plt.show( )\n"
   ]
  },
  {
   "cell_type": "code",
   "execution_count": 3,
   "metadata": {},
   "outputs": [
    {
     "name": "stderr",
     "output_type": "stream",
     "text": [
      "c:\\users\\mh\\appdata\\local\\programs\\python\\python36-32\\lib\\site-packages\\ipykernel_launcher.py:4: UserWarning: In Matplotlib 3.3 individual lines on a stem plot will be added as a LineCollection instead of individual lines. This significantly improves the performance of a stem plot. To remove this warning and switch to the new behaviour, set the \"use_line_collection\" keyword argument to True.\n",
      "  after removing the cwd from sys.path.\n",
      "c:\\users\\mh\\appdata\\local\\programs\\python\\python36-32\\lib\\site-packages\\ipykernel_launcher.py:8: UserWarning: In Matplotlib 3.3 individual lines on a stem plot will be added as a LineCollection instead of individual lines. This significantly improves the performance of a stem plot. To remove this warning and switch to the new behaviour, set the \"use_line_collection\" keyword argument to True.\n",
      "  \n"
     ]
    },
    {
     "data": {
      "image/png": "[encoded data removed]",
      "text/plain": [
       "<Figure size 432x288 with 2 Axes>"
      ]
     },
     "metadata": {
      "needs_background": "light"
     },
     "output_type": "display_data"
    }
   ],
   "source": [
    "import matplotlib.pyplot as plt\n",
    "\n",
    "plt.subplot(2,1,1)\n",
    "plt.stem(tas , nesbat )\n",
    "plt.xlabel( ' Vajh tas ' )\n",
    "plt.ylabel( ' ehtemal barAmadan vajh ' )\n",
    "plt.subplot(2,1,2)\n",
    "plt.stem(tas , faravani )\n",
    "plt.xlabel( ' Vajh tas ' )\n",
    "plt.ylabel( ' Tedad barAmadan vajh ' )\n",
    "plt.show( )"
   ]
  }
 ],
 "metadata": {
  "kernelspec": {
   "display_name": "Python 3",
   "language": "python",
   "name": "python3"
  },
  "language_info": {
   "codemirror_mode": {
    "name": "ipython",
    "version": 3
   },
   "file_extension": ".py",
   "mimetype": "text/x-python",
   "name": "python",
   "nbconvert_exporter": "python",
   "pygments_lexer": "ipython3",
   "version": "3.6.2"
  }
 },
 "nbformat": 4,
 "nbformat_minor": 4
}
