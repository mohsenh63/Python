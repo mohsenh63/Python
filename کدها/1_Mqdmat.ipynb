{
 "cells": [
  {
   "cell_type": "code",
   "execution_count": 5,
   "id": "066764f6",
   "metadata": {
    "scrolled": true
   },
   "outputs": [
    {
     "name": "stdout",
     "output_type": "stream",
     "text": [
      "Help on class tuple in module builtins:\n",
      "\n",
      "class tuple(object)\n",
      " |  tuple(iterable=(), /)\n",
      " |  \n",
      " |  Built-in immutable sequence.\n",
      " |  \n",
      " |  If no argument is given, the constructor returns an empty tuple.\n",
      " |  If iterable is specified the tuple is initialized from iterable's items.\n",
      " |  \n",
      " |  If the argument is a tuple, the return value is the same object.\n",
      " |  \n",
      " |  Built-in subclasses:\n",
      " |      asyncgen_hooks\n",
      " |      UnraisableHookArgs\n",
      " |  \n",
      " |  Methods defined here:\n",
      " |  \n",
      " |  __add__(self, value, /)\n",
      " |      Return self+value.\n",
      " |  \n",
      " |  __contains__(self, key, /)\n",
      " |      Return key in self.\n",
      " |  \n",
      " |  __eq__(self, value, /)\n",
      " |      Return self==value.\n",
      " |  \n",
      " |  __ge__(self, value, /)\n",
      " |      Return self>=value.\n",
      " |  \n",
      " |  __getattribute__(self, name, /)\n",
      " |      Return getattr(self, name).\n",
      " |  \n",
      " |  __getitem__(self, key, /)\n",
      " |      Return self[key].\n",
      " |  \n",
      " |  __getnewargs__(self, /)\n",
      " |  \n",
      " |  __gt__(self, value, /)\n",
      " |      Return self>value.\n",
      " |  \n",
      " |  __hash__(self, /)\n",
      " |      Return hash(self).\n",
      " |  \n",
      " |  __iter__(self, /)\n",
      " |      Implement iter(self).\n",
      " |  \n",
      " |  __le__(self, value, /)\n",
      " |      Return self<=value.\n",
      " |  \n",
      " |  __len__(self, /)\n",
      " |      Return len(self).\n",
      " |  \n",
      " |  __lt__(self, value, /)\n",
      " |      Return self<value.\n",
      " |  \n",
      " |  __mul__(self, value, /)\n",
      " |      Return self*value.\n",
      " |  \n",
      " |  __ne__(self, value, /)\n",
      " |      Return self!=value.\n",
      " |  \n",
      " |  __repr__(self, /)\n",
      " |      Return repr(self).\n",
      " |  \n",
      " |  __rmul__(self, value, /)\n",
      " |      Return value*self.\n",
      " |  \n",
      " |  count(self, value, /)\n",
      " |      Return number of occurrences of value.\n",
      " |  \n",
      " |  index(self, value, start=0, stop=9223372036854775807, /)\n",
      " |      Return first index of value.\n",
      " |      \n",
      " |      Raises ValueError if the value is not present.\n",
      " |  \n",
      " |  ----------------------------------------------------------------------\n",
      " |  Class methods defined here:\n",
      " |  \n",
      " |  __class_getitem__(...) from builtins.type\n",
      " |      See PEP 585\n",
      " |  \n",
      " |  ----------------------------------------------------------------------\n",
      " |  Static methods defined here:\n",
      " |  \n",
      " |  __new__(*args, **kwargs) from builtins.type\n",
      " |      Create and return a new object.  See help(type) for accurate signature.\n",
      "\n"
     ]
    }
   ],
   "source": [
    "help(tuple)"
   ]
  },
  {
   "cell_type": "markdown",
   "id": "c8f4f646",
   "metadata": {},
   "source": [
    "عملیات‌های ریاضی"
   ]
  },
  {
   "cell_type": "code",
   "execution_count": 1,
   "id": "5b5076ca",
   "metadata": {},
   "outputs": [
    {
     "data": {
      "text/plain": [
       "4"
      ]
     },
     "execution_count": 1,
     "metadata": {},
     "output_type": "execute_result"
    }
   ],
   "source": [
    "2 + 2"
   ]
  },
  {
   "cell_type": "code",
   "execution_count": 67,
   "id": "3bdee246",
   "metadata": {},
   "outputs": [
    {
     "data": {
      "text/plain": [
       "0"
      ]
     },
     "execution_count": 67,
     "metadata": {},
     "output_type": "execute_result"
    }
   ],
   "source": [
    "2 - 2"
   ]
  },
  {
   "cell_type": "code",
   "execution_count": 66,
   "id": "cafd1f89",
   "metadata": {},
   "outputs": [
    {
     "data": {
      "text/plain": [
       "6"
      ]
     },
     "execution_count": 66,
     "metadata": {},
     "output_type": "execute_result"
    }
   ],
   "source": [
    "2 * 3"
   ]
  },
  {
   "cell_type": "code",
   "execution_count": 65,
   "id": "5e9069df",
   "metadata": {},
   "outputs": [
    {
     "data": {
      "text/plain": [
       "2.0"
      ]
     },
     "execution_count": 65,
     "metadata": {},
     "output_type": "execute_result"
    }
   ],
   "source": [
    "4 / 2"
   ]
  },
  {
   "cell_type": "code",
   "execution_count": 64,
   "id": "be18e03b",
   "metadata": {},
   "outputs": [
    {
     "data": {
      "text/plain": [
       "2.5"
      ]
     },
     "execution_count": 64,
     "metadata": {},
     "output_type": "execute_result"
    }
   ],
   "source": [
    "5 / 2"
   ]
  },
  {
   "cell_type": "code",
   "execution_count": 63,
   "id": "e44e842d",
   "metadata": {},
   "outputs": [
    {
     "data": {
      "text/plain": [
       "1"
      ]
     },
     "execution_count": 63,
     "metadata": {},
     "output_type": "execute_result"
    }
   ],
   "source": [
    "5 % 2"
   ]
  },
  {
   "cell_type": "code",
   "execution_count": 62,
   "id": "f512a824",
   "metadata": {},
   "outputs": [
    {
     "data": {
      "text/plain": [
       "2.5"
      ]
     },
     "execution_count": 62,
     "metadata": {},
     "output_type": "execute_result"
    }
   ],
   "source": [
    "5 / 2.0"
   ]
  },
  {
   "cell_type": "code",
   "execution_count": 61,
   "id": "ca3dcc4a",
   "metadata": {},
   "outputs": [
    {
     "data": {
      "text/plain": [
       "1.5"
      ]
     },
     "execution_count": 61,
     "metadata": {},
     "output_type": "execute_result"
    }
   ],
   "source": [
    "4.5 / 3"
   ]
  },
  {
   "cell_type": "markdown",
   "id": "84cc3383",
   "metadata": {},
   "source": [
    "توان‌رسانی"
   ]
  },
  {
   "cell_type": "code",
   "execution_count": 60,
   "id": "cca2d8a0",
   "metadata": {},
   "outputs": [
    {
     "data": {
      "text/plain": [
       "4"
      ]
     },
     "execution_count": 60,
     "metadata": {},
     "output_type": "execute_result"
    }
   ],
   "source": [
    "2 ** 2"
   ]
  },
  {
   "cell_type": "code",
   "execution_count": 59,
   "id": "72fd48d5",
   "metadata": {},
   "outputs": [
    {
     "ename": "SyntaxError",
     "evalue": "invalid syntax (<ipython-input-59-b57ad64e08d2>, line 1)",
     "output_type": "error",
     "traceback": [
      "\u001b[1;36m  File \u001b[1;32m\"<ipython-input-59-b57ad64e08d2>\"\u001b[1;36m, line \u001b[1;32m1\u001b[0m\n\u001b[1;33m    4 ** 2 + 2 *\u001b[0m\n\u001b[1;37m                ^\u001b[0m\n\u001b[1;31mSyntaxError\u001b[0m\u001b[1;31m:\u001b[0m invalid syntax\n"
     ]
    }
   ],
   "source": [
    "4 ** 2 + 2 *"
   ]
  },
  {
   "cell_type": "code",
   "execution_count": 58,
   "id": "3c30db1b",
   "metadata": {},
   "outputs": [
    {
     "data": {
      "text/plain": [
       "3.0"
      ]
     },
     "execution_count": 58,
     "metadata": {},
     "output_type": "execute_result"
    }
   ],
   "source": [
    "9 ** ( 1 / 2)"
   ]
  },
  {
   "cell_type": "markdown",
   "id": "c3473817",
   "metadata": {},
   "source": [
    "تقسیم صحیح"
   ]
  },
  {
   "cell_type": "code",
   "execution_count": 57,
   "id": "94b23899",
   "metadata": {},
   "outputs": [
    {
     "data": {
      "text/plain": [
       "2"
      ]
     },
     "execution_count": 57,
     "metadata": {},
     "output_type": "execute_result"
    }
   ],
   "source": [
    "12 // 5"
   ]
  },
  {
   "cell_type": "code",
   "execution_count": 56,
   "id": "ac76c2ef",
   "metadata": {},
   "outputs": [
    {
     "data": {
      "text/plain": [
       "2"
      ]
     },
     "execution_count": 56,
     "metadata": {},
     "output_type": "execute_result"
    }
   ],
   "source": [
    "12 % 5"
   ]
  },
  {
   "cell_type": "code",
   "execution_count": 55,
   "id": "723b7911",
   "metadata": {},
   "outputs": [
    {
     "data": {
      "text/plain": [
       "0"
      ]
     },
     "execution_count": 55,
     "metadata": {},
     "output_type": "execute_result"
    }
   ],
   "source": [
    "3 // 5"
   ]
  },
  {
   "cell_type": "code",
   "execution_count": 54,
   "id": "509080d0",
   "metadata": {
    "scrolled": true
   },
   "outputs": [
    {
     "data": {
      "text/plain": [
       "-3.25"
      ]
     },
     "execution_count": 54,
     "metadata": {},
     "output_type": "execute_result"
    }
   ],
   "source": [
    "-13 / 4"
   ]
  },
  {
   "cell_type": "code",
   "execution_count": 17,
   "id": "797eed87",
   "metadata": {},
   "outputs": [
    {
     "data": {
      "text/plain": [
       "0.3333333333333333"
      ]
     },
     "execution_count": 17,
     "metadata": {},
     "output_type": "execute_result"
    }
   ],
   "source": [
    "1 / 3"
   ]
  },
  {
   "cell_type": "code",
   "execution_count": 18,
   "id": "5ba3f16d",
   "metadata": {},
   "outputs": [
    {
     "data": {
      "text/plain": [
       "6.333333333333333"
      ]
     },
     "execution_count": 18,
     "metadata": {},
     "output_type": "execute_result"
    }
   ],
   "source": [
    "19 / 3"
   ]
  },
  {
   "cell_type": "code",
   "execution_count": 19,
   "id": "529b8dd3",
   "metadata": {},
   "outputs": [
    {
     "data": {
      "text/plain": [
       "5.666666666666667"
      ]
     },
     "execution_count": 19,
     "metadata": {},
     "output_type": "execute_result"
    }
   ],
   "source": [
    "17 / 3"
   ]
  },
  {
   "cell_type": "code",
   "execution_count": 53,
   "id": "8c18afb8",
   "metadata": {},
   "outputs": [
    {
     "ename": "ZeroDivisionError",
     "evalue": "division by zero",
     "output_type": "error",
     "traceback": [
      "\u001b[1;31m---------------------------------------------------------------------------\u001b[0m",
      "\u001b[1;31mZeroDivisionError\u001b[0m                         Traceback (most recent call last)",
      "\u001b[1;32m<ipython-input-53-76e1a9ab9410>\u001b[0m in \u001b[0;36m<module>\u001b[1;34m\u001b[0m\n\u001b[1;32m----> 1\u001b[1;33m \u001b[1;36m123\u001b[0m \u001b[1;33m/\u001b[0m \u001b[1;36m0\u001b[0m\u001b[1;33m\u001b[0m\u001b[0m\n\u001b[0m",
      "\u001b[1;31mZeroDivisionError\u001b[0m: division by zero"
     ]
    }
   ],
   "source": [
    "123 / 0"
   ]
  },
  {
   "cell_type": "markdown",
   "id": "6a74c655",
   "metadata": {},
   "source": [
    "\n",
    "استثنا یا خطای زمان اجرا\n",
    "\n",
    "مشخص کردن مکان خطا\n",
    "\n",
    "اعلام دستوری خطا\n",
    "\n",
    "نوع استثنا"
   ]
  },
  {
   "cell_type": "code",
   "execution_count": 51,
   "id": "a655de32",
   "metadata": {},
   "outputs": [
    {
     "data": {
      "text/plain": [
       "0.5"
      ]
     },
     "execution_count": 51,
     "metadata": {},
     "output_type": "execute_result"
    }
   ],
   "source": [
    "7.5 % 3.5"
   ]
  },
  {
   "cell_type": "markdown",
   "id": "d4f1b3d5",
   "metadata": {},
   "source": [
    "تقدم عملگرها\n",
    "\n",
    "پرانتز\n",
    "\n",
    "توان\n",
    "\n",
    "ضرب و تقسیم\n",
    "\n",
    "جمع و تفریق\n",
    "\n",
    "تقدم یکسان از چپ به راست"
   ]
  },
  {
   "cell_type": "markdown",
   "id": "504fe0c1",
   "metadata": {},
   "source": [
    "مقدار و نوع"
   ]
  },
  {
   "cell_type": "code",
   "execution_count": 52,
   "id": "95796a87",
   "metadata": {},
   "outputs": [
    {
     "data": {
      "text/plain": [
       "-4"
      ]
     },
     "execution_count": 52,
     "metadata": {},
     "output_type": "execute_result"
    }
   ],
   "source": [
    "-13 // 4 "
   ]
  },
  {
   "cell_type": "code",
   "execution_count": 9,
   "id": "2716d752",
   "metadata": {},
   "outputs": [
    {
     "data": {
      "text/plain": [
       "int"
      ]
     },
     "execution_count": 9,
     "metadata": {},
     "output_type": "execute_result"
    }
   ],
   "source": [
    "type(2)"
   ]
  },
  {
   "cell_type": "code",
   "execution_count": 10,
   "id": "4c0b7212",
   "metadata": {},
   "outputs": [
    {
     "data": {
      "text/plain": [
       "float"
      ]
     },
     "execution_count": 10,
     "metadata": {},
     "output_type": "execute_result"
    }
   ],
   "source": [
    "type(2.5)"
   ]
  },
  {
   "cell_type": "code",
   "execution_count": 11,
   "id": "4961643e",
   "metadata": {},
   "outputs": [
    {
     "data": {
      "text/plain": [
       "str"
      ]
     },
     "execution_count": 11,
     "metadata": {},
     "output_type": "execute_result"
    }
   ],
   "source": [
    "type('Tehran')"
   ]
  },
  {
   "cell_type": "code",
   "execution_count": 12,
   "id": "38286e74",
   "metadata": {},
   "outputs": [
    {
     "data": {
      "text/plain": [
       "str"
      ]
     },
     "execution_count": 12,
     "metadata": {},
     "output_type": "execute_result"
    }
   ],
   "source": [
    "type('2.5')"
   ]
  },
  {
   "cell_type": "code",
   "execution_count": 13,
   "id": "ada161a3",
   "metadata": {},
   "outputs": [
    {
     "data": {
      "text/plain": [
       "0"
      ]
     },
     "execution_count": 13,
     "metadata": {},
     "output_type": "execute_result"
    }
   ],
   "source": [
    "2+-2"
   ]
  },
  {
   "cell_type": "code",
   "execution_count": 14,
   "id": "10658586",
   "metadata": {},
   "outputs": [
    {
     "data": {
      "text/plain": [
       "4"
      ]
     },
     "execution_count": 14,
     "metadata": {},
     "output_type": "execute_result"
    }
   ],
   "source": [
    "2++2"
   ]
  },
  {
   "cell_type": "code",
   "execution_count": 15,
   "id": "90d0df91",
   "metadata": {},
   "outputs": [
    {
     "data": {
      "text/plain": [
       "4"
      ]
     },
     "execution_count": 15,
     "metadata": {},
     "output_type": "execute_result"
    }
   ],
   "source": [
    "2+++2"
   ]
  },
  {
   "cell_type": "code",
   "execution_count": 16,
   "id": "4f29ef3c",
   "metadata": {},
   "outputs": [
    {
     "ename": "SyntaxError",
     "evalue": "invalid syntax (<ipython-input-16-d1d7586f936c>, line 1)",
     "output_type": "error",
     "traceback": [
      "\u001b[1;36m  File \u001b[1;32m\"<ipython-input-16-d1d7586f936c>\"\u001b[1;36m, line \u001b[1;32m1\u001b[0m\n\u001b[1;33m    2+*+2\u001b[0m\n\u001b[1;37m      ^\u001b[0m\n\u001b[1;31mSyntaxError\u001b[0m\u001b[1;31m:\u001b[0m invalid syntax\n"
     ]
    }
   ],
   "source": [
    "2+*+2"
   ]
  },
  {
   "cell_type": "code",
   "execution_count": 17,
   "id": "3b436dff",
   "metadata": {},
   "outputs": [
    {
     "data": {
      "text/plain": [
       "4"
      ]
     },
     "execution_count": 17,
     "metadata": {},
     "output_type": "execute_result"
    }
   ],
   "source": [
    "2*+2"
   ]
  },
  {
   "cell_type": "code",
   "execution_count": 18,
   "id": "ede63a34",
   "metadata": {},
   "outputs": [
    {
     "ename": "SyntaxError",
     "evalue": "invalid syntax (<ipython-input-18-1c51935dcbf5>, line 1)",
     "output_type": "error",
     "traceback": [
      "\u001b[1;36m  File \u001b[1;32m\"<ipython-input-18-1c51935dcbf5>\"\u001b[1;36m, line \u001b[1;32m1\u001b[0m\n\u001b[1;33m    2+*2\u001b[0m\n\u001b[1;37m      ^\u001b[0m\n\u001b[1;31mSyntaxError\u001b[0m\u001b[1;31m:\u001b[0m invalid syntax\n"
     ]
    }
   ],
   "source": [
    "2+*2"
   ]
  },
  {
   "cell_type": "markdown",
   "id": "32d095f5",
   "metadata": {},
   "source": [
    "چاپ و تابع چاپ"
   ]
  },
  {
   "cell_type": "code",
   "execution_count": 19,
   "id": "cf131a2d",
   "metadata": {},
   "outputs": [
    {
     "name": "stdout",
     "output_type": "stream",
     "text": [
      "Hello, World!\n"
     ]
    }
   ],
   "source": [
    "print('Hello, World!')"
   ]
  },
  {
   "cell_type": "markdown",
   "id": "3ea15320",
   "metadata": {},
   "source": [
    "متغیرها عبارات گزاره‌ها"
   ]
  },
  {
   "cell_type": "code",
   "execution_count": 20,
   "id": "8f56b4e3",
   "metadata": {},
   "outputs": [],
   "source": [
    "message = 'khata'"
   ]
  },
  {
   "cell_type": "code",
   "execution_count": 22,
   "id": "6bdbe796",
   "metadata": {},
   "outputs": [],
   "source": [
    "message1 = 'khata rokh dad!'"
   ]
  },
  {
   "cell_type": "code",
   "execution_count": null,
   "id": "1a85fa30",
   "metadata": {},
   "outputs": [],
   "source": []
  },
  {
   "cell_type": "code",
   "execution_count": 23,
   "id": "4c716470",
   "metadata": {},
   "outputs": [
    {
     "name": "stdout",
     "output_type": "stream",
     "text": [
      "khata\n"
     ]
    }
   ],
   "source": [
    "print(message)"
   ]
  },
  {
   "cell_type": "code",
   "execution_count": 69,
   "id": "cef7f937",
   "metadata": {},
   "outputs": [
    {
     "name": "stdout",
     "output_type": "stream",
     "text": [
      "Khosh amadid!\n"
     ]
    }
   ],
   "source": [
    "print('Khosh amadid!')"
   ]
  },
  {
   "cell_type": "code",
   "execution_count": 70,
   "id": "c77b3865",
   "metadata": {},
   "outputs": [
    {
     "name": "stdout",
     "output_type": "stream",
     "text": [
      "Khosh \n",
      "amadid\n",
      "!\n"
     ]
    }
   ],
   "source": [
    "print('Khosh \\namadid\\n!')"
   ]
  },
  {
   "cell_type": "code",
   "execution_count": 71,
   "id": "74063880",
   "metadata": {},
   "outputs": [
    {
     "name": "stdout",
     "output_type": "stream",
     "text": [
      "Khosh \tamadid\t!\n"
     ]
    }
   ],
   "source": [
    "print('Khosh \\tamadid\\t!')"
   ]
  },
  {
   "cell_type": "code",
   "execution_count": 72,
   "id": "cd314a28",
   "metadata": {},
   "outputs": [
    {
     "name": "stdout",
     "output_type": "stream",
     "text": [
      "Khosh \\amadid!\n"
     ]
    }
   ],
   "source": [
    "print('Khosh \\\\amadid!')"
   ]
  },
  {
   "cell_type": "code",
   "execution_count": 73,
   "id": "ac6610da",
   "metadata": {},
   "outputs": [
    {
     "name": "stdout",
     "output_type": "stream",
     "text": [
      "Khosh \"amadid!\n"
     ]
    }
   ],
   "source": [
    "print('Khosh \\\"amadid!')"
   ]
  },
  {
   "cell_type": "code",
   "execution_count": 74,
   "id": "57b12280",
   "metadata": {},
   "outputs": [
    {
     "name": "stdout",
     "output_type": "stream",
     "text": [
      "Khosh 'amadid!\n"
     ]
    }
   ],
   "source": [
    "print('Khosh \\'amadid!')"
   ]
  },
  {
   "cell_type": "code",
   "execution_count": 7,
   "id": "7dd67dfa",
   "metadata": {},
   "outputs": [],
   "source": [
    "n='salam '"
   ]
  },
  {
   "cell_type": "code",
   "execution_count": null,
   "id": "f652ea6d",
   "metadata": {},
   "outputs": [],
   "source": []
  },
  {
   "cell_type": "code",
   "execution_count": 8,
   "id": "9c33d220",
   "metadata": {},
   "outputs": [],
   "source": [
    "m ='alaik' "
   ]
  },
  {
   "cell_type": "code",
   "execution_count": null,
   "id": "0c642338",
   "metadata": {},
   "outputs": [],
   "source": []
  },
  {
   "cell_type": "code",
   "execution_count": 27,
   "id": "e6928295",
   "metadata": {},
   "outputs": [
    {
     "name": "stdout",
     "output_type": "stream",
     "text": [
      "salam alaik\n"
     ]
    }
   ],
   "source": [
    "print(n+'alaik')"
   ]
  },
  {
   "cell_type": "code",
   "execution_count": 77,
   "id": "ec0c58a4",
   "metadata": {},
   "outputs": [
    {
     "ename": "SyntaxError",
     "evalue": "invalid syntax (<ipython-input-77-e4d22623fa5a>, line 1)",
     "output_type": "error",
     "traceback": [
      "\u001b[1;36m  File \u001b[1;32m\"<ipython-input-77-e4d22623fa5a>\"\u001b[1;36m, line \u001b[1;32m1\u001b[0m\n\u001b[1;33m    print(n*)\u001b[0m\n\u001b[1;37m            ^\u001b[0m\n\u001b[1;31mSyntaxError\u001b[0m\u001b[1;31m:\u001b[0m invalid syntax\n"
     ]
    }
   ],
   "source": [
    "print(n*)"
   ]
  },
  {
   "cell_type": "code",
   "execution_count": 29,
   "id": "89de38b3",
   "metadata": {
    "scrolled": true
   },
   "outputs": [
    {
     "name": "stdout",
     "output_type": "stream",
     "text": [
      "salam salam salam \n"
     ]
    }
   ],
   "source": [
    "print(n*3)"
   ]
  },
  {
   "cell_type": "code",
   "execution_count": 9,
   "id": "2ce7e89a",
   "metadata": {
    "scrolled": true
   },
   "outputs": [
    {
     "ename": "TypeError",
     "evalue": "can only concatenate str (not \"int\") to str",
     "output_type": "error",
     "traceback": [
      "\u001b[1;31m---------------------------------------------------------------------------\u001b[0m",
      "\u001b[1;31mTypeError\u001b[0m                                 Traceback (most recent call last)",
      "Input \u001b[1;32mIn [9]\u001b[0m, in \u001b[0;36m<cell line: 1>\u001b[1;34m()\u001b[0m\n\u001b[1;32m----> 1\u001b[0m \u001b[38;5;28mprint\u001b[39m(\u001b[43mn\u001b[49m\u001b[43m \u001b[49m\u001b[38;5;241;43m*\u001b[39;49m\u001b[43m \u001b[49m\u001b[38;5;241;43m3\u001b[39;49m\u001b[43m \u001b[49m\u001b[38;5;241;43m+\u001b[39;49m\u001b[43m \u001b[49m\u001b[38;5;241;43m2\u001b[39;49m)\n",
      "\u001b[1;31mTypeError\u001b[0m: can only concatenate str (not \"int\") to str"
     ]
    }
   ],
   "source": [
    "print(n * 3 + 2)"
   ]
  },
  {
   "cell_type": "code",
   "execution_count": 13,
   "id": "51decebb",
   "metadata": {},
   "outputs": [
    {
     "ename": "TypeError",
     "evalue": "can only concatenate str (not \"int\") to str",
     "output_type": "error",
     "traceback": [
      "\u001b[1;31m---------------------------------------------------------------------------\u001b[0m",
      "\u001b[1;31mTypeError\u001b[0m                                 Traceback (most recent call last)",
      "Input \u001b[1;32mIn [13]\u001b[0m, in \u001b[0;36m<cell line: 1>\u001b[1;34m()\u001b[0m\n\u001b[1;32m----> 1\u001b[0m \u001b[38;5;28mprint\u001b[39m(\u001b[38;5;124;43m'\u001b[39;49m\u001b[38;5;124;43malaik\u001b[39;49m\u001b[38;5;124;43m'\u001b[39;49m\u001b[43m \u001b[49m\u001b[38;5;241;43m+\u001b[39;49m\u001b[43m \u001b[49m\u001b[38;5;241;43m3\u001b[39;49m)\n",
      "\u001b[1;31mTypeError\u001b[0m: can only concatenate str (not \"int\") to str"
     ]
    }
   ],
   "source": [
    "print('alaik' + 3)"
   ]
  },
  {
   "cell_type": "code",
   "execution_count": 14,
   "id": "4833df67",
   "metadata": {},
   "outputs": [
    {
     "name": "stdout",
     "output_type": "stream",
     "text": [
      "salam 3\n"
     ]
    }
   ],
   "source": [
    "print(n + str(3))"
   ]
  },
  {
   "cell_type": "code",
   "execution_count": 76,
   "id": "105633d9",
   "metadata": {},
   "outputs": [
    {
     "name": "stdout",
     "output_type": "stream",
     "text": [
      "Jame 7 + 3 =  10\n"
     ]
    }
   ],
   "source": [
    "print('Jame 7 + 3 = ', 7 + 3)"
   ]
  },
  {
   "cell_type": "code",
   "execution_count": 79,
   "id": "8de1b2cc",
   "metadata": {},
   "outputs": [
    {
     "name": "stdout",
     "output_type": "stream",
     "text": [
      "Lotfan \"Code\" ra vared konid\n"
     ]
    }
   ],
   "source": [
    "print('Lotfan \"Code\" ra vared konid')"
   ]
  },
  {
   "cell_type": "code",
   "execution_count": 81,
   "id": "8d419032",
   "metadata": {
    "scrolled": true
   },
   "outputs": [
    {
     "ename": "SyntaxError",
     "evalue": "invalid syntax (<ipython-input-81-4cdeef86ad07>, line 1)",
     "output_type": "error",
     "traceback": [
      "\u001b[1;36m  File \u001b[1;32m\"<ipython-input-81-4cdeef86ad07>\"\u001b[1;36m, line \u001b[1;32m1\u001b[0m\n\u001b[1;33m    print('Lotfan 'Code' ra vared konid')\u001b[0m\n\u001b[1;37m                      ^\u001b[0m\n\u001b[1;31mSyntaxError\u001b[0m\u001b[1;31m:\u001b[0m invalid syntax\n"
     ]
    }
   ],
   "source": [
    "print('Lotfan 'Code' ra vared konid')"
   ]
  },
  {
   "cell_type": "code",
   "execution_count": 82,
   "id": "60bc9a3e",
   "metadata": {},
   "outputs": [
    {
     "name": "stdout",
     "output_type": "stream",
     "text": [
      "Lotfan 'Code' ra vared konid\n"
     ]
    }
   ],
   "source": [
    "print('Lotfan \\'Code\\' ra vared konid')"
   ]
  },
  {
   "cell_type": "code",
   "execution_count": 85,
   "id": "ddff7952",
   "metadata": {},
   "outputs": [
    {
     "name": "stdout",
     "output_type": "stream",
     "text": [
      "Hatman dar ebteda E'temad konid!\n"
     ]
    }
   ],
   "source": [
    "print(\"Hatman dar ebteda E'temad konid!\")"
   ]
  },
  {
   "cell_type": "code",
   "execution_count": 86,
   "id": "8967a78f",
   "metadata": {},
   "outputs": [
    {
     "name": "stdout",
     "output_type": "stream",
     "text": [
      "Lotfan \"Code\" ra vared konid\n"
     ]
    }
   ],
   "source": [
    "print(\"Lotfan \\\"Code\\\" ra vared konid\")"
   ]
  },
  {
   "cell_type": "markdown",
   "id": "1ef402f8",
   "metadata": {},
   "source": [
    "توضیحات سه‌نقل قولی"
   ]
  },
  {
   "cell_type": "code",
   "execution_count": 87,
   "id": "20518ec6",
   "metadata": {},
   "outputs": [
    {
     "name": "stdout",
     "output_type": "stream",
     "text": [
      "ba se \"naqle qole\" mokel 'hal' mishavad! \n"
     ]
    }
   ],
   "source": [
    "print(\"\"\"ba se \"naqle qole\" mokel 'hal' mishavad! \"\"\")"
   ]
  },
  {
   "cell_type": "raw",
   "id": "aef06217",
   "metadata": {},
   "source": [
    "رشتهء چندخطی"
   ]
  },
  {
   "cell_type": "code",
   "execution_count": 88,
   "id": "219fbacf",
   "metadata": {},
   "outputs": [],
   "source": [
    "reshte_chand_khatti = \"\"\"reshteye chand khati\n",
    "... ran neveshtim\"\"\""
   ]
  },
  {
   "cell_type": "code",
   "execution_count": 90,
   "id": "0f5d78e2",
   "metadata": {},
   "outputs": [
    {
     "name": "stdout",
     "output_type": "stream",
     "text": [
      "reshteye chand khati\n",
      "ran neveshtim\n"
     ]
    }
   ],
   "source": [
    "print(reshte_chand_khatti)"
   ]
  },
  {
   "cell_type": "code",
   "execution_count": 91,
   "id": "4b8a2afb",
   "metadata": {},
   "outputs": [
    {
     "data": {
      "text/plain": [
       "'reshteye chand khati\\nran neveshtim'"
      ]
     },
     "execution_count": 91,
     "metadata": {},
     "output_type": "execute_result"
    }
   ],
   "source": [
    "reshte_chand_khatti"
   ]
  },
  {
   "cell_type": "markdown",
   "id": "e7d0cc9b",
   "metadata": {},
   "source": [
    "گرفتن ورودی از کاربر"
   ]
  },
  {
   "cell_type": "code",
   "execution_count": 96,
   "id": "e202e3b0",
   "metadata": {},
   "outputs": [
    {
     "name": "stdout",
     "output_type": "stream",
     "text": [
      "Namat Chist? Mohsen\n"
     ]
    }
   ],
   "source": [
    "Namm = input(\"Namat Chist? \")"
   ]
  },
  {
   "cell_type": "code",
   "execution_count": 97,
   "id": "2f794275",
   "metadata": {},
   "outputs": [
    {
     "data": {
      "text/plain": [
       "'Mohsen'"
      ]
     },
     "execution_count": 97,
     "metadata": {},
     "output_type": "execute_result"
    }
   ],
   "source": [
    "Namm"
   ]
  },
  {
   "cell_type": "code",
   "execution_count": 98,
   "id": "28c4d4b9",
   "metadata": {},
   "outputs": [
    {
     "name": "stdout",
     "output_type": "stream",
     "text": [
      "Mohsen\n"
     ]
    }
   ],
   "source": [
    "print(Namm)"
   ]
  },
  {
   "cell_type": "code",
   "execution_count": 101,
   "id": "09f5e45d",
   "metadata": {},
   "outputs": [
    {
     "name": "stdout",
     "output_type": "stream",
     "text": [
      "Namat Chist? Mohsen\n"
     ]
    }
   ],
   "source": [
    "Naam = input(\"Namat Chist? \")"
   ]
  },
  {
   "cell_type": "code",
   "execution_count": 102,
   "id": "05145a24",
   "metadata": {},
   "outputs": [
    {
     "data": {
      "text/plain": [
       "'Mohsen'"
      ]
     },
     "execution_count": 102,
     "metadata": {},
     "output_type": "execute_result"
    }
   ],
   "source": [
    "Naam"
   ]
  },
  {
   "cell_type": "code",
   "execution_count": 103,
   "id": "4a0dd33c",
   "metadata": {
    "scrolled": true
   },
   "outputs": [
    {
     "name": "stdout",
     "output_type": "stream",
     "text": [
      "Mohsen\n"
     ]
    }
   ],
   "source": [
    "print(Naam)"
   ]
  },
  {
   "cell_type": "markdown",
   "id": "fb7a28ff",
   "metadata": {},
   "source": [
    "تابع\n",
    "input\n",
    "\n",
    "همیشه رشته برمی‌گرداند."
   ]
  },
  {
   "cell_type": "code",
   "execution_count": 105,
   "id": "1acde35b",
   "metadata": {},
   "outputs": [
    {
     "name": "stdout",
     "output_type": "stream",
     "text": [
      "Vorode adade avval: 8\n"
     ]
    }
   ],
   "source": [
    "mqdar1 = input('Vorode adade avval: ')"
   ]
  },
  {
   "cell_type": "code",
   "execution_count": 106,
   "id": "09c64edc",
   "metadata": {},
   "outputs": [
    {
     "name": "stdout",
     "output_type": "stream",
     "text": [
      "Vorode adade dovvom: 3\n"
     ]
    }
   ],
   "source": [
    "mqdar2 = input('Vorode adade dovvom: ')"
   ]
  },
  {
   "cell_type": "code",
   "execution_count": 107,
   "id": "f8e6e778",
   "metadata": {},
   "outputs": [
    {
     "data": {
      "text/plain": [
       "'83'"
      ]
     },
     "execution_count": 107,
     "metadata": {},
     "output_type": "execute_result"
    }
   ],
   "source": [
    "mqdar1 + mqdar2"
   ]
  },
  {
   "cell_type": "markdown",
   "id": "708b35c6",
   "metadata": {},
   "source": [
    "دریافت عدد صحیح از کاربر"
   ]
  },
  {
   "cell_type": "code",
   "execution_count": 108,
   "id": "208a86a5",
   "metadata": {},
   "outputs": [
    {
     "name": "stdout",
     "output_type": "stream",
     "text": [
      "Vorode adade avval: 8\n"
     ]
    }
   ],
   "source": [
    "mqdar1 = input('Vorode adade avval: ')"
   ]
  },
  {
   "cell_type": "code",
   "execution_count": 111,
   "id": "40807e16",
   "metadata": {},
   "outputs": [],
   "source": [
    "mqdar1 = int(mqdar1)"
   ]
  },
  {
   "cell_type": "code",
   "execution_count": 110,
   "id": "cba09ab2",
   "metadata": {},
   "outputs": [
    {
     "data": {
      "text/plain": [
       "8"
      ]
     },
     "execution_count": 110,
     "metadata": {},
     "output_type": "execute_result"
    }
   ],
   "source": [
    "mqdar1"
   ]
  },
  {
   "cell_type": "code",
   "execution_count": 112,
   "id": "9dcc1c9a",
   "metadata": {},
   "outputs": [
    {
     "name": "stdout",
     "output_type": "stream",
     "text": [
      "Vorode adade digar: 3\n"
     ]
    }
   ],
   "source": [
    "mqdar2 = input('Vorode adade digar: ')"
   ]
  },
  {
   "cell_type": "code",
   "execution_count": 114,
   "id": "c1f17d72",
   "metadata": {},
   "outputs": [],
   "source": [
    "mqdar2 = int(mqdar2)"
   ]
  },
  {
   "cell_type": "code",
   "execution_count": 115,
   "id": "c741ba0c",
   "metadata": {},
   "outputs": [
    {
     "data": {
      "text/plain": [
       "3"
      ]
     },
     "execution_count": 115,
     "metadata": {},
     "output_type": "execute_result"
    }
   ],
   "source": [
    "mqdar2"
   ]
  },
  {
   "cell_type": "code",
   "execution_count": 116,
   "id": "541cf713",
   "metadata": {},
   "outputs": [
    {
     "data": {
      "text/plain": [
       "11"
      ]
     },
     "execution_count": 116,
     "metadata": {},
     "output_type": "execute_result"
    }
   ],
   "source": [
    "mqdar1 + mqdar2"
   ]
  },
  {
   "cell_type": "code",
   "execution_count": 117,
   "id": "250053d0",
   "metadata": {},
   "outputs": [
    {
     "name": "stdout",
     "output_type": "stream",
     "text": [
      "Vorode adade: salam\n"
     ]
    },
    {
     "ename": "ValueError",
     "evalue": "invalid literal for int() with base 10: 'salam'",
     "output_type": "error",
     "traceback": [
      "\u001b[1;31m---------------------------------------------------------------------------\u001b[0m",
      "\u001b[1;31mValueError\u001b[0m                                Traceback (most recent call last)",
      "\u001b[1;32m<ipython-input-117-2fe6d0c9f9ae>\u001b[0m in \u001b[0;36m<module>\u001b[1;34m\u001b[0m\n\u001b[1;32m----> 1\u001b[1;33m \u001b[0mmqdar_qlat\u001b[0m \u001b[1;33m=\u001b[0m \u001b[0mint\u001b[0m\u001b[1;33m(\u001b[0m\u001b[0minput\u001b[0m\u001b[1;33m(\u001b[0m\u001b[1;34m'Vorode adade: '\u001b[0m\u001b[1;33m)\u001b[0m\u001b[1;33m)\u001b[0m\u001b[1;33m\u001b[0m\u001b[0m\n\u001b[0m",
      "\u001b[1;31mValueError\u001b[0m: invalid literal for int() with base 10: 'salam'"
     ]
    }
   ],
   "source": [
    "mqdar_qlat = int(input('Vorode adade: '))"
   ]
  },
  {
   "cell_type": "code",
   "execution_count": 30,
   "id": "b7d35079",
   "metadata": {},
   "outputs": [
    {
     "data": {
      "text/plain": [
       "23"
      ]
     },
     "execution_count": 30,
     "metadata": {},
     "output_type": "execute_result"
    }
   ],
   "source": [
    "int('23')"
   ]
  },
  {
   "cell_type": "code",
   "execution_count": 119,
   "id": "104c45ec",
   "metadata": {},
   "outputs": [
    {
     "data": {
      "text/plain": [
       "3"
      ]
     },
     "execution_count": 119,
     "metadata": {},
     "output_type": "execute_result"
    }
   ],
   "source": [
    "int(3.2)"
   ]
  },
  {
   "cell_type": "code",
   "execution_count": 118,
   "id": "b888189c",
   "metadata": {
    "scrolled": true
   },
   "outputs": [
    {
     "data": {
      "text/plain": [
       "-3"
      ]
     },
     "execution_count": 118,
     "metadata": {},
     "output_type": "execute_result"
    }
   ],
   "source": [
    "int(-3.22)"
   ]
  },
  {
   "cell_type": "markdown",
   "id": "43554348",
   "metadata": {},
   "source": [
    "تصمیمات ساده"
   ]
  },
  {
   "cell_type": "code",
   "execution_count": 120,
   "id": "bd186bda",
   "metadata": {},
   "outputs": [
    {
     "data": {
      "text/plain": [
       "True"
      ]
     },
     "execution_count": 120,
     "metadata": {},
     "output_type": "execute_result"
    }
   ],
   "source": [
    "7 > 4"
   ]
  },
  {
   "cell_type": "code",
   "execution_count": 121,
   "id": "871793c5",
   "metadata": {},
   "outputs": [
    {
     "data": {
      "text/plain": [
       "False"
      ]
     },
     "execution_count": 121,
     "metadata": {},
     "output_type": "execute_result"
    }
   ],
   "source": [
    "7 < 4"
   ]
  },
  {
   "cell_type": "markdown",
   "id": "81868942",
   "metadata": {},
   "source": [
    ">\n",
    "\n",
    "<\n",
    "\n",
    ">=\n",
    "\n",
    "<=\n",
    "\n",
    "==\n",
    "\n",
    "!="
   ]
  },
  {
   "cell_type": "code",
   "execution_count": 122,
   "id": "95fd2567",
   "metadata": {
    "scrolled": true
   },
   "outputs": [
    {
     "ename": "SyntaxError",
     "evalue": "invalid syntax (<ipython-input-122-5c6e2897f3b3>, line 1)",
     "output_type": "error",
     "traceback": [
      "\u001b[1;36m  File \u001b[1;32m\"<ipython-input-122-5c6e2897f3b3>\"\u001b[1;36m, line \u001b[1;32m1\u001b[0m\n\u001b[1;33m    7 > = 4\u001b[0m\n\u001b[1;37m        ^\u001b[0m\n\u001b[1;31mSyntaxError\u001b[0m\u001b[1;31m:\u001b[0m invalid syntax\n"
     ]
    }
   ],
   "source": [
    "7 > = 4"
   ]
  },
  {
   "cell_type": "markdown",
   "id": "5cd1e25f",
   "metadata": {},
   "source": [
    "ةصمیم‌گیری با دستور if"
   ]
  },
  {
   "cell_type": "code",
   "execution_count": 1,
   "id": "54d1f999",
   "metadata": {},
   "outputs": [
    {
     "name": "stdout",
     "output_type": "stream",
     "text": [
      "Lotfan do adad jahat moqayese vared konid.\n",
      "Adad nakhost ra vared konid: 8\n",
      "Adad dovvom ra vared konid: 4\n",
      "8  namosavi ba  4\n",
      "8  Bozorgatar az  4\n",
      "8  Mosavi  ba ya Bozorgatar az  4\n"
     ]
    }
   ],
   "source": [
    "\"\"\"Moqayeseye do adad ba \"if\" o amalgarhaye moqayese\"\"\"\n",
    "\n",
    "print(\"Lotfan do adad jahat moqayese vared konid.\")\n",
    "\n",
    "# Khandan adad Avval\n",
    "adad1 = int(input(\"Adad nakhost ra vared konid: \"))\n",
    "\n",
    "# Khandan adad Dovvom\n",
    "adad2 = int(input(\"Adad dovvom ra vared konid: \"))\n",
    "\n",
    "if adad1 == adad2:\n",
    "    print(adad1, ' barabare ba ', adad2)\n",
    "    \n",
    "if adad1 != adad2:\n",
    "    print(adad1, ' namosavi ba ', adad2)    \n",
    "    \n",
    "if adad1 < adad2:\n",
    "    print(adad1, ' Kochekltar az ', adad2)   \n",
    "\n",
    "if adad1 > adad2:\n",
    "    print(adad1, ' Bozorgatar az ', adad2)   \n",
    "    \n",
    "if adad1 <= adad2:\n",
    "    print(adad1, ' Mosavi  ba ya Kochekltar az ', adad2)   \n",
    "\n",
    "if adad1 >= adad2:\n",
    "    print(adad1, ' Mosavi  ba ya Bozorgatar az ', adad2)      \n",
    "    "
   ]
  },
  {
   "cell_type": "markdown",
   "id": "10f11695",
   "metadata": {},
   "source": [
    "ترکیب عملگرهای مقایسه"
   ]
  },
  {
   "cell_type": "code",
   "execution_count": 2,
   "id": "1e0a3cd5",
   "metadata": {},
   "outputs": [
    {
     "data": {
      "text/plain": [
       "True"
      ]
     },
     "execution_count": 2,
     "metadata": {},
     "output_type": "execute_result"
    }
   ],
   "source": [
    "x = 4\n",
    "\n",
    "1 <= x <= 10"
   ]
  },
  {
   "cell_type": "code",
   "execution_count": 4,
   "id": "9961b577",
   "metadata": {},
   "outputs": [
    {
     "data": {
      "text/plain": [
       "False"
      ]
     },
     "execution_count": 4,
     "metadata": {},
     "output_type": "execute_result"
    }
   ],
   "source": [
    "y = 11\n",
    "\n",
    "1 <= y <= 10"
   ]
  },
  {
   "cell_type": "markdown",
   "id": "63f3a5e4",
   "metadata": {},
   "source": [
    "همچنین هر متغیر به شی‌ای ارجاع می‌دهد"
   ]
  },
  {
   "cell_type": "code",
   "execution_count": 5,
   "id": "54526cd8",
   "metadata": {},
   "outputs": [
    {
     "data": {
      "text/plain": [
       "17"
      ]
     },
     "execution_count": 5,
     "metadata": {},
     "output_type": "execute_result"
    }
   ],
   "source": [
    "x = 7\n",
    "\n",
    "x + 10"
   ]
  },
  {
   "cell_type": "code",
   "execution_count": 6,
   "id": "afa23e9d",
   "metadata": {
    "scrolled": true
   },
   "outputs": [
    {
     "data": {
      "text/plain": [
       "7"
      ]
     },
     "execution_count": 6,
     "metadata": {},
     "output_type": "execute_result"
    }
   ],
   "source": [
    "x"
   ]
  },
  {
   "cell_type": "code",
   "execution_count": 7,
   "id": "407806b6",
   "metadata": {
    "scrolled": true
   },
   "outputs": [
    {
     "data": {
      "text/plain": [
       "17"
      ]
     },
     "execution_count": 7,
     "metadata": {},
     "output_type": "execute_result"
    }
   ],
   "source": [
    "x = x + 10\n",
    "\n",
    "x"
   ]
  },
  {
   "cell_type": "markdown",
   "id": "97b5c7ff",
   "metadata": {},
   "source": [
    "تغییر نوع پایتون"
   ]
  },
  {
   "cell_type": "code",
   "execution_count": 8,
   "id": "1afe8a0f",
   "metadata": {
    "scrolled": true
   },
   "outputs": [
    {
     "data": {
      "text/plain": [
       "int"
      ]
     },
     "execution_count": 8,
     "metadata": {},
     "output_type": "execute_result"
    }
   ],
   "source": [
    "type(x)"
   ]
  },
  {
   "cell_type": "code",
   "execution_count": 9,
   "id": "48ea8c03",
   "metadata": {},
   "outputs": [
    {
     "data": {
      "text/plain": [
       "float"
      ]
     },
     "execution_count": 9,
     "metadata": {},
     "output_type": "execute_result"
    }
   ],
   "source": [
    "x = 3.5\n",
    "type(x)"
   ]
  },
  {
   "cell_type": "code",
   "execution_count": 10,
   "id": "ceedfe70",
   "metadata": {
    "scrolled": true
   },
   "outputs": [
    {
     "data": {
      "text/plain": [
       "str"
      ]
     },
     "execution_count": 10,
     "metadata": {},
     "output_type": "execute_result"
    }
   ],
   "source": [
    "x = 'Tehran'\n",
    "type(x)"
   ]
  },
  {
   "cell_type": "markdown",
   "id": "6d895116",
   "metadata": {},
   "source": [
    "مثالی مقدماتی از آمار توصیفی"
   ]
  },
  {
   "cell_type": "markdown",
   "id": "3397ae26",
   "metadata": {},
   "source": [
    "یافتن کمینهء سه عدد ورودی"
   ]
  },
  {
   "cell_type": "code",
   "execution_count": 12,
   "id": "105f813d",
   "metadata": {},
   "outputs": [
    {
     "name": "stdout",
     "output_type": "stream",
     "text": [
      "Adad nakhost ra vared konid: 2\n",
      "Adad dovvom ra vared konid: 6\n",
      "Adad sevvom ra vared konid: -10\n",
      "Mqdar kam:  -10\n"
     ]
    }
   ],
   "source": [
    "\"\"\"Yaftan kamineye se adad\"\"\"\n",
    "# Khandan adad Avval\n",
    "adad1 = int(input(\"Adad nakhost ra vared konid: \"))\n",
    "\n",
    "# Khandan adad Dovvom\n",
    "adad2 = int(input(\"Adad dovvom ra vared konid: \"))\n",
    "\n",
    "# Khandan adad Sevvom\n",
    "adad3 = int(input(\"Adad sevvom ra vared konid: \"))\n",
    "\n",
    "kam = adad1\n",
    "\n",
    "if adad2 < kam:\n",
    "    kam = adad2\n",
    "if adad3 < kam:\n",
    "    kam = adad3\n",
    "\n",
    "print('Mqdar kam: ', kam)"
   ]
  },
  {
   "cell_type": "markdown",
   "id": "40205d63",
   "metadata": {},
   "source": [
    "یافتن بیشینهء سه عدد ورودی"
   ]
  },
  {
   "cell_type": "code",
   "execution_count": 16,
   "id": "b353e6e1",
   "metadata": {},
   "outputs": [
    {
     "name": "stdout",
     "output_type": "stream",
     "text": [
      "Adad nakhost ra vared konid: 2\n",
      "Adad dovvom ra vared konid: 4\n",
      "Adad sevvom ra vared konid: 3\n",
      "Mqdar bish:  4\n"
     ]
    }
   ],
   "source": [
    "\"\"\"Yaftan bishineye se adad\"\"\"\n",
    "# Khandan adad Avval\n",
    "adad1 = int(input(\"Adad nakhost ra vared konid: \"))\n",
    "\n",
    "# Khandan adad Dovvom\n",
    "adad2 = int(input(\"Adad dovvom ra vared konid: \"))\n",
    "\n",
    "# Khandan adad Sevvom\n",
    "adad3 = int(input(\"Adad sevvom ra vared konid: \"))\n",
    "\n",
    "bish = adad1\n",
    "\n",
    "if adad2 > bish:\n",
    "    bish = adad2\n",
    "if adad3 > bish:\n",
    "    bish = adad3\n",
    "\n",
    "print('Mqdar bish: ', bish)"
   ]
  }
 ],
 "metadata": {
  "kernelspec": {
   "display_name": "Python 3 (ipykernel)",
   "language": "python",
   "name": "python3"
  },
  "language_info": {
   "codemirror_mode": {
    "name": "ipython",
    "version": 3
   },
   "file_extension": ".py",
   "mimetype": "text/x-python",
   "name": "python",
   "nbconvert_exporter": "python",
   "pygments_lexer": "ipython3",
   "version": "3.10.1"
  }
 },
 "nbformat": 4,
 "nbformat_minor": 5
}
