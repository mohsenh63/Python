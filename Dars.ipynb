{
 "cells": [
  {
   "cell_type": "code",
   "execution_count": 1,
   "metadata": {},
   "outputs": [
    {
     "data": {
      "text/plain": [
       "4"
      ]
     },
     "execution_count": 1,
     "metadata": {},
     "output_type": "execute_result"
    }
   ],
   "source": [
    "2+2"
   ]
  },
  {
   "cell_type": "markdown",
   "metadata": {},
   "source": [
    "## 2*3"
   ]
  },
  {
   "cell_type": "code",
   "execution_count": 2,
   "metadata": {},
   "outputs": [
    {
     "data": {
      "text/plain": [
       "0.6666666666666666"
      ]
     },
     "execution_count": 2,
     "metadata": {},
     "output_type": "execute_result"
    }
   ],
   "source": [
    "2 / 3"
   ]
  },
  {
   "cell_type": "markdown",
   "metadata": {},
   "source": [
    "##### "
   ]
  },
  {
   "cell_type": "code",
   "execution_count": 4,
   "metadata": {},
   "outputs": [
    {
     "data": {
      "text/plain": [
       "3"
      ]
     },
     "execution_count": 4,
     "metadata": {},
     "output_type": "execute_result"
    }
   ],
   "source": [
    "15 // 4"
   ]
  },
  {
   "cell_type": "code",
   "execution_count": 5,
   "metadata": {},
   "outputs": [
    {
     "data": {
      "text/plain": [
       "0"
      ]
     },
     "execution_count": 5,
     "metadata": {},
     "output_type": "execute_result"
    }
   ],
   "source": [
    "15  % 3"
   ]
  },
  {
   "cell_type": "code",
   "execution_count": 6,
   "metadata": {},
   "outputs": [
    {
     "data": {
      "text/plain": [
       "3"
      ]
     },
     "execution_count": 6,
     "metadata": {},
     "output_type": "execute_result"
    }
   ],
   "source": [
    "15 % 4"
   ]
  },
  {
   "cell_type": "markdown",
   "metadata": {},
   "source": [
    "## "
   ]
  },
  {
   "cell_type": "code",
   "execution_count": 7,
   "metadata": {},
   "outputs": [
    {
     "ename": "ZeroDivisionError",
     "evalue": "division by zero",
     "output_type": "error",
     "traceback": [
      "\u001b[1;31m---------------------------------------------------------------------------\u001b[0m",
      "\u001b[1;31mZeroDivisionError\u001b[0m                         Traceback (most recent call last)",
      "\u001b[1;32m<ipython-input-7-df982fec2812>\u001b[0m in \u001b[0;36m<module>\u001b[1;34m\u001b[0m\n\u001b[1;32m----> 1\u001b[1;33m \u001b[1;36m12\u001b[0m \u001b[1;33m/\u001b[0m \u001b[1;36m0\u001b[0m\u001b[1;33m\u001b[0m\u001b[0m\n\u001b[0m",
      "\u001b[1;31mZeroDivisionError\u001b[0m: division by zero"
     ]
    }
   ],
   "source": [
    "12 / 0"
   ]
  },
  {
   "cell_type": "code",
   "execution_count": 8,
   "metadata": {},
   "outputs": [
    {
     "data": {
      "text/plain": [
       "'Tehran'"
      ]
     },
     "execution_count": 8,
     "metadata": {},
     "output_type": "execute_result"
    }
   ],
   "source": [
    "'Tehran'"
   ]
  },
  {
   "cell_type": "code",
   "execution_count": 10,
   "metadata": {},
   "outputs": [
    {
     "data": {
      "text/plain": [
       "str"
      ]
     },
     "execution_count": 10,
     "metadata": {},
     "output_type": "execute_result"
    }
   ],
   "source": [
    "type('tehran')"
   ]
  },
  {
   "cell_type": "code",
   "execution_count": 11,
   "metadata": {},
   "outputs": [
    {
     "data": {
      "text/plain": [
       "int"
      ]
     },
     "execution_count": 11,
     "metadata": {},
     "output_type": "execute_result"
    }
   ],
   "source": [
    "type(5)"
   ]
  },
  {
   "cell_type": "code",
   "execution_count": 12,
   "metadata": {},
   "outputs": [
    {
     "data": {
      "text/plain": [
       "float"
      ]
     },
     "execution_count": 12,
     "metadata": {},
     "output_type": "execute_result"
    }
   ],
   "source": [
    "type(5.0)"
   ]
  },
  {
   "cell_type": "code",
   "execution_count": 13,
   "metadata": {},
   "outputs": [
    {
     "ename": "SyntaxError",
     "evalue": "invalid syntax (<ipython-input-13-3233e1df5dd1>, line 1)",
     "output_type": "error",
     "traceback": [
      "\u001b[1;36m  File \u001b[1;32m\"<ipython-input-13-3233e1df5dd1>\"\u001b[1;36m, line \u001b[1;32m1\u001b[0m\n\u001b[1;33m    2+ * + 2\u001b[0m\n\u001b[1;37m       ^\u001b[0m\n\u001b[1;31mSyntaxError\u001b[0m\u001b[1;31m:\u001b[0m invalid syntax\n"
     ]
    }
   ],
   "source": [
    "2+ * + 2"
   ]
  },
  {
   "cell_type": "code",
   "execution_count": 22,
   "metadata": {},
   "outputs": [
    {
     "name": "stdout",
     "output_type": "stream",
     "text": [
      "Salam \n",
      " Zanjan\n"
     ]
    }
   ],
   "source": [
    "print('Salam \\n Zanjan')"
   ]
  },
  {
   "cell_type": "code",
   "execution_count": 15,
   "metadata": {},
   "outputs": [],
   "source": [
    "x = 10"
   ]
  },
  {
   "cell_type": "code",
   "execution_count": 16,
   "metadata": {},
   "outputs": [
    {
     "data": {
      "text/plain": [
       "10"
      ]
     },
     "execution_count": 16,
     "metadata": {},
     "output_type": "execute_result"
    }
   ],
   "source": [
    "x"
   ]
  },
  {
   "cell_type": "code",
   "execution_count": 18,
   "metadata": {},
   "outputs": [
    {
     "data": {
      "text/plain": [
       "15"
      ]
     },
     "execution_count": 18,
     "metadata": {},
     "output_type": "execute_result"
    }
   ],
   "source": [
    "x + 5"
   ]
  },
  {
   "cell_type": "code",
   "execution_count": 19,
   "metadata": {},
   "outputs": [
    {
     "data": {
      "text/plain": [
       "10"
      ]
     },
     "execution_count": 19,
     "metadata": {},
     "output_type": "execute_result"
    }
   ],
   "source": [
    "x"
   ]
  },
  {
   "cell_type": "code",
   "execution_count": 20,
   "metadata": {},
   "outputs": [],
   "source": [
    "x = x + 13"
   ]
  },
  {
   "cell_type": "code",
   "execution_count": 21,
   "metadata": {},
   "outputs": [
    {
     "data": {
      "text/plain": [
       "23"
      ]
     },
     "execution_count": 21,
     "metadata": {},
     "output_type": "execute_result"
    }
   ],
   "source": [
    "x"
   ]
  },
  {
   "cell_type": "code",
   "execution_count": 30,
   "metadata": {},
   "outputs": [],
   "source": [
    "n = \"Javad \""
   ]
  },
  {
   "cell_type": "code",
   "execution_count": 34,
   "metadata": {},
   "outputs": [],
   "source": [
    "m = \"Asqari, \""
   ]
  },
  {
   "cell_type": "code",
   "execution_count": 32,
   "metadata": {},
   "outputs": [
    {
     "name": "stdout",
     "output_type": "stream",
     "text": [
      "Javad Asqari \n"
     ]
    }
   ],
   "source": [
    "print( n + m)"
   ]
  },
  {
   "cell_type": "code",
   "execution_count": 35,
   "metadata": {},
   "outputs": [
    {
     "name": "stdout",
     "output_type": "stream",
     "text": [
      "Javad Asqari, Javad Asqari, Javad Asqari, \n"
     ]
    }
   ],
   "source": [
    "print ((n + m) * 3)"
   ]
  },
  {
   "cell_type": "code",
   "execution_count": 36,
   "metadata": {},
   "outputs": [
    {
     "name": "stdout",
     "output_type": "stream",
     "text": [
      "23\n"
     ]
    }
   ],
   "source": [
    "print(x)"
   ]
  },
  {
   "cell_type": "code",
   "execution_count": 37,
   "metadata": {},
   "outputs": [
    {
     "ename": "TypeError",
     "evalue": "must be str, not int",
     "output_type": "error",
     "traceback": [
      "\u001b[1;31m---------------------------------------------------------------------------\u001b[0m",
      "\u001b[1;31mTypeError\u001b[0m                                 Traceback (most recent call last)",
      "\u001b[1;32m<ipython-input-37-05d086764dd4>\u001b[0m in \u001b[0;36m<module>\u001b[1;34m\u001b[0m\n\u001b[1;32m----> 1\u001b[1;33m \u001b[0mprint\u001b[0m\u001b[1;33m(\u001b[0m\u001b[0mn\u001b[0m \u001b[1;33m+\u001b[0m \u001b[0mx\u001b[0m\u001b[1;33m)\u001b[0m\u001b[1;33m\u001b[0m\u001b[0m\n\u001b[0m",
      "\u001b[1;31mTypeError\u001b[0m: must be str, not int"
     ]
    }
   ],
   "source": [
    "print(n + x)"
   ]
  },
  {
   "cell_type": "code",
   "execution_count": 47,
   "metadata": {},
   "outputs": [],
   "source": [
    "reshtee_chand_khaati = \"\"\" reshteye do khati ra\n",
    "... Neveshtim\"\"\""
   ]
  },
  {
   "cell_type": "code",
   "execution_count": 48,
   "metadata": {},
   "outputs": [
    {
     "data": {
      "text/plain": [
       "' reshteye do khati ra\\nNeveshtim'"
      ]
     },
     "execution_count": 48,
     "metadata": {},
     "output_type": "execute_result"
    }
   ],
   "source": [
    "reshtee_chand_khaati"
   ]
  },
  {
   "cell_type": "code",
   "execution_count": 49,
   "metadata": {},
   "outputs": [
    {
     "name": "stdout",
     "output_type": "stream",
     "text": [
      " reshteye do khati ra\n",
      "Neveshtim\n"
     ]
    }
   ],
   "source": [
    "print(reshtee_chand_khaati)"
   ]
  },
  {
   "cell_type": "code",
   "execution_count": 51,
   "metadata": {},
   "outputs": [],
   "source": [
    "x = 10"
   ]
  },
  {
   "cell_type": "code",
   "execution_count": 52,
   "metadata": {},
   "outputs": [
    {
     "data": {
      "text/plain": [
       "10"
      ]
     },
     "execution_count": 52,
     "metadata": {},
     "output_type": "execute_result"
    }
   ],
   "source": [
    "x"
   ]
  },
  {
   "cell_type": "code",
   "execution_count": 53,
   "metadata": {},
   "outputs": [
    {
     "name": "stdout",
     "output_type": "stream",
     "text": [
      "Namat chist? Mahshid\n"
     ]
    }
   ],
   "source": [
    "Naam = input(\"Namat chist? \")"
   ]
  },
  {
   "cell_type": "code",
   "execution_count": 54,
   "metadata": {},
   "outputs": [
    {
     "data": {
      "text/plain": [
       "'Mahshid'"
      ]
     },
     "execution_count": 54,
     "metadata": {},
     "output_type": "execute_result"
    }
   ],
   "source": [
    "Naam"
   ]
  },
  {
   "cell_type": "code",
   "execution_count": 55,
   "metadata": {},
   "outputs": [
    {
     "name": "stdout",
     "output_type": "stream",
     "text": [
      "Mahshid\n"
     ]
    }
   ],
   "source": [
    "print(Naam)"
   ]
  },
  {
   "cell_type": "code",
   "execution_count": 59,
   "metadata": {},
   "outputs": [
    {
     "name": "stdout",
     "output_type": "stream",
     "text": [
      "adad ra vared koind: 32\n"
     ]
    }
   ],
   "source": [
    "mqdar1 = input(\"adad ra vared koind: \")"
   ]
  },
  {
   "cell_type": "code",
   "execution_count": 60,
   "metadata": {},
   "outputs": [
    {
     "data": {
      "text/plain": [
       "str"
      ]
     },
     "execution_count": 60,
     "metadata": {},
     "output_type": "execute_result"
    }
   ],
   "source": [
    "type(mqdar1)"
   ]
  },
  {
   "cell_type": "code",
   "execution_count": 61,
   "metadata": {},
   "outputs": [],
   "source": [
    "mqdar1 = int(mqdar1)"
   ]
  },
  {
   "cell_type": "code",
   "execution_count": 62,
   "metadata": {},
   "outputs": [
    {
     "data": {
      "text/plain": [
       "int"
      ]
     },
     "execution_count": 62,
     "metadata": {},
     "output_type": "execute_result"
    }
   ],
   "source": [
    "type(mqdar1)"
   ]
  },
  {
   "cell_type": "code",
   "execution_count": 64,
   "metadata": {},
   "outputs": [
    {
     "name": "stdout",
     "output_type": "stream",
     "text": [
      "mqdar nakhost ra vared konid: 32\n"
     ]
    }
   ],
   "source": [
    "mqdar1 = int(input('mqdar nakhost ra vared konid: '))"
   ]
  },
  {
   "cell_type": "code",
   "execution_count": 65,
   "metadata": {},
   "outputs": [
    {
     "data": {
      "text/plain": [
       "int"
      ]
     },
     "execution_count": 65,
     "metadata": {},
     "output_type": "execute_result"
    }
   ],
   "source": [
    "type(mqdar1)"
   ]
  },
  {
   "cell_type": "code",
   "execution_count": 66,
   "metadata": {
    "scrolled": true
   },
   "outputs": [
    {
     "name": "stdout",
     "output_type": "stream",
     "text": [
      "a=1\n",
      "b=2\n",
      "c= 3\n"
     ]
    }
   ],
   "source": [
    "a = int(input(\"a=\"))\n",
    "b=  int(input(\"b=\"))\n",
    "c = a+b\n",
    "print(\"c=\",c)\n",
    "               "
   ]
  },
  {
   "cell_type": "code",
   "execution_count": 70,
   "metadata": {},
   "outputs": [
    {
     "name": "stdout",
     "output_type": "stream",
     "text": [
      "Adad avval ra vared konid: 12\n"
     ]
    }
   ],
   "source": [
    "x = int(input('Adad avval ra vared konid: '))"
   ]
  },
  {
   "cell_type": "code",
   "execution_count": 71,
   "metadata": {},
   "outputs": [
    {
     "name": "stdout",
     "output_type": "stream",
     "text": [
      "Adad dovvom ra vared konid: 3\n"
     ]
    }
   ],
   "source": [
    "y = int(input('Adad dovvom ra vared konid: '))"
   ]
  },
  {
   "cell_type": "code",
   "execution_count": 73,
   "metadata": {},
   "outputs": [],
   "source": [
    "z = x + y"
   ]
  },
  {
   "cell_type": "code",
   "execution_count": 74,
   "metadata": {},
   "outputs": [
    {
     "name": "stdout",
     "output_type": "stream",
     "text": [
      "15\n"
     ]
    }
   ],
   "source": [
    "print(z)"
   ]
  },
  {
   "cell_type": "code",
   "execution_count": 75,
   "metadata": {},
   "outputs": [
    {
     "name": "stdout",
     "output_type": "stream",
     "text": [
      "Enter a string:class\n",
      "Enter an integer:2\n",
      "c= classclass\n"
     ]
    }
   ],
   "source": [
    "s = input(\"Enter a string:\")\n",
    "n = int(input(\"Enter an integer:\"))\n",
    "c = s*n\n",
    "print(\"c=\",c)"
   ]
  },
  {
   "cell_type": "code",
   "execution_count": 76,
   "metadata": {},
   "outputs": [
    {
     "name": "stdout",
     "output_type": "stream",
     "text": [
      "salam\n"
     ]
    },
    {
     "ename": "ValueError",
     "evalue": "invalid literal for int() with base 10: 'salam'",
     "output_type": "error",
     "traceback": [
      "\u001b[1;31m---------------------------------------------------------------------------\u001b[0m",
      "\u001b[1;31mValueError\u001b[0m                                Traceback (most recent call last)",
      "\u001b[1;32m<ipython-input-76-e7db19844ce2>\u001b[0m in \u001b[0;36m<module>\u001b[1;34m\u001b[0m\n\u001b[1;32m----> 1\u001b[1;33m \u001b[0mx\u001b[0m \u001b[1;33m=\u001b[0m \u001b[0mint\u001b[0m\u001b[1;33m(\u001b[0m\u001b[0minput\u001b[0m\u001b[1;33m(\u001b[0m\u001b[1;33m)\u001b[0m\u001b[1;33m)\u001b[0m\u001b[1;33m\u001b[0m\u001b[0m\n\u001b[0m",
      "\u001b[1;31mValueError\u001b[0m: invalid literal for int() with base 10: 'salam'"
     ]
    }
   ],
   "source": [
    "x = int(input()) "
   ]
  },
  {
   "cell_type": "code",
   "execution_count": 77,
   "metadata": {},
   "outputs": [
    {
     "data": {
      "text/plain": [
       "23"
      ]
     },
     "execution_count": 77,
     "metadata": {},
     "output_type": "execute_result"
    }
   ],
   "source": [
    "int('23')"
   ]
  },
  {
   "cell_type": "code",
   "execution_count": 78,
   "metadata": {},
   "outputs": [
    {
     "data": {
      "text/plain": [
       "3"
      ]
     },
     "execution_count": 78,
     "metadata": {},
     "output_type": "execute_result"
    }
   ],
   "source": [
    "int(3.2)"
   ]
  },
  {
   "cell_type": "code",
   "execution_count": 79,
   "metadata": {},
   "outputs": [
    {
     "data": {
      "text/plain": [
       "-3"
      ]
     },
     "execution_count": 79,
     "metadata": {},
     "output_type": "execute_result"
    }
   ],
   "source": [
    "int(-3.2)"
   ]
  },
  {
   "cell_type": "code",
   "execution_count": 80,
   "metadata": {},
   "outputs": [
    {
     "data": {
      "text/plain": [
       "-3"
      ]
     },
     "execution_count": 80,
     "metadata": {},
     "output_type": "execute_result"
    }
   ],
   "source": [
    "int(-3.7)"
   ]
  },
  {
   "cell_type": "code",
   "execution_count": 81,
   "metadata": {},
   "outputs": [],
   "source": [
    "n = 16"
   ]
  },
  {
   "cell_type": "code",
   "execution_count": 85,
   "metadata": {},
   "outputs": [],
   "source": [
    "_p_i = 3.14159265"
   ]
  },
  {
   "cell_type": "code",
   "execution_count": 86,
   "metadata": {},
   "outputs": [
    {
     "data": {
      "text/plain": [
       "3.14159265"
      ]
     },
     "execution_count": 86,
     "metadata": {},
     "output_type": "execute_result"
    }
   ],
   "source": [
    "_p_i"
   ]
  },
  {
   "cell_type": "code",
   "execution_count": 87,
   "metadata": {},
   "outputs": [
    {
     "ename": "SyntaxError",
     "evalue": "invalid syntax (<ipython-input-87-3a374af0de27>, line 1)",
     "output_type": "error",
     "traceback": [
      "\u001b[1;36m  File \u001b[1;32m\"<ipython-input-87-3a374af0de27>\"\u001b[1;36m, line \u001b[1;32m1\u001b[0m\n\u001b[1;33m    x@ = 123\u001b[0m\n\u001b[1;37m       ^\u001b[0m\n\u001b[1;31mSyntaxError\u001b[0m\u001b[1;31m:\u001b[0m invalid syntax\n"
     ]
    }
   ],
   "source": [
    "x@ = 123"
   ]
  },
  {
   "cell_type": "code",
   "execution_count": 88,
   "metadata": {},
   "outputs": [],
   "source": [
    "x233444 = 123"
   ]
  },
  {
   "cell_type": "code",
   "execution_count": 89,
   "metadata": {},
   "outputs": [
    {
     "ename": "SyntaxError",
     "evalue": "invalid syntax (<ipython-input-89-0ba485bf75ed>, line 1)",
     "output_type": "error",
     "traceback": [
      "\u001b[1;36m  File \u001b[1;32m\"<ipython-input-89-0ba485bf75ed>\"\u001b[1;36m, line \u001b[1;32m1\u001b[0m\n\u001b[1;33m    class = 13\u001b[0m\n\u001b[1;37m          ^\u001b[0m\n\u001b[1;31mSyntaxError\u001b[0m\u001b[1;31m:\u001b[0m invalid syntax\n"
     ]
    }
   ],
   "source": [
    "class = 13"
   ]
  },
  {
   "cell_type": "code",
   "execution_count": 90,
   "metadata": {},
   "outputs": [
    {
     "data": {
      "text/plain": [
       "True"
      ]
     },
     "execution_count": 90,
     "metadata": {},
     "output_type": "execute_result"
    }
   ],
   "source": [
    " 7 > 4"
   ]
  },
  {
   "cell_type": "code",
   "execution_count": 91,
   "metadata": {},
   "outputs": [
    {
     "data": {
      "text/plain": [
       "False"
      ]
     },
     "execution_count": 91,
     "metadata": {},
     "output_type": "execute_result"
    }
   ],
   "source": [
    "7 < 4"
   ]
  },
  {
   "cell_type": "code",
   "execution_count": 93,
   "metadata": {},
   "outputs": [
    {
     "data": {
      "text/plain": [
       "False"
      ]
     },
     "execution_count": 93,
     "metadata": {},
     "output_type": "execute_result"
    }
   ],
   "source": [
    " 7 <= 4"
   ]
  },
  {
   "cell_type": "code",
   "execution_count": 95,
   "metadata": {},
   "outputs": [
    {
     "data": {
      "text/plain": [
       "True"
      ]
     },
     "execution_count": 95,
     "metadata": {},
     "output_type": "execute_result"
    }
   ],
   "source": [
    "7 <= 7"
   ]
  },
  {
   "cell_type": "code",
   "execution_count": 96,
   "metadata": {},
   "outputs": [
    {
     "ename": "SyntaxError",
     "evalue": "invalid syntax (<ipython-input-96-d64f7a7f199a>, line 1)",
     "output_type": "error",
     "traceback": [
      "\u001b[1;36m  File \u001b[1;32m\"<ipython-input-96-d64f7a7f199a>\"\u001b[1;36m, line \u001b[1;32m1\u001b[0m\n\u001b[1;33m    7 < = 7\u001b[0m\n\u001b[1;37m        ^\u001b[0m\n\u001b[1;31mSyntaxError\u001b[0m\u001b[1;31m:\u001b[0m invalid syntax\n"
     ]
    }
   ],
   "source": [
    "7 < = 7"
   ]
  },
  {
   "cell_type": "code",
   "execution_count": 97,
   "metadata": {},
   "outputs": [
    {
     "ename": "SyntaxError",
     "evalue": "invalid syntax (<ipython-input-97-eba7708f1b32>, line 1)",
     "output_type": "error",
     "traceback": [
      "\u001b[1;36m  File \u001b[1;32m\"<ipython-input-97-eba7708f1b32>\"\u001b[1;36m, line \u001b[1;32m1\u001b[0m\n\u001b[1;33m    7 =< 7\u001b[0m\n\u001b[1;37m       ^\u001b[0m\n\u001b[1;31mSyntaxError\u001b[0m\u001b[1;31m:\u001b[0m invalid syntax\n"
     ]
    }
   ],
   "source": [
    "7 =< 7"
   ]
  },
  {
   "cell_type": "code",
   "execution_count": 98,
   "metadata": {},
   "outputs": [
    {
     "data": {
      "text/plain": [
       "True"
      ]
     },
     "execution_count": 98,
     "metadata": {},
     "output_type": "execute_result"
    }
   ],
   "source": [
    "7 >= 5"
   ]
  },
  {
   "cell_type": "code",
   "execution_count": 99,
   "metadata": {},
   "outputs": [
    {
     "data": {
      "text/plain": [
       "True"
      ]
     },
     "execution_count": 99,
     "metadata": {},
     "output_type": "execute_result"
    }
   ],
   "source": [
    "7 == 7"
   ]
  },
  {
   "cell_type": "code",
   "execution_count": 100,
   "metadata": {},
   "outputs": [
    {
     "data": {
      "text/plain": [
       "False"
      ]
     },
     "execution_count": 100,
     "metadata": {},
     "output_type": "execute_result"
    }
   ],
   "source": [
    "7 != 7"
   ]
  },
  {
   "cell_type": "code",
   "execution_count": 101,
   "metadata": {},
   "outputs": [
    {
     "data": {
      "text/plain": [
       "True"
      ]
     },
     "execution_count": 101,
     "metadata": {},
     "output_type": "execute_result"
    }
   ],
   "source": [
    "7 != 8"
   ]
  },
  {
   "cell_type": "code",
   "execution_count": 109,
   "metadata": {},
   "outputs": [],
   "source": [
    "daqiqe = 2300\n",
    "# mohasebeye saat bar assa daqiqe\n",
    "saat = (daqiqe ) / 60"
   ]
  },
  {
   "cell_type": "code",
   "execution_count": 110,
   "metadata": {},
   "outputs": [
    {
     "data": {
      "text/plain": [
       "38.333333333333336"
      ]
     },
     "execution_count": 110,
     "metadata": {},
     "output_type": "execute_result"
    }
   ],
   "source": [
    "saat"
   ]
  },
  {
   "cell_type": "code",
   "execution_count": null,
   "metadata": {},
   "outputs": [],
   "source": [
    "v = 5 #Sorat bar m/s"
   ]
  },
  {
   "cell_type": "code",
   "execution_count": 115,
   "metadata": {},
   "outputs": [
    {
     "name": "stdout",
     "output_type": "stream",
     "text": [
      "adad nakhost ra vared konid: 12\n",
      "adad dovvom ra vared konid: 54\n",
      "12 namosavi ba 54\n",
      "12 kochektar az 54\n",
      "12 kochektar az  ya mosavi ba 54\n"
     ]
    }
   ],
   "source": [
    "\"\"\"Moqayaee do addad ba 'if' va amalgarhaye moqayeseye\"\"\"\n",
    "\n",
    "# khandan adade avval\n",
    "a1 = int(input(\"adad nakhost ra vared konid: \"))\n",
    "\n",
    "\n",
    "\n",
    "# khandan adade Dovvom\n",
    "a2 = int(input(\"adad dovvom ra vared konid: \"))\n",
    "\n",
    "\n",
    "if a1 == a2:\n",
    "    print(a1, \"barabar ba\", a2)\n",
    "    \n",
    "if a1 != a2:\n",
    "    print(a1, \"namosavi ba\", a2)\n",
    "    \n",
    "if a1 > a2:\n",
    "    print(a1, \"bozorgtar az\", a2)\n",
    "    \n",
    "if a1 < a2:\n",
    "    print(a1, \"kochektar az\", a2)    \n",
    "    \n",
    "if a1 >= a2:\n",
    "    print(a1, \"bozorgtar az ya mosavi ba\", a2)\n",
    "    \n",
    "if a1 <= a2:\n",
    "    print(a1, \"kochektar az  ya mosavi ba\", a2)      "
   ]
  },
  {
   "cell_type": "code",
   "execution_count": 3,
   "metadata": {},
   "outputs": [
    {
     "data": {
      "text/plain": [
       "4"
      ]
     },
     "execution_count": 3,
     "metadata": {},
     "output_type": "execute_result"
    }
   ],
   "source": [
    "x = 4\n",
    "x"
   ]
  },
  {
   "cell_type": "code",
   "execution_count": 4,
   "metadata": {},
   "outputs": [
    {
     "data": {
      "text/plain": [
       "True"
      ]
     },
     "execution_count": 4,
     "metadata": {},
     "output_type": "execute_result"
    }
   ],
   "source": [
    "1 < x <= 10"
   ]
  },
  {
   "cell_type": "code",
   "execution_count": 5,
   "metadata": {},
   "outputs": [
    {
     "data": {
      "text/plain": [
       "False"
      ]
     },
     "execution_count": 5,
     "metadata": {},
     "output_type": "execute_result"
    }
   ],
   "source": [
    "1 < x <= 3"
   ]
  },
  {
   "cell_type": "code",
   "execution_count": 11,
   "metadata": {},
   "outputs": [
    {
     "name": "stdout",
     "output_type": "stream",
     "text": [
      "adade dovvom: 1.2\n"
     ]
    },
    {
     "ename": "ValueError",
     "evalue": "invalid literal for int() with base 10: '1.2'",
     "output_type": "error",
     "traceback": [
      "\u001b[1;31m---------------------------------------------------------------------------\u001b[0m",
      "\u001b[1;31mValueError\u001b[0m                                Traceback (most recent call last)",
      "\u001b[1;32m<ipython-input-11-1ca2e832d10b>\u001b[0m in \u001b[0;36m<module>\u001b[1;34m\u001b[0m\n\u001b[0;32m      1\u001b[0m \u001b[0ma2\u001b[0m \u001b[1;33m=\u001b[0m \u001b[1;33m(\u001b[0m\u001b[0minput\u001b[0m\u001b[1;33m(\u001b[0m\u001b[1;34m\"adade dovvom: \"\u001b[0m\u001b[1;33m)\u001b[0m\u001b[1;33m)\u001b[0m\u001b[1;33m\u001b[0m\u001b[0m\n\u001b[1;32m----> 2\u001b[1;33m \u001b[0ma2\u001b[0m \u001b[1;33m=\u001b[0m \u001b[0mint\u001b[0m\u001b[1;33m(\u001b[0m\u001b[0ma2\u001b[0m\u001b[1;33m)\u001b[0m\u001b[1;33m\u001b[0m\u001b[0m\n\u001b[0m",
      "\u001b[1;31mValueError\u001b[0m: invalid literal for int() with base 10: '1.2'"
     ]
    }
   ],
   "source": [
    "a2 = (input(\"adade dovvom: \"))\n",
    "a2 = int(a2)"
   ]
  },
  {
   "cell_type": "code",
   "execution_count": 13,
   "metadata": {},
   "outputs": [
    {
     "data": {
      "text/plain": [
       "'2'"
      ]
     },
     "execution_count": 13,
     "metadata": {},
     "output_type": "execute_result"
    }
   ],
   "source": [
    "a = str(2)\n",
    "a"
   ]
  },
  {
   "cell_type": "code",
   "execution_count": 14,
   "metadata": {},
   "outputs": [
    {
     "name": "stdout",
     "output_type": "stream",
     "text": [
      "adad avval: -5\n",
      "adade dovvom: -10\n",
      "adade sevvom: 3\n",
      "mqdare kamine barabar ba:  -10\n"
     ]
    }
   ],
   "source": [
    "\"\"\"Yaftane kamine\"\"\"\n",
    "\n",
    "a1 = input(\"adad avval: \")\n",
    "a1 = int(a1)\n",
    "\n",
    "a2 = int(input(\"adade dovvom: \"))\n",
    "\n",
    "a3 = int(input(\"adade sevvom: \"))\n",
    "\n",
    "kam  = a1\n",
    "\n",
    "if a2 < kam:\n",
    "    kam = a2\n",
    "if a3 < kam:\n",
    "    kam = a3\n",
    "print('mqdare kamine barabar ba: ', kam)"
   ]
  },
  {
   "cell_type": "code",
   "execution_count": 4,
   "metadata": {},
   "outputs": [
    {
     "name": "stdout",
     "output_type": "stream",
     "text": [
      "adad avval: 15\n",
      "adade dovvom: 3\n",
      "adade sevvom: 12\n",
      "mqdare bishine barabar ba:  15\n"
     ]
    }
   ],
   "source": [
    "\"\"\"Yaftane bishine\"\"\"\n",
    "a1 = input(\"adad avval: \")\n",
    "a1 = int(a1)\n",
    "\n",
    "a2 = int(input(\"adade dovvom: \"))\n",
    "\n",
    "a3 = int(input(\"adade sevvom: \"))\n",
    "\n",
    "bish  = a1\n",
    "\n",
    "if a2 > bish:\n",
    "    bish = a2\n",
    "if a3 > bish:\n",
    "    bish = a3\n",
    "print('mqdare bishine barabar ba: ', bish)"
   ]
  },
  {
   "cell_type": "code",
   "execution_count": 5,
   "metadata": {},
   "outputs": [
    {
     "name": "stdout",
     "output_type": "stream",
     "text": [
      "adad avval: 1\n",
      "adade dovvom: 2\n",
      "adade sevvom: 3\n",
      "mqdare jame barabar ba:  6\n"
     ]
    }
   ],
   "source": [
    "\"\"\"Jame'e se adad\"\"\"\n",
    "\n",
    "a1 = input(\"adad avval: \")\n",
    "a1 = int(a1)\n",
    "\n",
    "a2 = int(input(\"adade dovvom: \"))\n",
    "\n",
    "a3 = int(input(\"adade sevvom: \"))\n",
    "\n",
    "kol  = 0\n",
    "\n",
    "kol = kol + a1\n",
    "\n",
    "kol = kol + a2\n",
    "\n",
    "kol = kol + a3\n",
    "\n",
    "\n",
    "print('mqdare jame barabar ba: ', kol)"
   ]
  },
  {
   "cell_type": "code",
   "execution_count": 6,
   "metadata": {},
   "outputs": [
    {
     "data": {
      "text/plain": [
       "True"
      ]
     },
     "execution_count": 6,
     "metadata": {},
     "output_type": "execute_result"
    }
   ],
   "source": [
    "5 == 5"
   ]
  },
  {
   "cell_type": "code",
   "execution_count": 7,
   "metadata": {},
   "outputs": [
    {
     "data": {
      "text/plain": [
       "False"
      ]
     },
     "execution_count": 7,
     "metadata": {},
     "output_type": "execute_result"
    }
   ],
   "source": [
    "5 == 6"
   ]
  },
  {
   "cell_type": "code",
   "execution_count": 8,
   "metadata": {},
   "outputs": [
    {
     "data": {
      "text/plain": [
       "bool"
      ]
     },
     "execution_count": 8,
     "metadata": {},
     "output_type": "execute_result"
    }
   ],
   "source": [
    "type(True)"
   ]
  },
  {
   "cell_type": "code",
   "execution_count": 9,
   "metadata": {},
   "outputs": [
    {
     "data": {
      "text/plain": [
       "bool"
      ]
     },
     "execution_count": 9,
     "metadata": {},
     "output_type": "execute_result"
    }
   ],
   "source": [
    "type(False)"
   ]
  },
  {
   "cell_type": "code",
   "execution_count": 12,
   "metadata": {},
   "outputs": [
    {
     "data": {
      "text/plain": [
       "True"
      ]
     },
     "execution_count": 12,
     "metadata": {},
     "output_type": "execute_result"
    }
   ],
   "source": [
    "x = 1\n",
    "y = 1\n",
    "\n",
    "z = False\n",
    "\n",
    "x == y or z"
   ]
  },
  {
   "cell_type": "code",
   "execution_count": 13,
   "metadata": {},
   "outputs": [
    {
     "data": {
      "text/plain": [
       "False"
      ]
     },
     "execution_count": 13,
     "metadata": {},
     "output_type": "execute_result"
    }
   ],
   "source": [
    "x != y or z"
   ]
  },
  {
   "cell_type": "code",
   "execution_count": 14,
   "metadata": {},
   "outputs": [
    {
     "data": {
      "text/plain": [
       "True"
      ]
     },
     "execution_count": 14,
     "metadata": {},
     "output_type": "execute_result"
    }
   ],
   "source": [
    "not z"
   ]
  },
  {
   "cell_type": "code",
   "execution_count": 15,
   "metadata": {},
   "outputs": [
    {
     "data": {
      "text/plain": [
       "False"
      ]
     },
     "execution_count": 15,
     "metadata": {},
     "output_type": "execute_result"
    }
   ],
   "source": [
    "not 1"
   ]
  },
  {
   "cell_type": "code",
   "execution_count": 18,
   "metadata": {},
   "outputs": [
    {
     "data": {
      "text/plain": [
       "True"
      ]
     },
     "execution_count": 18,
     "metadata": {},
     "output_type": "execute_result"
    }
   ],
   "source": [
    "not 0"
   ]
  },
  {
   "cell_type": "code",
   "execution_count": 20,
   "metadata": {},
   "outputs": [
    {
     "data": {
      "text/plain": [
       "0"
      ]
     },
     "execution_count": 20,
     "metadata": {},
     "output_type": "execute_result"
    }
   ],
   "source": [
    "0 and 1"
   ]
  },
  {
   "cell_type": "code",
   "execution_count": 21,
   "metadata": {},
   "outputs": [
    {
     "data": {
      "text/plain": [
       "True"
      ]
     },
     "execution_count": 21,
     "metadata": {},
     "output_type": "execute_result"
    }
   ],
   "source": [
    "45 and True"
   ]
  },
  {
   "cell_type": "code",
   "execution_count": 23,
   "metadata": {},
   "outputs": [
    {
     "data": {
      "text/plain": [
       "True"
      ]
     },
     "execution_count": 23,
     "metadata": {},
     "output_type": "execute_result"
    }
   ],
   "source": [
    "2 == 2 and 4 > 2"
   ]
  },
  {
   "cell_type": "code",
   "execution_count": 24,
   "metadata": {},
   "outputs": [
    {
     "data": {
      "text/plain": [
       "True"
      ]
     },
     "execution_count": 24,
     "metadata": {},
     "output_type": "execute_result"
    }
   ],
   "source": [
    "(2 == 2) and (4 > 2)"
   ]
  },
  {
   "cell_type": "code",
   "execution_count": 26,
   "metadata": {},
   "outputs": [
    {
     "name": "stdout",
     "output_type": "stream",
     "text": [
      "5 adadi mosbat ast.\n"
     ]
    }
   ],
   "source": [
    "x = 5\n",
    "if x > 0:\n",
    "    print(x, 'adadi mosbat ast.')"
   ]
  },
  {
   "cell_type": "code",
   "execution_count": 27,
   "metadata": {},
   "outputs": [],
   "source": [
    "x = -5\n",
    "if x > 0:\n",
    "    print(x, 'adadi mosbat ast.')"
   ]
  },
  {
   "cell_type": "code",
   "execution_count": 36,
   "metadata": {},
   "outputs": [],
   "source": [
    "x = 10"
   ]
  },
  {
   "cell_type": "code",
   "execution_count": 30,
   "metadata": {},
   "outputs": [
    {
     "data": {
      "text/plain": [
       "10"
      ]
     },
     "execution_count": 30,
     "metadata": {},
     "output_type": "execute_result"
    }
   ],
   "source": [
    "x"
   ]
  },
  {
   "cell_type": "code",
   "execution_count": 32,
   "metadata": {},
   "outputs": [
    {
     "data": {
      "text/plain": [
       "15"
      ]
     },
     "execution_count": 32,
     "metadata": {},
     "output_type": "execute_result"
    }
   ],
   "source": [
    "x + 5"
   ]
  },
  {
   "cell_type": "code",
   "execution_count": 33,
   "metadata": {},
   "outputs": [
    {
     "data": {
      "text/plain": [
       "10"
      ]
     },
     "execution_count": 33,
     "metadata": {},
     "output_type": "execute_result"
    }
   ],
   "source": [
    "x"
   ]
  },
  {
   "cell_type": "code",
   "execution_count": null,
   "metadata": {},
   "outputs": [],
   "source": []
  },
  {
   "cell_type": "code",
   "execution_count": 34,
   "metadata": {},
   "outputs": [],
   "source": [
    "x = 'hasan'"
   ]
  },
  {
   "cell_type": "code",
   "execution_count": 35,
   "metadata": {},
   "outputs": [
    {
     "data": {
      "text/plain": [
       "'hasan'"
      ]
     },
     "execution_count": 35,
     "metadata": {},
     "output_type": "execute_result"
    }
   ],
   "source": [
    "x"
   ]
  },
  {
   "cell_type": "code",
   "execution_count": 37,
   "metadata": {},
   "outputs": [
    {
     "data": {
      "text/plain": [
       "10"
      ]
     },
     "execution_count": 37,
     "metadata": {},
     "output_type": "execute_result"
    }
   ],
   "source": [
    "x"
   ]
  },
  {
   "cell_type": "code",
   "execution_count": 41,
   "metadata": {},
   "outputs": [
    {
     "name": "stdout",
     "output_type": "stream",
     "text": [
      "13\n",
      "qabol!\n",
      "Afarin!\n"
     ]
    }
   ],
   "source": [
    "nomre = float(input())\n",
    "\n",
    "if nomre >= 12:\n",
    "    print('qabol!')\n",
    "    print('Afarin!')\n"
   ]
  },
  {
   "cell_type": "code",
   "execution_count": 43,
   "metadata": {},
   "outputs": [
    {
     "ename": "IndentationError",
     "evalue": "unindent does not match any outer indentation level (<tokenize>, line 5)",
     "output_type": "error",
     "traceback": [
      "\u001b[1;36m  File \u001b[1;32m\"<tokenize>\"\u001b[1;36m, line \u001b[1;32m5\u001b[0m\n\u001b[1;33m    print('Afarin!')\u001b[0m\n\u001b[1;37m    ^\u001b[0m\n\u001b[1;31mIndentationError\u001b[0m\u001b[1;31m:\u001b[0m unindent does not match any outer indentation level\n"
     ]
    }
   ],
   "source": [
    "nomre = float(input())\n",
    "\n",
    "if nomre >= 12:\n",
    "    print('qabol!')\n",
    "   print('Afarin!')\n"
   ]
  },
  {
   "cell_type": "code",
   "execution_count": 44,
   "metadata": {},
   "outputs": [
    {
     "name": "stdout",
     "output_type": "stream",
     "text": [
      "in jomle hatamn chap khahad shod\n"
     ]
    }
   ],
   "source": [
    "if 1:\n",
    "    print('in jomle hatamn chap khahad shod')\n"
   ]
  },
  {
   "cell_type": "code",
   "execution_count": 55,
   "metadata": {},
   "outputs": [],
   "source": [
    "if 0:\n",
    "    print('in jomle hichvaqt chap Nakhahad shod')\n"
   ]
  },
  {
   "cell_type": "code",
   "execution_count": 71,
   "metadata": {},
   "outputs": [],
   "source": [
    "if '':\n",
    "    print('in jomle hichvaqt chap Nakhahad shod')\n"
   ]
  },
  {
   "cell_type": "code",
   "execution_count": 72,
   "metadata": {},
   "outputs": [
    {
     "name": "stdout",
     "output_type": "stream",
     "text": [
      "12\n",
      "qabol\n"
     ]
    }
   ],
   "source": [
    "if int(input()) >= 12:\n",
    "    print('qabol')\n"
   ]
  },
  {
   "cell_type": "code",
   "execution_count": 80,
   "metadata": {},
   "outputs": [
    {
     "data": {
      "text/plain": [
       "0"
      ]
     },
     "execution_count": 80,
     "metadata": {},
     "output_type": "execute_result"
    }
   ],
   "source": [
    " 0 & 1"
   ]
  },
  {
   "cell_type": "code",
   "execution_count": 76,
   "metadata": {},
   "outputs": [
    {
     "name": "stdout",
     "output_type": "stream",
     "text": [
      "16\n",
      "16 adadi zowj ast.\n"
     ]
    }
   ],
   "source": [
    "x = int(input())\n",
    "\n",
    "if x % 2 == 0 :\n",
    "    print(x, 'adadi zowj ast.')\n",
    "else:\n",
    "    print(x, 'adadi fard ast')\n"
   ]
  },
  {
   "cell_type": "code",
   "execution_count": 85,
   "metadata": {},
   "outputs": [
    {
     "name": "stdout",
     "output_type": "stream",
     "text": [
      "19\n"
     ]
    }
   ],
   "source": [
    "nomre = int(input())\n",
    "\n",
    "if x >= 12 :\n",
    "    natije = 'qabol'\n",
    "else:\n",
    "    natije = 'mardood'\n"
   ]
  },
  {
   "cell_type": "code",
   "execution_count": 89,
   "metadata": {},
   "outputs": [
    {
     "name": "stdout",
     "output_type": "stream",
     "text": [
      "18\n"
     ]
    }
   ],
   "source": [
    "nomre = int(input())\n",
    "\n",
    "if x >= 12 :\n",
    "    natije = 1 # be ma'naye qaboli\n",
    "else:\n",
    "    natije = 0 # be ma'naye mardodi\n"
   ]
  },
  {
   "cell_type": "code",
   "execution_count": 90,
   "metadata": {},
   "outputs": [
    {
     "data": {
      "text/plain": [
       "1"
      ]
     },
     "execution_count": 90,
     "metadata": {},
     "output_type": "execute_result"
    }
   ],
   "source": [
    "natije"
   ]
  },
  {
   "cell_type": "code",
   "execution_count": 95,
   "metadata": {
    "scrolled": true
   },
   "outputs": [
    {
     "name": "stdout",
     "output_type": "stream",
     "text": [
      "8\n"
     ]
    }
   ],
   "source": [
    "nomre = int(input())\n",
    "natije = ('qabol' if nomre >= 12 else 'mardood')"
   ]
  },
  {
   "cell_type": "code",
   "execution_count": 96,
   "metadata": {},
   "outputs": [
    {
     "data": {
      "text/plain": [
       "'mardood'"
      ]
     },
     "execution_count": 96,
     "metadata": {},
     "output_type": "execute_result"
    }
   ],
   "source": [
    "natije"
   ]
  },
  {
   "cell_type": "code",
   "execution_count": 97,
   "metadata": {},
   "outputs": [
    {
     "data": {
      "text/plain": [
       "'mardood'"
      ]
     },
     "execution_count": 97,
     "metadata": {},
     "output_type": "execute_result"
    }
   ],
   "source": [
    "'qabol' if nomre >= 12 else 'mardood'"
   ]
  },
  {
   "cell_type": "code",
   "execution_count": 100,
   "metadata": {},
   "outputs": [
    {
     "name": "stdout",
     "output_type": "stream",
     "text": [
      "20\n",
      "qabol\n",
      "Dars ra bayad dobare akhz konid\n"
     ]
    }
   ],
   "source": [
    "nomre = int(input())\n",
    "\n",
    "if nomre >= 12 :\n",
    "    print('qabol')\n",
    "else:\n",
    "    print('rrad')\n",
    "print('Dars ra bayad dobare akhz konid')\n"
   ]
  },
  {
   "cell_type": "markdown",
   "metadata": {},
   "source": [
    "شروط زنجیری"
   ]
  },
  {
   "cell_type": "code",
   "execution_count": 4,
   "metadata": {},
   "outputs": [
    {
     "name": "stdout",
     "output_type": "stream",
     "text": [
      "x = 12\n",
      "y = 12\n",
      "12  bozorgtar az ya mosavi  12  ast\n"
     ]
    }
   ],
   "source": [
    "x = int(input('x = '))\n",
    "y = int(input('y = '))\n",
    "\n",
    "if  x < y:\n",
    "    print(x, ' kochecktar az ', y, ' ast')\n",
    "else:\n",
    "    print(x, ' bozorgtar az ya mosavi ', y, ' ast')"
   ]
  },
  {
   "cell_type": "code",
   "execution_count": 3,
   "metadata": {},
   "outputs": [
    {
     "name": "stdout",
     "output_type": "stream",
     "text": [
      "x = 12\n",
      "y = 12\n",
      "12  barabare ba  12  ast\n"
     ]
    }
   ],
   "source": [
    "x = int(input('x = '))\n",
    "y = int(input('y = '))\n",
    "\n",
    "if  x < y:\n",
    "    print(x, ' kochecktar az ', y, ' ast')\n",
    "elif x > y:\n",
    "    print(x, ' bozorgtar az ', y, ' ast')\n",
    "else: \n",
    "    print(x, ' barabare ba ', y, ' ast')\n",
    "    "
   ]
  },
  {
   "cell_type": "code",
   "execution_count": 5,
   "metadata": {},
   "outputs": [
    {
     "name": "stdout",
     "output_type": "stream",
     "text": [
      "17\n",
      "C\n"
     ]
    }
   ],
   "source": [
    "nomre = int(input())\n",
    "\n",
    "if nomre >= 19:\n",
    "    print('A')\n",
    "elif nomre >= 18:\n",
    "    print('B')\n",
    "elif nomre >= 17:\n",
    "    print('C')\n",
    "elif nomre >= 16:\n",
    "    print('D')\n",
    "elif nomre < 16:\n",
    "    print('F')"
   ]
  },
  {
   "cell_type": "code",
   "execution_count": 5,
   "metadata": {},
   "outputs": [
    {
     "name": "stdout",
     "output_type": "stream",
     "text": [
      "x = 50\n",
      "y = 20\n",
      "400\n"
     ]
    }
   ],
   "source": [
    "x = int(input('x = '))\n",
    "y = int(input('y = '))\n",
    "\n",
    "baqimande = x % 3\n",
    "\n",
    "if baqimande == 0:\n",
    "    print(y ** baqimande)\n",
    "elif baqimande == 1:\n",
    "    print(y ** baqimande)\n",
    "else:\n",
    "    print(y ** baqimande)    \n",
    "    "
   ]
  },
  {
   "cell_type": "code",
   "execution_count": 6,
   "metadata": {},
   "outputs": [
    {
     "name": "stdout",
     "output_type": "stream",
     "text": [
      "x bozorgtar az y!\n"
     ]
    }
   ],
   "source": [
    "if x == y:\n",
    "    print('x o y ba ham barabar')\n",
    "else: \n",
    "    if x < y:\n",
    "        print('x kochektar az y!')\n",
    "    else:\n",
    "        print('x bozorgtar az y!')"
   ]
  },
  {
   "cell_type": "code",
   "execution_count": 17,
   "metadata": {},
   "outputs": [
    {
     "name": "stdout",
     "output_type": "stream",
     "text": [
      "x dar baze ast!\n"
     ]
    }
   ],
   "source": [
    "x = -9\n",
    "if 0 <= x:\n",
    "    print('x namanfi!') \n",
    "if x <= 10:\n",
    "    print('x dar baze ast!')        "
   ]
  },
  {
   "cell_type": "code",
   "execution_count": 13,
   "metadata": {},
   "outputs": [],
   "source": [
    "x = -15\n",
    "if 0 <= x and x <= 10:     \n",
    "    print('x dar baze ast!')        "
   ]
  },
  {
   "cell_type": "code",
   "execution_count": 14,
   "metadata": {},
   "outputs": [
    {
     "name": "stdout",
     "output_type": "stream",
     "text": [
      "x dar baze ast!\n"
     ]
    }
   ],
   "source": [
    "x = 8\n",
    "if 0 <= x <= 10:     \n",
    "    print('x dar baze ast!')        "
   ]
  },
  {
   "cell_type": "code",
   "execution_count": 18,
   "metadata": {},
   "outputs": [
    {
     "name": "stdout",
     "output_type": "stream",
     "text": [
      "Banoye Salkhorde\n"
     ]
    }
   ],
   "source": [
    "jensiat = 'zan'\n",
    "sen = 77\n",
    "\n",
    "if (jensiat == 'zan') and (sen >= 65):\n",
    "    print('Banoye Salkhorde')"
   ]
  },
  {
   "cell_type": "code",
   "execution_count": 24,
   "metadata": {},
   "outputs": [],
   "source": [
    "miangin_fasl = 17.25\n",
    "emtehan_nahaee = 17.5\n",
    "\n",
    "if miangin_fasl >= 17.5 or emtehan_nahaee >= 18:\n",
    "    print('Jozve kalleha')"
   ]
  },
  {
   "cell_type": "code",
   "execution_count": 26,
   "metadata": {},
   "outputs": [
    {
     "name": "stdout",
     "output_type": "stream",
     "text": [
      "18\n"
     ]
    }
   ],
   "source": [
    "nomre = 18\n",
    "if not nomre == -1:\n",
    "    print(nomre)\n"
   ]
  },
  {
   "cell_type": "code",
   "execution_count": null,
   "metadata": {},
   "outputs": [],
   "source": [
    "miangin_fasl = 17.25\n",
    "emtehan_nahaee = 17.5\n",
    "\n",
    "if (miangin_fasl >= 17.5 or emtehan_nahaee >= 18 ) and not emtehan_nahaee == -1:\n",
    "    print('Jozve kalleha')"
   ]
  },
  {
   "cell_type": "markdown",
   "metadata": {},
   "source": [
    "تکرار"
   ]
  },
  {
   "cell_type": "markdown",
   "metadata": {},
   "source": [
    "حلقه مذکور تا زمانی که شرط برقرار باشد عملیات مدنظر را تکرار خواهد کرد. "
   ]
  },
  {
   "cell_type": "code",
   "execution_count": 3,
   "metadata": {},
   "outputs": [
    {
     "name": "stdout",
     "output_type": "stream",
     "text": [
      "1\n",
      "2\n",
      "3\n",
      "4\n",
      "5\n",
      "6\n",
      "7\n",
      "8\n",
      "9\n",
      "10\n"
     ]
    }
   ],
   "source": [
    "n = 1\n",
    "while n <= 10:\n",
    "    print(n)\n",
    "    n = n + 1\n",
    "    \n",
    "    "
   ]
  },
  {
   "cell_type": "code",
   "execution_count": 4,
   "metadata": {},
   "outputs": [
    {
     "data": {
      "text/plain": [
       "11"
      ]
     },
     "execution_count": 4,
     "metadata": {},
     "output_type": "execute_result"
    }
   ],
   "source": [
    "n"
   ]
  },
  {
   "cell_type": "code",
   "execution_count": 31,
   "metadata": {},
   "outputs": [
    {
     "name": "stdout",
     "output_type": "stream",
     "text": [
      "1\n",
      "3\n",
      "9\n",
      "27\n",
      "81\n",
      "243\n"
     ]
    }
   ],
   "source": [
    "m = 1\n",
    "while m <= 500:\n",
    "    print(m)\n",
    "    m = m * 3"
   ]
  },
  {
   "cell_type": "code",
   "execution_count": 28,
   "metadata": {
    "scrolled": true
   },
   "outputs": [
    {
     "data": {
      "text/plain": [
       "11"
      ]
     },
     "execution_count": 28,
     "metadata": {},
     "output_type": "execute_result"
    }
   ],
   "source": [
    "n"
   ]
  },
  {
   "cell_type": "code",
   "execution_count": 1,
   "metadata": {},
   "outputs": [
    {
     "name": "stdout",
     "output_type": "stream",
     "text": [
      "hade bala: 700\n",
      "paye: 6\n",
      "1\n",
      "6\n",
      "36\n",
      "216\n"
     ]
    }
   ],
   "source": [
    "h = int(input('hade bala: '))\n",
    "a = int(input('paye: '))\n",
    "m = 1\n",
    "while m <= h:\n",
    "    print(m)\n",
    "    m = m * a"
   ]
  },
  {
   "cell_type": "code",
   "execution_count": 5,
   "metadata": {},
   "outputs": [
    {
     "data": {
      "text/plain": [
       "1296"
      ]
     },
     "execution_count": 5,
     "metadata": {},
     "output_type": "execute_result"
    }
   ],
   "source": [
    "m"
   ]
  },
  {
   "cell_type": "code",
   "execution_count": 6,
   "metadata": {},
   "outputs": [
    {
     "name": "stdout",
     "output_type": "stream",
     "text": [
      "hade bala: 700\n",
      "paye: 6\n",
      "1296\n"
     ]
    }
   ],
   "source": [
    "h = int(input('hade bala: '))\n",
    "a = int(input('paye: '))\n",
    "m = 1\n",
    "while m <= h:    \n",
    "    m = m * a\n",
    "print(m)"
   ]
  },
  {
   "cell_type": "code",
   "execution_count": 10,
   "metadata": {},
   "outputs": [
    {
     "name": "stdout",
     "output_type": "stream",
     "text": [
      "adad jahat mohasebye mazrahaash: 7\n",
      "hade bala: 800\n",
      "7, 14, 21, 28, 35, 42, 49, 56, 63, 70, 77, 84, 91, 98, 105, 112, 119, 126, 133, 140, 147, 154, 161, 168, 175, 182, 189, 196, 203, 210, 217, 224, 231, 238, 245, 252, 259, 266, 273, 280, 287, 294, 301, 308, 315, 322, 329, 336, 343, 350, 357, 364, 371, 378, 385, 392, 399, 406, 413, 420, 427, 434, 441, 448, 455, 462, 469, 476, 483, 490, 497, 504, 511, 518, 525, 532, 539, 546, 553, 560, 567, 574, 581, 588, 595, 602, 609, 616, 623, 630, 637, 644, 651, 658, 665, 672, 679, 686, 693, 700, 707, 714, 721, 728, 735, 742, 749, 756, 763, 770, 777, 784, 791, 798, "
     ]
    }
   ],
   "source": [
    "i = 1\n",
    "a = int(input('adad jahat mohasebye mazrahaash: '))\n",
    "h = int(input('hade bala: '))\n",
    "mazrab = a * i\n",
    "while mazrab <= h:\n",
    "    print(mazrab, end=', ')    \n",
    "    i = i + 1\n",
    "    mazrab = a * i"
   ]
  },
  {
   "cell_type": "code",
   "execution_count": 11,
   "metadata": {},
   "outputs": [
    {
     "name": "stdout",
     "output_type": "stream",
     "text": [
      "adad jahat mohasebye mazrahaash: 7\n",
      "hade bala: 800\n",
      "805\n"
     ]
    }
   ],
   "source": [
    "i = 1\n",
    "a = int(input('adad jahat mohasebye mazrahaash: '))\n",
    "h = int(input('hade bala: '))\n",
    "mazrab = a * i\n",
    "while mazrab <= h:        \n",
    "    i = i + 1\n",
    "    mazrab = a * i\n",
    "print(mazrab)"
   ]
  },
  {
   "cell_type": "code",
   "execution_count": 14,
   "metadata": {},
   "outputs": [
    {
     "name": "stdout",
     "output_type": "stream",
     "text": [
      "adad jahat mohasebye mazrahaash: 7\n",
      "tedad tkrar: 50\n",
      "7 14 21 28 35 42 49 56 63 70 77 84 91 98 105 112 119 126 133 140 147 154 161 168 175 182 189 196 203 210 217 224 231 238 245 252 259 266 273 280 287 294 301 308 315 322 329 336 343 350 "
     ]
    }
   ],
   "source": [
    "i = 1\n",
    "a = int(input('adad jahat mohasebye mazrahaash: '))\n",
    "t = int(input('tedad tkrar: '))\n",
    "mazrab = a * i\n",
    "while i <= t:\n",
    "    print(mazrab, end=' ')    \n",
    "    i = i + 1\n",
    "    mazrab = a * i"
   ]
  },
  {
   "cell_type": "code",
   "execution_count": 17,
   "metadata": {},
   "outputs": [
    {
     "name": "stdout",
     "output_type": "stream",
     "text": [
      "10\n",
      "9\n",
      "8\n",
      "7\n",
      "6\n",
      "5\n",
      "4\n",
      "3\n",
      "2\n",
      "1\n",
      "Atash!\n"
     ]
    }
   ],
   "source": [
    "n = 10\n",
    "while n > 0:\n",
    "    print(n)\n",
    "    n = n - 1\n",
    "print('Atash!')"
   ]
  },
  {
   "cell_type": "code",
   "execution_count": 1,
   "metadata": {},
   "outputs": [
    {
     "name": "stdout",
     "output_type": "stream",
     "text": [
      "adadi ra vared konid ta morakkab bodan an barressi o gozaresh shavad: 545\n",
      "545 adadi morakkab ast!\n"
     ]
    }
   ],
   "source": [
    "n = int(input('adadi ra vared konid ta morakkab bodan an barressi o gozaresh shavad: '))\n",
    "i = 2\n",
    "h = n // 2 + 1\n",
    "morakkab = 0 # parcham nesandahandee morakkab adad\n",
    "while i <= h:\n",
    "    if n % i == 0:\n",
    "        morakkab = 1\n",
    "    i = i + 1\n",
    "if morakkab == 1:\n",
    "    print(n, 'adadi morakkab ast!')\n",
    "else:\n",
    "    print(n, 'adadi avval ast!')"
   ]
  },
  {
   "cell_type": "code",
   "execution_count": 1,
   "metadata": {},
   "outputs": [
    {
     "name": "stdout",
     "output_type": "stream",
     "text": [
      "adadi ra vared konid ta morakkab bodan an barressi o gozaresh shavad: 150\n",
      "150 adadi morakkab ast!\n"
     ]
    }
   ],
   "source": [
    "n = int(input('adadi ra vared konid ta morakkab bodan an barressi o gozaresh shavad: '))\n",
    "i = 2\n",
    "h = n // 2 + 1\n",
    "morakkab = 0 # parcham nesandahandee morakkab adad\n",
    "while i <= h:\n",
    "    if n % i == 0:\n",
    "        morakkab = 1\n",
    "        i = h + 1\n",
    "    i = i + 1\n",
    "if morakkab == 1:\n",
    "    print(n, 'adadi morakkab ast!')\n",
    "else:\n",
    "    print(n, 'adadi avval ast!')"
   ]
  },
  {
   "cell_type": "code",
   "execution_count": 4,
   "metadata": {},
   "outputs": [
    {
     "name": "stdout",
     "output_type": "stream",
     "text": [
      "adadi ra vared konid ta morakkab bodan an barressi o gozaresh shavad: 45\n",
      "45 adadi morakkab ast!\n"
     ]
    }
   ],
   "source": [
    "n = int(input('adadi ra vared konid ta morakkab bodan an barressi o gozaresh shavad: '))\n",
    "i = 2\n",
    "h = n // 2 + 1\n",
    "while i <= h:\n",
    "    if n % i == 0:        \n",
    "        print(n, 'adadi morakkab ast!')\n",
    "        break\n",
    "    i = i + 1\n"
   ]
  },
  {
   "cell_type": "code",
   "execution_count": 1,
   "metadata": {},
   "outputs": [
    {
     "name": "stdout",
     "output_type": "stream",
     "text": [
      "2\n",
      "4\n",
      "6\n",
      "8\n",
      "10\n",
      "12\n",
      "14\n",
      "16\n",
      "18\n",
      "20\n"
     ]
    }
   ],
   "source": [
    "j = 1\n",
    "while j < 21:\n",
    "    if j % 2 == 0:\n",
    "        print(j)\n",
    "    j = j + 1\n"
   ]
  },
  {
   "cell_type": "code",
   "execution_count": 2,
   "metadata": {},
   "outputs": [
    {
     "name": "stdout",
     "output_type": "stream",
     "text": [
      "2\n",
      "4\n",
      "6\n",
      "8\n",
      "10\n",
      "12\n",
      "14\n",
      "16\n",
      "18\n",
      "20\n"
     ]
    }
   ],
   "source": [
    "j = 2\n",
    "while j < 21:\n",
    "    print(j)\n",
    "    j = j + 2\n"
   ]
  },
  {
   "cell_type": "code",
   "execution_count": 9,
   "metadata": {},
   "outputs": [
    {
     "name": "stdout",
     "output_type": "stream",
     "text": [
      "6 12 18 24 30 36 42 48 54 60 66 72 78 84 90 96 "
     ]
    }
   ],
   "source": [
    "n = 6\n",
    "\n",
    "while n <= 100:\n",
    "    if n % 6 == 0:\n",
    "        print(n, end=' ')\n",
    "    n = n + 1"
   ]
  },
  {
   "cell_type": "code",
   "execution_count": 13,
   "metadata": {
    "scrolled": true
   },
   "outputs": [
    {
     "name": "stdout",
     "output_type": "stream",
     "text": [
      "6  =  1  +  2  +  3\n",
      "9  =  2  +  3  +  4\n",
      "12  =  3  +  4  +  5\n",
      "15  =  4  +  5  +  6\n",
      "18  =  5  +  6  +  7\n",
      "21  =  6  +  7  +  8\n",
      "24  =  7  +  8  +  9\n",
      "27  =  8  +  9  +  10\n",
      "30  =  9  +  10  +  11\n",
      "33  =  10  +  11  +  12\n",
      "36  =  11  +  12  +  13\n",
      "39  =  12  +  13  +  14\n",
      "42  =  13  +  14  +  15\n",
      "45  =  14  +  15  +  16\n",
      "48  =  15  +  16  +  17\n",
      "51  =  16  +  17  +  18\n",
      "54  =  17  +  18  +  19\n",
      "57  =  18  +  19  +  20\n",
      "60  =  19  +  20  +  21\n",
      "63  =  20  +  21  +  22\n",
      "66  =  21  +  22  +  23\n",
      "69  =  22  +  23  +  24\n",
      "72  =  23  +  24  +  25\n",
      "75  =  24  +  25  +  26\n",
      "78  =  25  +  26  +  27\n",
      "81  =  26  +  27  +  28\n",
      "84  =  27  +  28  +  29\n",
      "87  =  28  +  29  +  30\n",
      "90  =  29  +  30  +  31\n",
      "93  =  30  +  31  +  32\n",
      "96  =  31  +  32  +  33\n",
      "99  =  32  +  33  +  34\n",
      "102  =  33  +  34  +  35\n"
     ]
    }
   ],
   "source": [
    "n = 1\n",
    "j = 0\n",
    "while j <= 100:\n",
    "    j = 3 * n + 3# j= n + n+1 + n+2\n",
    "    print(j, ' = ', n, ' + ', n+1, ' + ', n+2)\n",
    "    n = n + 1"
   ]
  },
  {
   "cell_type": "code",
   "execution_count": 5,
   "metadata": {},
   "outputs": [
    {
     "name": "stdout",
     "output_type": "stream",
     "text": [
      "1\n",
      "4\n",
      "9\n",
      "16\n",
      "25\n",
      "36\n",
      "49\n",
      "64\n",
      "81\n"
     ]
    }
   ],
   "source": [
    "i = 1\n",
    "i2 = i * i\n",
    "while i2 < 100: \n",
    "    print(i2)\n",
    "    i = i + 1\n",
    "    i2 = i ** 2"
   ]
  },
  {
   "cell_type": "code",
   "execution_count": 9,
   "metadata": {
    "scrolled": true
   },
   "outputs": [
    {
     "name": "stdout",
     "output_type": "stream",
     "text": [
      "a\n",
      "d\n",
      "a\n",
      "d\n",
      "e\n",
      " \n",
      "x\n",
      " \n",
      "b\n",
      "a\n",
      "r\n",
      "a\n",
      "b\n",
      "a\n",
      "r\n",
      " \n",
      "b\n",
      "a\n"
     ]
    }
   ],
   "source": [
    "x = 'adade x barabar ba'\n",
    "for n in x:\n",
    "    print(n)\n"
   ]
  },
  {
   "cell_type": "code",
   "execution_count": 3,
   "metadata": {
    "scrolled": true
   },
   "outputs": [
    {
     "name": "stdout",
     "output_type": "stream",
     "text": [
      "a d a d e   x   b a r a b a r   b a   k h o d a s h   a s t "
     ]
    }
   ],
   "source": [
    "x = 'adade x barabar ba khodash ast'\n",
    "for n in x:\n",
    "    print(n, end=' ')\n"
   ]
  },
  {
   "cell_type": "code",
   "execution_count": 21,
   "metadata": {},
   "outputs": [
    {
     "name": "stdout",
     "output_type": "stream",
     "text": [
      "q o s t a n t a n i e "
     ]
    }
   ],
   "source": [
    "x = 'qostantanie'\n",
    "for n in x:\n",
    "    print(n, end=' ')\n"
   ]
  },
  {
   "cell_type": "code",
   "execution_count": 24,
   "metadata": {},
   "outputs": [
    {
     "name": "stdout",
     "output_type": "stream",
     "text": [
      "q\n",
      "o\n",
      "s\n",
      "t\n",
      "a\n",
      "n\n",
      "t\n",
      "a\n",
      "n\n",
      "i\n",
      "e\n"
     ]
    }
   ],
   "source": [
    "x = 'qostantanie'\n",
    "for nevise in x:\n",
    "    print(n)"
   ]
  },
  {
   "cell_type": "code",
   "execution_count": 29,
   "metadata": {},
   "outputs": [
    {
     "name": "stdout",
     "output_type": "stream",
     "text": [
      "10,20,30\n"
     ]
    }
   ],
   "source": [
    "print( 10, 20 , 30, sep=',')"
   ]
  },
  {
   "cell_type": "code",
   "execution_count": null,
   "metadata": {},
   "outputs": [],
   "source": [
    "jame_kol = 0\n",
    "for adad in [2, 3, 0, 7, 19]:\n",
    "    jame_kol = jame_kol + adad\n",
    "print('jame barabar ba = ', jame_kol)"
   ]
  },
  {
   "cell_type": "code",
   "execution_count": 32,
   "metadata": {},
   "outputs": [
    {
     "name": "stdout",
     "output_type": "stream",
     "text": [
      "jame barabar ba =  31\n"
     ]
    }
   ],
   "source": [
    "adadha = [2, 3, 0, 7, 19]\n",
    "jame_kol = 0\n",
    "for adad in adadha:\n",
    "    jame_kol = jame_kol + adad\n",
    "print('jame barabar ba = ', jame_kol)"
   ]
  },
  {
   "cell_type": "code",
   "execution_count": 33,
   "metadata": {},
   "outputs": [
    {
     "name": "stdout",
     "output_type": "stream",
     "text": [
      "jame barabar ba =  31\n"
     ]
    }
   ],
   "source": [
    "adadha = [2, 3, 0, 7, 19]\n",
    "jame_kol = 0\n",
    "for adad in adadha:\n",
    "    jame_kol += adad\n",
    "print('jame barabar ba = ', jame_kol)"
   ]
  },
  {
   "cell_type": "code",
   "execution_count": 35,
   "metadata": {},
   "outputs": [
    {
     "name": "stdout",
     "output_type": "stream",
     "text": [
      "zarb kol barabar ba =  24\n"
     ]
    }
   ],
   "source": [
    "adadha = [2, 3, 4]\n",
    "zarb_kol = 1\n",
    "for adad in adadha:\n",
    "    zarb_kol *= adad\n",
    "print('zarb kol barabar ba = ', zarb_kol)"
   ]
  },
  {
   "cell_type": "code",
   "execution_count": 38,
   "metadata": {},
   "outputs": [
    {
     "name": "stdout",
     "output_type": "stream",
     "text": [
      "0\n",
      "1\n",
      "2\n",
      "3\n",
      "4\n",
      "5\n",
      "6\n",
      "7\n",
      "8\n",
      "9\n"
     ]
    }
   ],
   "source": [
    "for shomarande in range(10):\n",
    "    print(shomarande)"
   ]
  },
  {
   "cell_type": "code",
   "execution_count": 42,
   "metadata": {
    "collapsed": true
   },
   "outputs": [
    {
     "name": "stdout",
     "output_type": "stream",
     "text": [
      "0 be tavane 3 =  0\n",
      "1 be tavane 3 =  1\n",
      "2 be tavane 3 =  8\n",
      "3 be tavane 3 =  27\n",
      "4 be tavane 3 =  64\n",
      "5 be tavane 3 =  125\n",
      "6 be tavane 3 =  216\n",
      "7 be tavane 3 =  343\n",
      "8 be tavane 3 =  512\n",
      "9 be tavane 3 =  729\n"
     ]
    }
   ],
   "source": [
    "for i in range(10):\n",
    "    print(i, 'be tavane 3 = ', i ** 3)"
   ]
  },
  {
   "cell_type": "markdown",
   "metadata": {},
   "source": [
    "میانگین نمرات در فهرست بدون استفاده از تابع \n",
    "len"
   ]
  },
  {
   "cell_type": "code",
   "execution_count": 2,
   "metadata": {},
   "outputs": [
    {
     "name": "stdout",
     "output_type": "stream",
     "text": [
      "miangin barabar ba: 14.67\n",
      "miangin:  14.666666666666666\n"
     ]
    }
   ],
   "source": [
    "nomarat = [20, 4, 13, 15, 17, 19]\n",
    "jame_kol = 0\n",
    "sh = 0\n",
    "for i in nomarat:\n",
    "    jame_kol += i\n",
    "    sh += 1\n",
    "m = jame_kol / sh\n",
    "print(f'miangin barabar ba: {m:.2f}')\n",
    "print('miangin: ', m)"
   ]
  },
  {
   "cell_type": "code",
   "execution_count": 11,
   "metadata": {},
   "outputs": [
    {
     "name": "stdout",
     "output_type": "stream",
     "text": [
      "Vorode nomre, -1 jahat payan: 15\n",
      "Vorode nomre, -1 jahat payan: 14\n",
      "Vorode nomre, -1 jahat payan: 14\n",
      "Vorode nomre, -1 jahat payan: -1\n",
      "miangin: 14.33\n",
      "moadel barabare ba: 14.333\n",
      "miangin:  14.333333333333334\n"
     ]
    }
   ],
   "source": [
    "nomre = float(input('Vorode nomre, -1 jahat payan: '))\n",
    "kol = 0\n",
    "sh = 0\n",
    "while nomre != -1:\n",
    "    kol += nomre\n",
    "    sh +=1\n",
    "    nomre = float(input('Vorode nomre, -1 jahat payan: '))\n",
    "\n",
    "if sh == 0:\n",
    "    print('Adadi vared nashode ast')\n",
    "else:\n",
    "    m = kol / sh\n",
    "    print(f'miangin: {m:.2f}')\n",
    "    print(f'moadel barabare ba: {m:.3f}')\n",
    "    print('miangin: ', m)"
   ]
  },
  {
   "cell_type": "code",
   "execution_count": 8,
   "metadata": {},
   "outputs": [
    {
     "name": "stdout",
     "output_type": "stream",
     "text": [
      "5 6 7 8 "
     ]
    }
   ],
   "source": [
    "for i in range(5, 9):\n",
    "    print(i, end=' ')"
   ]
  },
  {
   "cell_type": "code",
   "execution_count": 9,
   "metadata": {},
   "outputs": [
    {
     "name": "stdout",
     "output_type": "stream",
     "text": [
      "0 2 4 6 8 10 12 14 16 18 "
     ]
    }
   ],
   "source": [
    "for i in range(0, 20, 2):\n",
    "    print(i, end=' ')"
   ]
  },
  {
   "cell_type": "code",
   "execution_count": 11,
   "metadata": {},
   "outputs": [
    {
     "name": "stdout",
     "output_type": "stream",
     "text": [
      "20 19 18 17 16 15 14 13 12 11 10 9 8 7 6 5 4 3 2 1 "
     ]
    }
   ],
   "source": [
    "for i in range(20, 0, -1):\n",
    "    print(i, end=' ')"
   ]
  },
  {
   "cell_type": "code",
   "execution_count": 12,
   "metadata": {},
   "outputs": [
    {
     "name": "stdout",
     "output_type": "stream",
     "text": [
      "20 18 16 14 12 10 8 6 4 2 "
     ]
    }
   ],
   "source": [
    "for i in range(20, 0, -2):\n",
    "    print(i, end=' ')"
   ]
  },
  {
   "cell_type": "code",
   "execution_count": 6,
   "metadata": {},
   "outputs": [
    {
     "name": "stdout",
     "output_type": "stream",
     "text": [
      "adadi ra vared konid ta maqsom-haye an gozaresh shavad: 60\n",
      "60  =  2  *  2  *  3  *  5  *  1\n"
     ]
    }
   ],
   "source": [
    "n = int(input('adadi ra vared konid ta maqsom-haye an gozaresh shavad: '))\n",
    "print(n, ' = ', end=' ')\n",
    "while n > 1:\n",
    "    j = 2\n",
    "    while j <= n:\n",
    "        if  not n % j:\n",
    "            print(j, ' * ', end=' ')\n",
    "            n //= j\n",
    "            break            \n",
    "        j += 1\n",
    "print(n)"
   ]
  },
  {
   "cell_type": "code",
   "execution_count": 14,
   "metadata": {},
   "outputs": [
    {
     "name": "stdout",
     "output_type": "stream",
     "text": [
      "0 1 2 3 4 5 6 7 8 9 "
     ]
    }
   ],
   "source": [
    "for adad in range(15):\n",
    "    if adad == 10:\n",
    "        break    \n",
    "    print(adad, end=' ')"
   ]
  },
  {
   "cell_type": "code",
   "execution_count": 15,
   "metadata": {},
   "outputs": [
    {
     "name": "stdout",
     "output_type": "stream",
     "text": [
      "vorod >salam\n",
      "salam\n",
      "vorod >alaik\n",
      "alaik\n",
      "vorod >khobi?\n",
      "khobi?\n",
      "vorod >shokr\n",
      "shokr\n",
      "vorod >dige che khabar?\n",
      "dige che khabar?\n",
      "vorod >Tamam\n",
      "Tamam\n",
      "vorod >tamam\n"
     ]
    }
   ],
   "source": [
    "while True:\n",
    "    khatt = input('vorod >')\n",
    "    if khatt == 'tamam':\n",
    "        break\n",
    "    print(khatt)"
   ]
  },
  {
   "cell_type": "code",
   "execution_count": 27,
   "metadata": {},
   "outputs": [
    {
     "name": "stdout",
     "output_type": "stream",
     "text": [
      "18.333333333333332\n",
      "11.921212121212122\n",
      "10.196752476467779\n",
      "10.050933448634424\n",
      "10.049875676787314\n",
      "10.04987562112089\n"
     ]
    }
   ],
   "source": [
    "a = 101\n",
    "\n",
    "x = 3\n",
    "sh = 0\n",
    "eps = 1e-108\n",
    "while True:\n",
    "    y = (x + a / x) / 2\n",
    "    sh += 1\n",
    "    if abs(y - x) < eps:\n",
    "        break\n",
    "    x = y\n",
    "    print(x)"
   ]
  },
  {
   "cell_type": "code",
   "execution_count": 36,
   "metadata": {},
   "outputs": [
    {
     "name": "stdout",
     "output_type": "stream",
     "text": [
      "18.166666666666668\n"
     ]
    }
   ],
   "source": [
    "a = 100\n",
    "\n",
    "x = 3\n",
    "sh = 0\n",
    "eps = 1e-8\n",
    "y = -2\n",
    "while(abs(y - x) > eps):\n",
    "    y = (x + a / x) / 2\n",
    "    sh += 1    \n",
    "    x = y\n",
    "    print(x)"
   ]
  },
  {
   "cell_type": "code",
   "execution_count": 43,
   "metadata": {},
   "outputs": [
    {
     "name": "stdout",
     "output_type": "stream",
     "text": [
      "0 1 2 3 4 5 6 7 8 9 11 13 14 "
     ]
    }
   ],
   "source": [
    "for adad in range(15):\n",
    "    if adad == 10 or adad == 12:\n",
    "        continue\n",
    "    print(adad, end=' ')"
   ]
  },
  {
   "cell_type": "code",
   "execution_count": 46,
   "metadata": {},
   "outputs": [
    {
     "name": "stdout",
     "output_type": "stream",
     "text": [
      "1 2 3 4 5 6 7 8 9 \n",
      "\n",
      "2 4 6 8 10 12 14 16 18 \n",
      "\n",
      "3 6 9 12 15 18 21 24 27 \n",
      "\n",
      "4 8 12 16 20 24 28 32 36 \n",
      "\n",
      "5 10 15 20 25 30 35 40 45 \n",
      "\n",
      "6 12 18 24 30 36 42 48 54 \n",
      "\n",
      "7 14 21 28 35 42 49 56 63 \n",
      "\n",
      "8 16 24 32 40 48 56 64 72 \n",
      "\n",
      "9 18 27 36 45 54 63 72 81 \n",
      "\n"
     ]
    }
   ],
   "source": [
    "m = 10\n",
    "\n",
    "for i in range(1, m):\n",
    "    for j in range(1, m):\n",
    "        print( i * j, end=' ')\n",
    "        if j == m-1:\n",
    "            print('\\n')"
   ]
  },
  {
   "cell_type": "code",
   "execution_count": 55,
   "metadata": {},
   "outputs": [
    {
     "name": "stdout",
     "output_type": "stream",
     "text": [
      "   1\n",
      "   2\n",
      "   3\n",
      "   4\n",
      "   5\n",
      "   6\n",
      "   7\n",
      "   8\n",
      "   9\n",
      "  10\n",
      "  11\n",
      "  12\n",
      "  13\n",
      "  14\n",
      "  15\n",
      "  16\n",
      "  17\n",
      "  18\n",
      "  19\n",
      "  20\n",
      "  21\n",
      "  22\n",
      "  23\n",
      "  24\n",
      "  25\n",
      "  26\n",
      "  27\n",
      "  28\n",
      "  29\n",
      "  30\n",
      "  31\n",
      "  32\n",
      "  33\n",
      "  34\n",
      "  35\n",
      "  36\n",
      "  37\n",
      "  38\n",
      "  39\n",
      "  40\n",
      "  41\n",
      "  42\n",
      "  43\n",
      "  44\n",
      "  45\n",
      "  46\n",
      "  47\n",
      "  48\n",
      "  49\n",
      "  50\n",
      "  51\n",
      "  52\n",
      "  53\n",
      "  54\n",
      "  55\n",
      "  56\n",
      "  57\n",
      "  58\n",
      "  59\n",
      "  60\n",
      "  61\n",
      "  62\n",
      "  63\n",
      "  64\n",
      "  65\n",
      "  66\n",
      "  67\n",
      "  68\n",
      "  69\n",
      "  70\n",
      "  71\n",
      "  72\n",
      "  73\n",
      "  74\n",
      "  75\n",
      "  76\n",
      "  77\n",
      "  78\n",
      "  79\n",
      "  80\n",
      "  81\n",
      "  82\n",
      "  83\n",
      "  84\n",
      "  85\n",
      "  86\n",
      "  87\n",
      "  88\n",
      "  89\n",
      "  90\n",
      "  91\n",
      "  92\n",
      "  93\n",
      "  94\n",
      "  95\n",
      "  96\n",
      "  97\n",
      "  98\n",
      "  99\n",
      " 100\n",
      " 101\n",
      " 102\n",
      " 103\n",
      " 104\n",
      " 105\n",
      " 106\n",
      " 107\n",
      " 108\n",
      " 109\n",
      " 110\n",
      " 111\n",
      " 112\n",
      " 113\n",
      " 114\n",
      " 115\n",
      " 116\n",
      " 117\n",
      " 118\n",
      " 119\n",
      " 120\n",
      " 121\n",
      " 122\n",
      " 123\n",
      " 124\n",
      " 125\n",
      " 126\n",
      " 127\n",
      " 128\n",
      " 129\n",
      " 130\n",
      " 131\n",
      " 132\n",
      " 133\n",
      " 134\n",
      " 135\n",
      " 136\n",
      " 137\n",
      " 138\n",
      " 139\n",
      " 140\n",
      " 141\n",
      " 142\n",
      " 143\n",
      " 144\n",
      " 145\n",
      " 146\n",
      " 147\n",
      " 148\n",
      " 149\n",
      " 150\n",
      " 151\n",
      " 152\n",
      " 153\n",
      " 154\n",
      " 155\n",
      " 156\n",
      " 157\n",
      " 158\n",
      " 159\n",
      " 160\n",
      " 161\n",
      " 162\n",
      " 163\n",
      " 164\n",
      " 165\n",
      " 166\n",
      " 167\n",
      " 168\n",
      " 169\n",
      " 170\n",
      " 171\n",
      " 172\n",
      " 173\n",
      " 174\n",
      " 175\n",
      " 176\n",
      " 177\n",
      " 178\n",
      " 179\n",
      " 180\n",
      " 181\n",
      " 182\n",
      " 183\n",
      " 184\n",
      " 185\n",
      " 186\n",
      " 187\n",
      " 188\n",
      " 189\n",
      " 190\n",
      " 191\n",
      " 192\n",
      " 193\n",
      " 194\n",
      " 195\n",
      " 196\n",
      " 197\n",
      " 198\n",
      " 199\n",
      " 200\n",
      " 201\n",
      " 202\n",
      " 203\n",
      " 204\n",
      " 205\n",
      " 206\n",
      " 207\n",
      " 208\n",
      " 209\n",
      " 210\n",
      " 211\n",
      " 212\n",
      " 213\n",
      " 214\n",
      " 215\n",
      " 216\n",
      " 217\n",
      " 218\n",
      " 219\n",
      " 220\n",
      " 221\n",
      " 222\n",
      " 223\n",
      " 224\n",
      " 225\n",
      " 226\n",
      " 227\n",
      " 228\n",
      " 229\n",
      " 230\n",
      " 231\n",
      " 232\n",
      " 233\n",
      " 234\n",
      " 235\n",
      " 236\n",
      " 237\n",
      " 238\n",
      " 239\n",
      " 240\n",
      " 241\n",
      " 242\n",
      " 243\n",
      " 244\n",
      " 245\n",
      " 246\n",
      " 247\n",
      " 248\n",
      " 249\n",
      " 250\n",
      " 251\n",
      " 252\n",
      " 253\n",
      " 254\n",
      " 255\n",
      " 256\n",
      " 257\n",
      " 258\n",
      " 259\n",
      " 260\n",
      " 261\n",
      " 262\n",
      " 263\n",
      " 264\n",
      " 265\n",
      " 266\n",
      " 267\n",
      " 268\n",
      " 269\n",
      " 270\n",
      " 271\n",
      " 272\n",
      " 273\n",
      " 274\n",
      " 275\n",
      " 276\n",
      " 277\n",
      " 278\n",
      " 279\n",
      " 280\n",
      " 281\n",
      " 282\n",
      " 283\n",
      " 284\n",
      " 285\n",
      " 286\n",
      " 287\n",
      " 288\n",
      " 289\n",
      " 290\n",
      " 291\n",
      " 292\n",
      " 293\n",
      " 294\n",
      " 295\n",
      " 296\n",
      " 297\n",
      " 298\n",
      " 299\n",
      " 300\n",
      " 301\n",
      " 302\n",
      " 303\n",
      " 304\n",
      " 305\n",
      " 306\n",
      " 307\n",
      " 308\n",
      " 309\n",
      " 310\n",
      " 311\n",
      " 312\n",
      " 313\n",
      " 314\n",
      " 315\n",
      " 316\n",
      " 317\n",
      " 318\n",
      " 319\n",
      " 320\n",
      " 321\n",
      " 322\n",
      " 323\n",
      " 324\n",
      " 325\n",
      " 326\n",
      " 327\n",
      " 328\n",
      " 329\n",
      " 330\n",
      " 331\n",
      " 332\n",
      " 333\n",
      " 334\n",
      " 335\n",
      " 336\n",
      " 337\n",
      " 338\n",
      " 339\n",
      " 340\n",
      " 341\n",
      " 342\n",
      " 343\n",
      " 344\n",
      " 345\n",
      " 346\n",
      " 347\n",
      " 348\n",
      " 349\n",
      " 350\n",
      " 351\n",
      " 352\n",
      " 353\n",
      " 354\n",
      " 355\n",
      " 356\n",
      " 357\n",
      " 358\n",
      " 359\n",
      " 360\n",
      " 361\n",
      " 362\n",
      " 363\n",
      " 364\n",
      " 365\n",
      " 366\n",
      " 367\n",
      " 368\n",
      " 369\n",
      " 370\n",
      " 371\n",
      " 372\n",
      " 373\n",
      " 374\n",
      " 375\n",
      " 376\n",
      " 377\n",
      " 378\n",
      " 379\n",
      " 380\n",
      " 381\n",
      " 382\n",
      " 383\n",
      " 384\n",
      " 385\n",
      " 386\n",
      " 387\n",
      " 388\n",
      " 389\n",
      " 390\n",
      " 391\n",
      " 392\n",
      " 393\n",
      " 394\n",
      " 395\n",
      " 396\n",
      " 397\n",
      " 398\n",
      " 399\n",
      " 400\n",
      " 401\n",
      " 402\n",
      " 403\n",
      " 404\n",
      " 405\n",
      " 406\n",
      " 407\n",
      " 408\n",
      " 409\n",
      " 410\n",
      " 411\n",
      " 412\n",
      " 413\n",
      " 414\n",
      " 415\n",
      " 416\n",
      " 417\n",
      " 418\n",
      " 419\n",
      " 420\n",
      " 421\n",
      " 422\n",
      " 423\n",
      " 424\n",
      " 425\n",
      " 426\n",
      " 427\n",
      " 428\n",
      " 429\n",
      " 430\n",
      " 431\n",
      " 432\n",
      " 433\n",
      " 434\n",
      " 435\n",
      " 436\n",
      " 437\n",
      " 438\n",
      " 439\n",
      " 440\n",
      " 441\n",
      " 442\n",
      " 443\n",
      " 444\n",
      " 445\n",
      " 446\n",
      " 447\n",
      " 448\n",
      " 449\n",
      " 450\n",
      " 451\n",
      " 452\n",
      " 453\n",
      " 454\n",
      " 455\n",
      " 456\n",
      " 457\n",
      " 458\n",
      " 459\n",
      " 460\n",
      " 461\n",
      " 462\n",
      " 463\n",
      " 464\n",
      " 465\n",
      " 466\n",
      " 467\n",
      " 468\n",
      " 469\n",
      " 470\n",
      " 471\n",
      " 472\n",
      " 473\n",
      " 474\n",
      " 475\n",
      " 476\n",
      " 477\n",
      " 478\n",
      " 479\n",
      " 480\n",
      " 481\n",
      " 482\n",
      " 483\n",
      " 484\n",
      " 485\n",
      " 486\n",
      " 487\n",
      " 488\n",
      " 489\n",
      " 490\n",
      " 491\n",
      " 492\n",
      " 493\n",
      " 494\n",
      " 495\n",
      " 496\n",
      " 497\n",
      " 498\n",
      " 499\n",
      " 500\n",
      " 501\n",
      " 502\n",
      " 503\n",
      " 504\n",
      " 505\n",
      " 506\n",
      " 507\n",
      " 508\n",
      " 509\n",
      " 510\n",
      " 511\n",
      " 512\n",
      " 513\n",
      " 514\n",
      " 515\n",
      " 516\n",
      " 517\n",
      " 518\n",
      " 519\n",
      " 520\n",
      " 521\n",
      " 522\n",
      " 523\n",
      " 524\n",
      " 525\n",
      " 526\n",
      " 527\n",
      " 528\n",
      " 529\n",
      " 530\n",
      " 531\n",
      " 532\n",
      " 533\n",
      " 534\n",
      " 535\n",
      " 536\n",
      " 537\n",
      " 538\n",
      " 539\n",
      " 540\n",
      " 541\n",
      " 542\n",
      " 543\n",
      " 544\n",
      " 545\n",
      " 546\n",
      " 547\n",
      " 548\n",
      " 549\n",
      " 550\n",
      " 551\n",
      " 552\n",
      " 553\n",
      " 554\n",
      " 555\n",
      " 556\n",
      " 557\n",
      " 558\n",
      " 559\n",
      " 560\n",
      " 561\n",
      " 562\n",
      " 563\n",
      " 564\n",
      " 565\n",
      " 566\n",
      " 567\n",
      " 568\n",
      " 569\n",
      " 570\n",
      " 571\n",
      " 572\n",
      " 573\n",
      " 574\n",
      " 575\n",
      " 576\n",
      " 577\n",
      " 578\n",
      " 579\n",
      " 580\n",
      " 581\n",
      " 582\n",
      " 583\n",
      " 584\n",
      " 585\n",
      " 586\n",
      " 587\n",
      " 588\n",
      " 589\n",
      " 590\n",
      " 591\n",
      " 592\n",
      " 593\n",
      " 594\n",
      " 595\n",
      " 596\n",
      " 597\n",
      " 598\n",
      " 599\n",
      " 600\n",
      " 601\n",
      " 602\n",
      " 603\n",
      " 604\n",
      " 605\n",
      " 606\n",
      " 607\n",
      " 608\n",
      " 609\n",
      " 610\n",
      " 611\n",
      " 612\n",
      " 613\n",
      " 614\n",
      " 615\n",
      " 616\n",
      " 617\n",
      " 618\n",
      " 619\n",
      " 620\n",
      " 621\n",
      " 622\n",
      " 623\n",
      " 624\n",
      " 625\n",
      " 626\n",
      " 627\n",
      " 628\n",
      " 629\n",
      " 630\n",
      " 631\n",
      " 632\n",
      " 633\n",
      " 634\n",
      " 635\n",
      " 636\n",
      " 637\n",
      " 638\n",
      " 639\n",
      " 640\n",
      " 641\n",
      " 642\n",
      " 643\n",
      " 644\n",
      " 645\n",
      " 646\n",
      " 647\n",
      " 648\n",
      " 649\n",
      " 650\n",
      " 651\n",
      " 652\n",
      " 653\n",
      " 654\n",
      " 655\n",
      " 656\n",
      " 657\n",
      " 658\n",
      " 659\n",
      " 660\n",
      " 661\n",
      " 662\n",
      " 663\n",
      " 664\n",
      " 665\n",
      " 666\n",
      " 667\n",
      " 668\n",
      " 669\n",
      " 670\n",
      " 671\n",
      " 672\n",
      " 673\n",
      " 674\n",
      " 675\n",
      " 676\n",
      " 677\n",
      " 678\n",
      " 679\n",
      " 680\n",
      " 681\n",
      " 682\n",
      " 683\n",
      " 684\n",
      " 685\n",
      " 686\n",
      " 687\n",
      " 688\n",
      " 689\n",
      " 690\n",
      " 691\n",
      " 692\n",
      " 693\n",
      " 694\n",
      " 695\n",
      " 696\n",
      " 697\n",
      " 698\n",
      " 699\n",
      " 700\n",
      " 701\n",
      " 702\n",
      " 703\n",
      " 704\n",
      " 705\n",
      " 706\n",
      " 707\n",
      " 708\n",
      " 709\n",
      " 710\n",
      " 711\n",
      " 712\n",
      " 713\n",
      " 714\n",
      " 715\n",
      " 716\n",
      " 717\n",
      " 718\n",
      " 719\n",
      " 720\n",
      " 721\n",
      " 722\n",
      " 723\n",
      " 724\n",
      " 725\n",
      " 726\n",
      " 727\n",
      " 728\n",
      " 729\n",
      " 730\n",
      " 731\n",
      " 732\n",
      " 733\n",
      " 734\n",
      " 735\n",
      " 736\n",
      " 737\n",
      " 738\n",
      " 739\n",
      " 740\n",
      " 741\n",
      " 742\n",
      " 743\n",
      " 744\n",
      " 745\n",
      " 746\n",
      " 747\n",
      " 748\n",
      " 749\n",
      " 750\n",
      " 751\n",
      " 752\n",
      " 753\n",
      " 754\n",
      " 755\n",
      " 756\n",
      " 757\n",
      " 758\n",
      " 759\n",
      " 760\n",
      " 761\n",
      " 762\n",
      " 763\n",
      " 764\n",
      " 765\n",
      " 766\n",
      " 767\n",
      " 768\n",
      " 769\n",
      " 770\n",
      " 771\n",
      " 772\n",
      " 773\n",
      " 774\n",
      " 775\n",
      " 776\n",
      " 777\n",
      " 778\n",
      " 779\n",
      " 780\n",
      " 781\n",
      " 782\n",
      " 783\n",
      " 784\n",
      " 785\n",
      " 786\n",
      " 787\n",
      " 788\n",
      " 789\n",
      " 790\n",
      " 791\n",
      " 792\n",
      " 793\n",
      " 794\n",
      " 795\n",
      " 796\n",
      " 797\n",
      " 798\n",
      " 799\n",
      " 800\n",
      " 801\n",
      " 802\n",
      " 803\n",
      " 804\n",
      " 805\n",
      " 806\n",
      " 807\n",
      " 808\n",
      " 809\n",
      " 810\n",
      " 811\n",
      " 812\n",
      " 813\n",
      " 814\n",
      " 815\n",
      " 816\n",
      " 817\n",
      " 818\n",
      " 819\n",
      " 820\n",
      " 821\n",
      " 822\n",
      " 823\n",
      " 824\n",
      " 825\n",
      " 826\n",
      " 827\n",
      " 828\n",
      " 829\n",
      " 830\n",
      " 831\n",
      " 832\n",
      " 833\n",
      " 834\n",
      " 835\n",
      " 836\n",
      " 837\n",
      " 838\n",
      " 839\n",
      " 840\n",
      " 841\n",
      " 842\n",
      " 843\n",
      " 844\n",
      " 845\n",
      " 846\n",
      " 847\n",
      " 848\n",
      " 849\n",
      " 850\n",
      " 851\n",
      " 852\n",
      " 853\n",
      " 854\n",
      " 855\n",
      " 856\n",
      " 857\n",
      " 858\n",
      " 859\n",
      " 860\n",
      " 861\n",
      " 862\n",
      " 863\n",
      " 864\n",
      " 865\n",
      " 866\n",
      " 867\n",
      " 868\n",
      " 869\n",
      " 870\n",
      " 871\n",
      " 872\n",
      " 873\n",
      " 874\n",
      " 875\n",
      " 876\n",
      " 877\n",
      " 878\n",
      " 879\n",
      " 880\n",
      " 881\n",
      " 882\n",
      " 883\n",
      " 884\n",
      " 885\n",
      " 886\n",
      " 887\n",
      " 888\n",
      " 889\n",
      " 890\n",
      " 891\n",
      " 892\n",
      " 893\n",
      " 894\n",
      " 895\n",
      " 896\n",
      " 897\n",
      " 898\n",
      " 899\n",
      " 900\n",
      " 901\n",
      " 902\n",
      " 903\n",
      " 904\n",
      " 905\n",
      " 906\n",
      " 907\n",
      " 908\n",
      " 909\n",
      " 910\n",
      " 911\n",
      " 912\n",
      " 913\n",
      " 914\n",
      " 915\n",
      " 916\n",
      " 917\n",
      " 918\n",
      " 919\n",
      " 920\n",
      " 921\n",
      " 922\n",
      " 923\n",
      " 924\n",
      " 925\n",
      " 926\n",
      " 927\n",
      " 928\n",
      " 929\n",
      " 930\n",
      " 931\n",
      " 932\n",
      " 933\n",
      " 934\n",
      " 935\n",
      " 936\n",
      " 937\n",
      " 938\n",
      " 939\n",
      " 940\n",
      " 941\n",
      " 942\n",
      " 943\n",
      " 944\n",
      " 945\n",
      " 946\n",
      " 947\n",
      " 948\n",
      " 949\n",
      " 950\n",
      " 951\n",
      " 952\n",
      " 953\n",
      " 954\n",
      " 955\n",
      " 956\n",
      " 957\n",
      " 958\n",
      " 959\n",
      " 960\n",
      " 961\n",
      " 962\n",
      " 963\n",
      " 964\n",
      " 965\n",
      " 966\n",
      " 967\n",
      " 968\n",
      " 969\n",
      " 970\n",
      " 971\n",
      " 972\n",
      " 973\n",
      " 974\n",
      " 975\n",
      " 976\n",
      " 977\n",
      " 978\n",
      " 979\n",
      " 980\n",
      " 981\n",
      " 982\n",
      " 983\n",
      " 984\n",
      " 985\n",
      " 986\n",
      " 987\n",
      " 988\n",
      " 989\n",
      " 990\n",
      " 991\n",
      " 992\n",
      " 993\n",
      " 994\n",
      " 995\n",
      " 996\n",
      " 997\n",
      " 998\n",
      " 999\n"
     ]
    }
   ],
   "source": [
    "for j in range(1,1000):\n",
    "    print(f'{j:>4}')"
   ]
  },
  {
   "cell_type": "code",
   "execution_count": 59,
   "metadata": {},
   "outputs": [
    {
     "name": "stdout",
     "output_type": "stream",
     "text": [
      "         1       2       3       4       5       6       7       8       9 \n",
      "1:       1       2       3       4       5       6       7       8       9 \n",
      "2:       2       4       6       8      10      12      14      16      18 \n",
      "3:       3       6       9      12      15      18      21      24      27 \n",
      "4:       4       8      12      16      20      24      28      32      36 \n",
      "5:       5      10      15      20      25      30      35      40      45 \n",
      "6:       6      12      18      24      30      36      42      48      54 \n",
      "7:       7      14      21      28      35      42      49      56      63 \n",
      "8:       8      16      24      32      40      48      56      64      72 \n",
      "9:       9      18      27      36      45      54      63      72      81 \n"
     ]
    }
   ],
   "source": [
    "m = 10\n",
    "print(end='   ')\n",
    "for j in range(1, m):\n",
    "    print(f'{j:>7}', end=' ')\n",
    "print()\n",
    "for i in range(1, m):\n",
    "    print(i, end=': ')\n",
    "    for j in range(1, m):\n",
    "        print(f'{i * j:>7}', end=' ')\n",
    "    print()    "
   ]
  },
  {
   "cell_type": "code",
   "execution_count": 17,
   "metadata": {},
   "outputs": [
    {
     "name": "stdout",
     "output_type": "stream",
     "text": [
      "\n",
      "\n",
      "    1     2     3     4     5     6     7     8     9    10 \n",
      "\n",
      "   11    12    13    14    15    16    17    18    19    20 \n",
      "\n",
      "   21    22    23    24    25    26    27    28    29    30 \n",
      "\n",
      "   31    32    33    34    35    36    37    38    39    40 \n",
      "\n",
      "   41    42    43    44    45    46    47    48    49    50 \n",
      "\n",
      "   51    52    53    54    55    56    57    58    59    60 \n",
      "\n",
      "   61    62    63    64    65    66    67    68    69    70 \n",
      "\n",
      "   71    72    73    74    75    76    77    78    79    80 \n",
      "\n",
      "   81    82    83    84    85    86    87    88    89    90 \n",
      "\n",
      "   91    92    93    94    95    96    97    98    99   100 "
     ]
    }
   ],
   "source": [
    "for i in range(1,101):    \n",
    "    if ((i - 1) % 10 == 0):\n",
    "        print('\\n')    \n",
    "    print(f'{i:>5}', end=' ')"
   ]
  },
  {
   "cell_type": "code",
   "execution_count": 7,
   "metadata": {},
   "outputs": [
    {
     "name": "stdout",
     "output_type": "stream",
     "text": [
      "    1     2     3     4     5     6     7     8     9    10 \n",
      "\n",
      "   11    12    13    14    15    16    17    18    19    20 \n",
      "\n",
      "   21    22    23    24    25    26    27    28    29    30 \n",
      "\n",
      "   31    32    33    34    35    36    37    38    39    40 \n",
      "\n",
      "   41    42    43    44    45    46    47    48    49    50 \n",
      "\n",
      "   51    52    53    54    55    56    57    58    59    60 \n",
      "\n",
      "   61    62    63    64    65    66    67    68    69    70 \n",
      "\n",
      "   71    72    73    74    75    76    77    78    79    80 \n",
      "\n",
      "   81    82    83    84    85    86    87    88    89    90 \n",
      "\n",
      "   91    92    93    94    95    96    97    98    99   100 \n",
      "\n"
     ]
    }
   ],
   "source": [
    "sh = 1\n",
    "for i in range(1, 11):\n",
    "    for j in range(1, 11):\n",
    "        print(f'{sh:>5}', end=' ')\n",
    "        sh += 1\n",
    "    print('\\n')"
   ]
  }
 ],
 "metadata": {
  "kernelspec": {
   "display_name": "Python 3",
   "language": "python",
   "name": "python3"
  },
  "language_info": {
   "codemirror_mode": {
    "name": "ipython",
    "version": 3
   },
   "file_extension": ".py",
   "mimetype": "text/x-python",
   "name": "python",
   "nbconvert_exporter": "python",
   "pygments_lexer": "ipython3",
   "version": "3.6.2"
  }
 },
 "nbformat": 4,
 "nbformat_minor": 4
}
